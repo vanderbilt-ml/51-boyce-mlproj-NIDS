{
  "nbformat": 4,
  "nbformat_minor": 0,
  "metadata": {
    "colab": {
      "name": "Untitled0.ipynb",
      "provenance": [],
      "authorship_tag": "ABX9TyMs4VTi+qK4eGEFD82FUVWn"
    },
    "kernelspec": {
      "name": "python3",
      "display_name": "Python 3"
    },
    "language_info": {
      "name": "python"
    }
  },
  "cells": [
    {
      "cell_type": "code",
      "execution_count": null,
      "metadata": {
        "id": "DwwyvHdJ3Gcv"
      },
      "outputs": [],
      "source": [
        ""
      ]
    },
    {
      "cell_type": "markdown",
      "source": [
        "#Network Intrusion Detection System Classifier\n",
        "\n",
        "###Background\n",
        "Network Intrusion Detections Systems (NIDS) have been used in network defense for quite some time. It is of great importance, however, to keep NIDS systems updated to identify new and evolving attack types. Researchers at the University of Queensland, Australia have produced consolidated datasets to include attacks against IoT devices and data comprising attacks against multiple test networks. Of particular interest here as well is that the data is, essentially, brand new. \n",
        "\n",
        "###Description\n",
        "The work in this project will focus on using the provided data to create a Machine Learning model that can be used to create a NIDS in my home lab. This is something I have wanted to do for quite some time. I do not have any IoT devices running in the lab at the moment but may in the future and will aply the IoT data here as well.\n",
        "\n",
        "###Metric\n",
        "For now, the goal will be to classify traffic reflected in the dataset - bot, recon, worm, etc - with a score of 60% to allow for human intervention/triage. At the moment, I'm not too worried about DoS as I do not think anyone is DoS'ing me.\n",
        "\n",
        "###Sources\n",
        "Per the request of the researchers in using the data for academic purposes, the following papers are cited:\n",
        "\n",
        "Sarhan, M., Layeghy, S. & Portmann, M. Towards a Standard Feature Set for Network Intrusion Detection System Datasets. Mobile Netw Appl (2021). https://doi.org/10.1007/s11036-021-01843-0\n",
        "\n",
        "M. Sarhan, S. Layeghy, and M. Portmann, An explainable machine learning-based network intrusion detection system for enabling generalisability in securing iot networks, 2021. arXiv:2104.07183 [cs.CR] https://arxiv.org/abs/2104.07183\n",
        "\n",
        "Sarhan M., Layeghy S., Moustafa N., Portmann M. (2021) NetFlow Datasets for Machine Learning-Based Network Intrusion Detection Systems. In: Big Data Technologies and Applications. BDTA 2020, WiCON 2020. Springer, Cham. https://doi.org/10.1007/978-3-030-72802-1_9"
      ],
      "metadata": {
        "id": "WMhydK-F3x45"
      }
    },
    {
      "cell_type": "markdown",
      "source": [
        "##Libraries:"
      ],
      "metadata": {
        "id": "qFI4psdBwImU"
      }
    },
    {
      "cell_type": "code",
      "source": [
        "import pandas as pd\n",
        "import numpy as np\n",
        "import seaborn as sns\n",
        "from sklearn.metrics import roc_curve\n",
        "import matplotlib.pyplot as pyplot\n",
        "from sklearn.model_selection import train_test_split\n",
        "from sklearn.preprocessing import RobustScaler, OneHotEncoder, StandardScaler, MinMaxScaler\n",
        "from sklearn.model_selection import train_test_split, GridSearchCV\n",
        "from sklearn.linear_model import LogisticRegression\n",
        "from sklearn.ensemble import RandomForestClassifier\n",
        "from sklearn.pipeline import Pipeline \n",
        "from sklearn.compose import ColumnTransformer, make_column_selector\n",
        "from sklearn.impute import SimpleImputer\n",
        "from sklearn import metrics\n",
        "from sklearn.tree import DecisionTreeClassifier\n",
        "from sklearn.svm import SVC\n",
        "from sklearn.ensemble import GradientBoostingClassifier\n",
        "from sklearn import config_context\n",
        "from sklearn.metrics import classification_report, confusion_matrix, ConfusionMatrixDisplay"
      ],
      "metadata": {
        "id": "10SkVnkYs8mC"
      },
      "execution_count": 1,
      "outputs": []
    },
    {
      "cell_type": "markdown",
      "source": [
        "##Load data"
      ],
      "metadata": {
        "id": "cia4ejI1Ws8D"
      }
    },
    {
      "cell_type": "code",
      "source": [
        "transactions = pd.read_csv('NF-UQ-NIDS-v2_half.csv', nrows=2000)\n"
      ],
      "metadata": {
        "id": "7J-102puWu3_"
      },
      "execution_count": 76,
      "outputs": []
    },
    {
      "cell_type": "markdown",
      "source": [
        "##Explore Data"
      ],
      "metadata": {
        "id": "aX1UqsoIXgoj"
      }
    },
    {
      "cell_type": "code",
      "source": [
        "#overall info\n",
        "#display(transactions.info())\n",
        "#transactions.describe()\n",
        "transactions.dtypes\n",
        "#transactions.head()"
      ],
      "metadata": {
        "id": "G-VNIv4fXf6d",
        "outputId": "2cb2c1ad-c5f6-4bdd-87e5-992babdd7c0c",
        "colab": {
          "base_uri": "https://localhost:8080/"
        }
      },
      "execution_count": null,
      "outputs": [
        {
          "output_type": "execute_result",
          "data": {
            "text/plain": [
              "IPV4_SRC_ADDR                   object\n",
              "L4_SRC_PORT                      int64\n",
              "IPV4_DST_ADDR                   object\n",
              "L4_DST_PORT                      int64\n",
              "PROTOCOL                         int64\n",
              "L7_PROTO                       float64\n",
              "IN_BYTES                         int64\n",
              "IN_PKTS                          int64\n",
              "OUT_BYTES                        int64\n",
              "OUT_PKTS                         int64\n",
              "TCP_FLAGS                        int64\n",
              "CLIENT_TCP_FLAGS                 int64\n",
              "SERVER_TCP_FLAGS                 int64\n",
              "FLOW_DURATION_MILLISECONDS       int64\n",
              "DURATION_IN                      int64\n",
              "DURATION_OUT                     int64\n",
              "MIN_TTL                          int64\n",
              "MAX_TTL                          int64\n",
              "LONGEST_FLOW_PKT                 int64\n",
              "SHORTEST_FLOW_PKT                int64\n",
              "MIN_IP_PKT_LEN                   int64\n",
              "MAX_IP_PKT_LEN                   int64\n",
              "SRC_TO_DST_SECOND_BYTES        float64\n",
              "DST_TO_SRC_SECOND_BYTES        float64\n",
              "RETRANSMITTED_IN_BYTES           int64\n",
              "RETRANSMITTED_IN_PKTS            int64\n",
              "RETRANSMITTED_OUT_BYTES          int64\n",
              "RETRANSMITTED_OUT_PKTS           int64\n",
              "SRC_TO_DST_AVG_THROUGHPUT        int64\n",
              "DST_TO_SRC_AVG_THROUGHPUT        int64\n",
              "NUM_PKTS_UP_TO_128_BYTES         int64\n",
              "NUM_PKTS_128_TO_256_BYTES        int64\n",
              "NUM_PKTS_256_TO_512_BYTES        int64\n",
              "NUM_PKTS_512_TO_1024_BYTES       int64\n",
              "NUM_PKTS_1024_TO_1514_BYTES      int64\n",
              "TCP_WIN_MAX_IN                   int64\n",
              "TCP_WIN_MAX_OUT                  int64\n",
              "ICMP_TYPE                        int64\n",
              "ICMP_IPV4_TYPE                   int64\n",
              "DNS_QUERY_ID                     int64\n",
              "DNS_QUERY_TYPE                   int64\n",
              "DNS_TTL_ANSWER                   int64\n",
              "FTP_COMMAND_RET_CODE             int64\n",
              "Label                            int64\n",
              "Attack                          object\n",
              "Dataset                         object\n",
              "dtype: object"
            ]
          },
          "metadata": {},
          "execution_count": 3
        }
      ]
    },
    {
      "cell_type": "code",
      "source": [
        "#average packets inbound per session\n",
        "display(transactions[\"IN_PKTS\"].mean())\n",
        "display(\"**************************************************************\")\n",
        "#average packets outbound per session\n",
        "display(transactions[\"OUT_PKTS\"].mean())\n",
        "display(\"**************************************************************\")\n",
        "#Unknown data\n",
        "display(transactions['PROTOCOL'].value_counts())\n",
        "display(transactions['L7_PROTO'].value_counts())"
      ],
      "metadata": {
        "id": "oKEfkDZSZyMU",
        "outputId": "e27d3206-64d0-4d7f-ae0a-cbbc48ee7bf8",
        "colab": {
          "base_uri": "https://localhost:8080/",
          "height": 998
        }
      },
      "execution_count": null,
      "outputs": [
        {
          "output_type": "display_data",
          "data": {
            "text/plain": [
              "7.4145"
            ]
          },
          "metadata": {}
        },
        {
          "output_type": "display_data",
          "data": {
            "text/plain": [
              "'**************************************************************'"
            ],
            "application/vnd.google.colaboratory.intrinsic+json": {
              "type": "string"
            }
          },
          "metadata": {}
        },
        {
          "output_type": "display_data",
          "data": {
            "text/plain": [
              "4.113"
            ]
          },
          "metadata": {}
        },
        {
          "output_type": "display_data",
          "data": {
            "text/plain": [
              "'**************************************************************'"
            ],
            "application/vnd.google.colaboratory.intrinsic+json": {
              "type": "string"
            }
          },
          "metadata": {}
        },
        {
          "output_type": "display_data",
          "data": {
            "text/plain": [
              "6     1230\n",
              "17     767\n",
              "1        2\n",
              "2        1\n",
              "Name: PROTOCOL, dtype: int64"
            ]
          },
          "metadata": {}
        },
        {
          "output_type": "display_data",
          "data": {
            "text/plain": [
              "0.000      665\n",
              "7.000      631\n",
              "188.000    473\n",
              "91.000      44\n",
              "5.126       40\n",
              "1.000       18\n",
              "91.178      13\n",
              "7.178       11\n",
              "41.000      11\n",
              "91.126      10\n",
              "5.178       10\n",
              "131.700      9\n",
              "92.000       9\n",
              "77.000       7\n",
              "5.119        5\n",
              "5.240        4\n",
              "4.000        4\n",
              "5.239        3\n",
              "91.239       3\n",
              "91.140       2\n",
              "7.126        2\n",
              "166.000      2\n",
              "91.120       2\n",
              "91.212       2\n",
              "91.119       1\n",
              "51.000       1\n",
              "5.233        1\n",
              "91.240       1\n",
              "28.000       1\n",
              "91.290       1\n",
              "2.000        1\n",
              "91.233       1\n",
              "29.000       1\n",
              "5.700        1\n",
              "5.000        1\n",
              "10.000       1\n",
              "5.169        1\n",
              "226.000      1\n",
              "131.000      1\n",
              "5.120        1\n",
              "150.000      1\n",
              "5.215        1\n",
              "88.000       1\n",
              "5.212        1\n",
              "Name: L7_PROTO, dtype: int64"
            ]
          },
          "metadata": {}
        }
      ]
    },
    {
      "cell_type": "code",
      "source": [
        "#visualize Labels\n",
        "#1 = malignant\n",
        "#0 = benign\n",
        "labels = transactions['Label'].value_counts()\n",
        "pyplot.pie(labels, labels=labels.index, shadow=True)"
      ],
      "metadata": {
        "id": "910Laaxzb_PG",
        "outputId": "ba2ed435-e109-40c6-dec0-061605abe6bf",
        "colab": {
          "base_uri": "https://localhost:8080/",
          "height": 321
        }
      },
      "execution_count": null,
      "outputs": [
        {
          "output_type": "execute_result",
          "data": {
            "text/plain": [
              "([<matplotlib.patches.Wedge at 0x7f4210459490>,\n",
              "  <matplotlib.patches.Wedge at 0x7f4210459890>],\n",
              " [Text(-0.5359751397368545, 0.9605886994880064, '1'),\n",
              "  Text(0.535975139736854, -0.9605886994880067, '0')])"
            ]
          },
          "metadata": {},
          "execution_count": 5
        },
        {
          "output_type": "display_data",
          "data": {
            "text/plain": [
              "<Figure size 432x288 with 1 Axes>"
            ],
            "image/png": "[encoded data removed]"
          },
          "metadata": {}
        }
      ]
    },
    {
      "cell_type": "code",
      "source": [
        "#visualize PROTOCOL and TCP FLAGS \n",
        "proto = transactions['PROTOCOL'].value_counts()\n",
        "#plt.pie(proto, labels=proto.index, shadow = True)\n",
        "\n",
        "src_port = transactions['L4_SRC_PORT'].value_counts()\n",
        "#plt.pie(src_port, labels=src_port.index, shadow = True)\n",
        "#plt.scatter(x=transactions['L4_SRC_PORT'], y=transactions['PROTOCOL'])\n",
        "tcp_flags = transactions['TCP_FLAGS'].value_counts()\n",
        "\n",
        "#plt.scatter(x=transactions['TCP_FLAGS'], y=transactions['PROTOCOL'])\n",
        "#tcp flag as 0 means not TCP\n",
        "#what this shows is that when TCP flags are 0, the corresponding protocol is not TCP(UDP)\n",
        "\n",
        "protos = transactions.groupby(['PROTOCOL']).size()\n",
        "display(protos)\n",
        "tcp_fls = transactions.groupby(['TCP_FLAGS']).size()\n",
        "display(tcp_fls)\n",
        "\n",
        "pyplot.bar(proto.index, proto.values, width=0.8)"
      ],
      "metadata": {
        "id": "OqtpgNBa9jRC",
        "outputId": "3dfe65dc-0c18-4cf8-a101-a9cda9ee04c0",
        "colab": {
          "base_uri": "https://localhost:8080/",
          "height": 810
        }
      },
      "execution_count": null,
      "outputs": [
        {
          "output_type": "display_data",
          "data": {
            "text/plain": [
              "PROTOCOL\n",
              "1        2\n",
              "2        1\n",
              "6     1230\n",
              "17     767\n",
              "dtype: int64"
            ]
          },
          "metadata": {}
        },
        {
          "output_type": "display_data",
          "data": {
            "text/plain": [
              "TCP_FLAGS\n",
              "0      770\n",
              "2      543\n",
              "16      11\n",
              "17       3\n",
              "18      23\n",
              "19      34\n",
              "20       4\n",
              "22     202\n",
              "23       9\n",
              "24      14\n",
              "25       2\n",
              "26       1\n",
              "27     135\n",
              "28       1\n",
              "30      47\n",
              "31      27\n",
              "211      3\n",
              "214      3\n",
              "219     63\n",
              "222     48\n",
              "223     57\n",
              "dtype: int64"
            ]
          },
          "metadata": {}
        },
        {
          "output_type": "execute_result",
          "data": {
            "text/plain": [
              "<BarContainer object of 4 artists>"
            ]
          },
          "metadata": {},
          "execution_count": 6
        },
        {
          "output_type": "display_data",
          "data": {
            "text/plain": [
              "<Figure size 432x288 with 1 Axes>"
            ],
            "image/png": "[encoded data removed]"
          },
          "metadata": {
            "needs_background": "light"
          }
        }
      ]
    },
    {
      "cell_type": "code",
      "source": [
        "pyplot.scatter(x=transactions['TCP_FLAGS'], y=transactions['PROTOCOL'])\n",
        "#tcp flag as 0 means not TCP\n",
        "#what this shows is that when TCP flags are 0, the corresponding protocol is not TCP(UDP)\n",
        "#the 6 on the y axis has flags set the vast majority of the time"
      ],
      "metadata": {
        "id": "u5hMpzT4IQIP",
        "outputId": "80ebf859-6cd8-4c0f-8ebe-4db3ec7e0100",
        "colab": {
          "base_uri": "https://localhost:8080/",
          "height": 283
        }
      },
      "execution_count": null,
      "outputs": [
        {
          "output_type": "execute_result",
          "data": {
            "text/plain": [
              "<matplotlib.collections.PathCollection at 0x7f420feacbd0>"
            ]
          },
          "metadata": {},
          "execution_count": 7
        },
        {
          "output_type": "display_data",
          "data": {
            "text/plain": [
              "<Figure size 432x288 with 1 Axes>"
            ],
            "image/png": "[encoded data removed]"
          },
          "metadata": {
            "needs_background": "light"
          }
        }
      ]
    },
    {
      "cell_type": "markdown",
      "source": [
        "#Feature Engineering"
      ],
      "metadata": {
        "id": "ef7r8m8ZuTFM"
      }
    },
    {
      "cell_type": "code",
      "source": [
        "#Feature 2:\n",
        "for index, row in transactions.iterrows():\n",
        "    if (row.DNS_QUERY_ID != 0) or (row.DNS_QUERY_TYPE != 0) or (row.DNS_TTL_ANSWER != 0):\n",
        "      transactions['DNS'] = 'Y'\n",
        "    else:\n",
        "      transactions['DNS'] = 'N'  "
      ],
      "metadata": {
        "id": "_matGOGgM5ap"
      },
      "execution_count": 56,
      "outputs": []
    },
    {
      "cell_type": "code",
      "source": [
        "#Label, Dataset, and Attack are self explanatory regarding need to be dropped\n",
        "#Dropping src/dst addresses as I want to predict on the characteristics of the transaction, not where it was going/coming from (private addresses); model\n",
        "#might predict on address which means model might not be affective in other environments\n",
        "#Still not 100% certain what L7_PROTO is in this context\n",
        "\n",
        "#all features\n",
        "features = ['PROTOCOL', 'IN_BYTES', 'IN_PKTS', 'OUT_BYTES', 'OUT_PKTS',\n",
        "       'TCP_FLAGS', 'FLOW_DURATION_MILLISECONDS', 'DURATION_IN', 'DURATION_OUT', 'MIN_TTL',\n",
        "       'MAX_TTL', 'LONGEST_FLOW_PKT', 'SHORTEST_FLOW_PKT', 'MIN_IP_PKT_LEN',\n",
        "       'MAX_IP_PKT_LEN', 'SRC_TO_DST_SECOND_BYTES', 'DST_TO_SRC_SECOND_BYTES',\n",
        "       'RETRANSMITTED_IN_BYTES', 'RETRANSMITTED_IN_PKTS',\n",
        "       'RETRANSMITTED_OUT_BYTES', 'RETRANSMITTED_OUT_PKTS',\n",
        "       'SRC_TO_DST_AVG_THROUGHPUT', 'DST_TO_SRC_AVG_THROUGHPUT',\n",
        "       'NUM_PKTS_UP_TO_128_BYTES', 'NUM_PKTS_128_TO_256_BYTES',\n",
        "       'NUM_PKTS_256_TO_512_BYTES', 'NUM_PKTS_512_TO_1024_BYTES',\n",
        "       'NUM_PKTS_1024_TO_1514_BYTES', 'TCP_WIN_MAX_IN', 'TCP_WIN_MAX_OUT',\n",
        "       'ICMP_TYPE', 'ICMP_IPV4_TYPE', 'DNS_QUERY_ID', 'DNS_QUERY_TYPE',\n",
        "       'DNS_TTL_ANSWER', 'Dataset', 'IPV4_SRC_ADDR', 'IPV4_DST_ADDR', 'Attack', 'L7_PROTO', 'FTP_COMMAND_RET_CODE', 'CLIENT_TCP_FLAGS', 'SERVER_TCP_FLAGS', 'L4_SRC_PORT', 'L4_DST_PORT']\n",
        "\n",
        "#dropping : ['Label', 'Dataset', 'IPV4_SRC_ADDR', 'IPV4_DST_ADDR', 'Attack', 'L7_PROTO', 'FTP_COMMAND_RET_CODE', 'CLIENT_TCP_FLAGS', 'SERVER_TCP_FLAGS', 'L4_SRC_PORT', 'L4_DST_PORT',]\n",
        "#features = ['PROTOCOL', 'IN_BYTES', 'IN_PKTS', 'OUT_BYTES', 'OUT_PKTS',\n",
        "#       'TCP_FLAGS', 'FLOW_DURATION_MILLISECONDS', 'DURATION_IN', 'DURATION_OUT', 'MIN_TTL',\n",
        "#       'MAX_TTL', 'LONGEST_FLOW_PKT', 'SHORTEST_FLOW_PKT', 'MIN_IP_PKT_LEN',\n",
        "#       'MAX_IP_PKT_LEN', 'SRC_TO_DST_SECOND_BYTES', 'DST_TO_SRC_SECOND_BYTES',\n",
        "#       'RETRANSMITTED_IN_BYTES', 'RETRANSMITTED_IN_PKTS',\n",
        "#       'RETRANSMITTED_OUT_BYTES', 'RETRANSMITTED_OUT_PKTS',\n",
        "#       'SRC_TO_DST_AVG_THROUGHPUT', 'DST_TO_SRC_AVG_THROUGHPUT',\n",
        "#       'NUM_PKTS_UP_TO_128_BYTES', 'NUM_PKTS_128_TO_256_BYTES',\n",
        "#       'NUM_PKTS_256_TO_512_BYTES', 'NUM_PKTS_512_TO_1024_BYTES',\n",
        "#       'NUM_PKTS_1024_TO_1514_BYTES', 'TCP_WIN_MAX_IN', 'TCP_WIN_MAX_OUT',\n",
        "#       'ICMP_TYPE', 'ICMP_IPV4_TYPE', 'DNS_QUERY_ID', 'DNS_QUERY_TYPE',\n",
        "#       'DNS_TTL_ANSWER']\n",
        "\n",
        "#features when generalizing DNS\n",
        "#features = ['PROTOCOL', 'IN_BYTES', 'IN_PKTS', 'OUT_BYTES', 'OUT_PKTS',\n",
        "#       'TCP_FLAGS', 'FLOW_DURATION_MILLISECONDS', 'DURATION_IN', 'DURATION_OUT', 'MIN_TTL',\n",
        "#       'MAX_TTL', 'LONGEST_FLOW_PKT', 'SHORTEST_FLOW_PKT', 'MIN_IP_PKT_LEN',\n",
        "#       'MAX_IP_PKT_LEN', 'SRC_TO_DST_SECOND_BYTES', 'DST_TO_SRC_SECOND_BYTES',\n",
        "#       'RETRANSMITTED_IN_BYTES', 'RETRANSMITTED_IN_PKTS',\n",
        "#       'RETRANSMITTED_OUT_BYTES', 'RETRANSMITTED_OUT_PKTS',\n",
        "#       'SRC_TO_DST_AVG_THROUGHPUT', 'DST_TO_SRC_AVG_THROUGHPUT',\n",
        "#       'NUM_PKTS_UP_TO_128_BYTES', 'NUM_PKTS_128_TO_256_BYTES',\n",
        "#       'NUM_PKTS_256_TO_512_BYTES', 'NUM_PKTS_512_TO_1024_BYTES',\n",
        "#       'NUM_PKTS_1024_TO_1514_BYTES', 'TCP_WIN_MAX_IN', 'TCP_WIN_MAX_OUT',\n",
        "#       'ICMP_TYPE', 'ICMP_IPV4_TYPE', 'DNS']       \n",
        "\n",
        "#Initial Data conversion before sending to split and pipeline\n",
        "#transactions['L4_SRC_PORT'] = transactions['L4_SRC_PORT'].astype(object)\n",
        "#transactions['L4_DST_PORT'] = transactions['L4_DST_PORT'].astype(object)\n",
        "\n",
        "#transactions['PROTOCOL'] = transactions['PROTOCOL'].astype(object)\n",
        "#transactions['TCP_FLAGS'] = transactions['TCP_FLAGS'].astype(object)\n",
        "#transactions['ICMP_TYPE'] = transactions['ICMP_TYPE'].astype(object)\n",
        "#transactions['ICMP_IPV4_TYPE'] = transactions['ICMP_IPV4_TYPE'].astype(object)\n",
        "#transactions['DNS_QUERY_ID'] = transactions['DNS_QUERY_ID'].astype(object)\n",
        "#transactions['DNS_QUERY_TYPE'] = transactions['DNS_QUERY_TYPE'].astype(object)\n",
        "#transactions['DNS_TTL_ANSWER'] = transactions['DNS_TTL_ANSWER'].astype(object)\n",
        "#transactions['Label'] = transactions['Label'].astype(int)\n",
        "\n",
        "#transactions['DNS'] = transactions['DNS'].astype(object)\n",
        "\n",
        "#Feature 1:\n",
        "#keep only 17(udp) and 6(tcp)\n",
        "#keep = [17 , 6]\n",
        "#transactions = transactions[transactions['PROTOCOL'].isin(keep)]\n"
      ],
      "metadata": {
        "id": "d_tdrplruW7r"
      },
      "execution_count": 79,
      "outputs": []
    },
    {
      "cell_type": "code",
      "source": [
        "#splits\n",
        "X = transactions.loc[:, features]\n",
        "y = transactions['Label']\n",
        "\n",
        "X_train, X_test, y_train, y_test = train_test_split(X, y, test_size=0.25, random_state=2435)"
      ],
      "metadata": {
        "id": "c-qFe1lL-PLy"
      },
      "execution_count": 80,
      "outputs": []
    },
    {
      "cell_type": "code",
      "source": [
        "# X Train\n",
        "print('On X train: ')\n",
        "print('X train dimensions: ', X_train.shape)\n",
        "display(X_train.head())\n",
        "\n",
        "# X test\n",
        "print('\\nOn X test: ')\n",
        "print('X test dimensions: ', X_test.shape)\n",
        "display(X_test.head())"
      ],
      "metadata": {
        "id": "XGaP8wxv6b8f",
        "outputId": "8ec6e540-39d6-438f-de49-95e524628977",
        "colab": {
          "base_uri": "https://localhost:8080/",
          "height": 990
        }
      },
      "execution_count": 81,
      "outputs": [
        {
          "output_type": "stream",
          "name": "stdout",
          "text": [
            "On X train: \n",
            "X train dimensions:  (1500, 45)\n"
          ]
        },
        {
          "output_type": "display_data",
          "data": {
            "text/plain": [
              "     PROTOCOL  IN_BYTES  IN_PKTS  OUT_BYTES  OUT_PKTS TCP_FLAGS  \\\n",
              "755         6        40        1          0         0         2   \n",
              "344        17        71        1         71         1         0   \n",
              "797        17        56        2          0         0         0   \n",
              "1090       17        68        1        100         1         0   \n",
              "1094       17       112        4          0         0         0   \n",
              "\n",
              "      FLOW_DURATION_MILLISECONDS  DURATION_IN  DURATION_OUT  MIN_TTL  ...  \\\n",
              "755                            0            0             0        0  ...   \n",
              "344                            0            0             0        0  ...   \n",
              "797                      4293811         1156             0       64  ...   \n",
              "1090                           0            0             0        0  ...   \n",
              "1094                     4293935         1032             0       64  ...   \n",
              "\n",
              "                    Dataset    IPV4_SRC_ADDR  IPV4_DST_ADDR  Attack  L7_PROTO  \\\n",
              "755   NF-CSE-CIC-IDS2018-v2       5.188.9.25   172.31.65.45  Benign       0.0   \n",
              "344           NF-ToN-IoT-v2     192.168.1.31    192.168.1.1     DoS       0.0   \n",
              "797           NF-BoT-IoT-v2  192.168.100.150  192.168.100.3    DDoS     188.0   \n",
              "1090          NF-ToN-IoT-v2     192.168.1.35    192.168.1.1     xss       0.0   \n",
              "1094          NF-BoT-IoT-v2  192.168.100.147  192.168.100.3    DDoS     188.0   \n",
              "\n",
              "      FTP_COMMAND_RET_CODE  CLIENT_TCP_FLAGS  SERVER_TCP_FLAGS  L4_SRC_PORT  \\\n",
              "755                      0                 2                 0        55992   \n",
              "344                      0                 0                 0        60964   \n",
              "797                      0                 0                 0        17559   \n",
              "1090                     0                 0                 0        55694   \n",
              "1094                     0                 0                 0         9907   \n",
              "\n",
              "      L4_DST_PORT  \n",
              "755         23389  \n",
              "344            53  \n",
              "797            80  \n",
              "1090           53  \n",
              "1094           80  \n",
              "\n",
              "[5 rows x 45 columns]"
            ],
            "text/html": [
              "\n",
              "  <div id=\"df-f09193fd-1f6c-4dc9-9399-e3796075a595\">\n",
              "    <div class=\"colab-df-container\">\n",
              "      <div>\n",
              "<style scoped>\n",
              "    .dataframe tbody tr th:only-of-type {\n",
              "        vertical-align: middle;\n",
              "    }\n",
              "\n",
              "    .dataframe tbody tr th {\n",
              "        vertical-align: top;\n",
              "    }\n",
              "\n",
              "    .dataframe thead th {\n",
              "        text-align: right;\n",
              "    }\n",
              "</style>\n",
              "<table border=\"1\" class=\"dataframe\">\n",
              "  <thead>\n",
              "    <tr style=\"text-align: right;\">\n",
              "      <th></th>\n",
              "      <th>PROTOCOL</th>\n",
              "      <th>IN_BYTES</th>\n",
              "      <th>IN_PKTS</th>\n",
              "      <th>OUT_BYTES</th>\n",
              "      <th>OUT_PKTS</th>\n",
              "      <th>TCP_FLAGS</th>\n",
              "      <th>FLOW_DURATION_MILLISECONDS</th>\n",
              "      <th>DURATION_IN</th>\n",
              "      <th>DURATION_OUT</th>\n",
              "      <th>MIN_TTL</th>\n",
              "      <th>...</th>\n",
              "      <th>Dataset</th>\n",
              "      <th>IPV4_SRC_ADDR</th>\n",
              "      <th>IPV4_DST_ADDR</th>\n",
              "      <th>Attack</th>\n",
              "      <th>L7_PROTO</th>\n",
              "      <th>FTP_COMMAND_RET_CODE</th>\n",
              "      <th>CLIENT_TCP_FLAGS</th>\n",
              "      <th>SERVER_TCP_FLAGS</th>\n",
              "      <th>L4_SRC_PORT</th>\n",
              "      <th>L4_DST_PORT</th>\n",
              "    </tr>\n",
              "  </thead>\n",
              "  <tbody>\n",
              "    <tr>\n",
              "      <th>755</th>\n",
              "      <td>6</td>\n",
              "      <td>40</td>\n",
              "      <td>1</td>\n",
              "      <td>0</td>\n",
              "      <td>0</td>\n",
              "      <td>2</td>\n",
              "      <td>0</td>\n",
              "      <td>0</td>\n",
              "      <td>0</td>\n",
              "      <td>0</td>\n",
              "      <td>...</td>\n",
              "      <td>NF-CSE-CIC-IDS2018-v2</td>\n",
              "      <td>5.188.9.25</td>\n",
              "      <td>172.31.65.45</td>\n",
              "      <td>Benign</td>\n",
              "      <td>0.0</td>\n",
              "      <td>0</td>\n",
              "      <td>2</td>\n",
              "      <td>0</td>\n",
              "      <td>55992</td>\n",
              "      <td>23389</td>\n",
              "    </tr>\n",
              "    <tr>\n",
              "      <th>344</th>\n",
              "      <td>17</td>\n",
              "      <td>71</td>\n",
              "      <td>1</td>\n",
              "      <td>71</td>\n",
              "      <td>1</td>\n",
              "      <td>0</td>\n",
              "      <td>0</td>\n",
              "      <td>0</td>\n",
              "      <td>0</td>\n",
              "      <td>0</td>\n",
              "      <td>...</td>\n",
              "      <td>NF-ToN-IoT-v2</td>\n",
              "      <td>192.168.1.31</td>\n",
              "      <td>192.168.1.1</td>\n",
              "      <td>DoS</td>\n",
              "      <td>0.0</td>\n",
              "      <td>0</td>\n",
              "      <td>0</td>\n",
              "      <td>0</td>\n",
              "      <td>60964</td>\n",
              "      <td>53</td>\n",
              "    </tr>\n",
              "    <tr>\n",
              "      <th>797</th>\n",
              "      <td>17</td>\n",
              "      <td>56</td>\n",
              "      <td>2</td>\n",
              "      <td>0</td>\n",
              "      <td>0</td>\n",
              "      <td>0</td>\n",
              "      <td>4293811</td>\n",
              "      <td>1156</td>\n",
              "      <td>0</td>\n",
              "      <td>64</td>\n",
              "      <td>...</td>\n",
              "      <td>NF-BoT-IoT-v2</td>\n",
              "      <td>192.168.100.150</td>\n",
              "      <td>192.168.100.3</td>\n",
              "      <td>DDoS</td>\n",
              "      <td>188.0</td>\n",
              "      <td>0</td>\n",
              "      <td>0</td>\n",
              "      <td>0</td>\n",
              "      <td>17559</td>\n",
              "      <td>80</td>\n",
              "    </tr>\n",
              "    <tr>\n",
              "      <th>1090</th>\n",
              "      <td>17</td>\n",
              "      <td>68</td>\n",
              "      <td>1</td>\n",
              "      <td>100</td>\n",
              "      <td>1</td>\n",
              "      <td>0</td>\n",
              "      <td>0</td>\n",
              "      <td>0</td>\n",
              "      <td>0</td>\n",
              "      <td>0</td>\n",
              "      <td>...</td>\n",
              "      <td>NF-ToN-IoT-v2</td>\n",
              "      <td>192.168.1.35</td>\n",
              "      <td>192.168.1.1</td>\n",
              "      <td>xss</td>\n",
              "      <td>0.0</td>\n",
              "      <td>0</td>\n",
              "      <td>0</td>\n",
              "      <td>0</td>\n",
              "      <td>55694</td>\n",
              "      <td>53</td>\n",
              "    </tr>\n",
              "    <tr>\n",
              "      <th>1094</th>\n",
              "      <td>17</td>\n",
              "      <td>112</td>\n",
              "      <td>4</td>\n",
              "      <td>0</td>\n",
              "      <td>0</td>\n",
              "      <td>0</td>\n",
              "      <td>4293935</td>\n",
              "      <td>1032</td>\n",
              "      <td>0</td>\n",
              "      <td>64</td>\n",
              "      <td>...</td>\n",
              "      <td>NF-BoT-IoT-v2</td>\n",
              "      <td>192.168.100.147</td>\n",
              "      <td>192.168.100.3</td>\n",
              "      <td>DDoS</td>\n",
              "      <td>188.0</td>\n",
              "      <td>0</td>\n",
              "      <td>0</td>\n",
              "      <td>0</td>\n",
              "      <td>9907</td>\n",
              "      <td>80</td>\n",
              "    </tr>\n",
              "  </tbody>\n",
              "</table>\n",
              "<p>5 rows × 45 columns</p>\n",
              "</div>\n",
              "      <button class=\"colab-df-convert\" onclick=\"convertToInteractive('df-f09193fd-1f6c-4dc9-9399-e3796075a595')\"\n",
              "              title=\"Convert this dataframe to an interactive table.\"\n",
              "              style=\"display:none;\">\n",
              "        \n",
              "  <svg xmlns=\"http://www.w3.org/2000/svg\" height=\"24px\"viewBox=\"0 0 24 24\"\n",
              "       width=\"24px\">\n",
              "    <path d=\"M0 0h24v24H0V0z\" fill=\"none\"/>\n",
              "    <path d=\"M18.56 5.44l.94 2.06.94-2.06 2.06-.94-2.06-.94-.94-2.06-.94 2.06-2.06.94zm-11 1L8.5 8.5l.94-2.06 2.06-.94-2.06-.94L8.5 2.5l-.94 2.06-2.06.94zm10 10l.94 2.06.94-2.06 2.06-.94-2.06-.94-.94-2.06-.94 2.06-2.06.94z\"/><path d=\"M17.41 7.96l-1.37-1.37c-.4-.4-.92-.59-1.43-.59-.52 0-1.04.2-1.43.59L10.3 9.45l-7.72 7.72c-.78.78-.78 2.05 0 2.83L4 21.41c.39.39.9.59 1.41.59.51 0 1.02-.2 1.41-.59l7.78-7.78 2.81-2.81c.8-.78.8-2.07 0-2.86zM5.41 20L4 18.59l7.72-7.72 1.47 1.35L5.41 20z\"/>\n",
              "  </svg>\n",
              "      </button>\n",
              "      \n",
              "  <style>\n",
              "    .colab-df-container {\n",
              "      display:flex;\n",
              "      flex-wrap:wrap;\n",
              "      gap: 12px;\n",
              "    }\n",
              "\n",
              "    .colab-df-convert {\n",
              "      background-color: #E8F0FE;\n",
              "      border: none;\n",
              "      border-radius: 50%;\n",
              "      cursor: pointer;\n",
              "      display: none;\n",
              "      fill: #1967D2;\n",
              "      height: 32px;\n",
              "      padding: 0 0 0 0;\n",
              "      width: 32px;\n",
              "    }\n",
              "\n",
              "    .colab-df-convert:hover {\n",
              "      background-color: #E2EBFA;\n",
              "      box-shadow: 0px 1px 2px rgba(60, 64, 67, 0.3), 0px 1px 3px 1px rgba(60, 64, 67, 0.15);\n",
              "      fill: #174EA6;\n",
              "    }\n",
              "\n",
              "    [theme=dark] .colab-df-convert {\n",
              "      background-color: #3B4455;\n",
              "      fill: #D2E3FC;\n",
              "    }\n",
              "\n",
              "    [theme=dark] .colab-df-convert:hover {\n",
              "      background-color: #434B5C;\n",
              "      box-shadow: 0px 1px 3px 1px rgba(0, 0, 0, 0.15);\n",
              "      filter: drop-shadow(0px 1px 2px rgba(0, 0, 0, 0.3));\n",
              "      fill: #FFFFFF;\n",
              "    }\n",
              "  </style>\n",
              "\n",
              "      <script>\n",
              "        const buttonEl =\n",
              "          document.querySelector('#df-f09193fd-1f6c-4dc9-9399-e3796075a595 button.colab-df-convert');\n",
              "        buttonEl.style.display =\n",
              "          google.colab.kernel.accessAllowed ? 'block' : 'none';\n",
              "\n",
              "        async function convertToInteractive(key) {\n",
              "          const element = document.querySelector('#df-f09193fd-1f6c-4dc9-9399-e3796075a595');\n",
              "          const dataTable =\n",
              "            await google.colab.kernel.invokeFunction('convertToInteractive',\n",
              "                                                     [key], {});\n",
              "          if (!dataTable) return;\n",
              "\n",
              "          const docLinkHtml = 'Like what you see? Visit the ' +\n",
              "            '<a target=\"_blank\" href=https://colab.research.google.com/notebooks/data_table.ipynb>data table notebook</a>'\n",
              "            + ' to learn more about interactive tables.';\n",
              "          element.innerHTML = '';\n",
              "          dataTable['output_type'] = 'display_data';\n",
              "          await google.colab.output.renderOutput(dataTable, element);\n",
              "          const docLink = document.createElement('div');\n",
              "          docLink.innerHTML = docLinkHtml;\n",
              "          element.appendChild(docLink);\n",
              "        }\n",
              "      </script>\n",
              "    </div>\n",
              "  </div>\n",
              "  "
            ]
          },
          "metadata": {}
        },
        {
          "output_type": "stream",
          "name": "stdout",
          "text": [
            "\n",
            "On X test: \n",
            "X test dimensions:  (500, 45)\n"
          ]
        },
        {
          "output_type": "display_data",
          "data": {
            "text/plain": [
              "     PROTOCOL  IN_BYTES  IN_PKTS  OUT_BYTES  OUT_PKTS TCP_FLAGS  \\\n",
              "356         6      2020       14       2179        11       223   \n",
              "1653       17       134        2        134         2         0   \n",
              "500        17        58        1        160         1         0   \n",
              "1179        6      1464        8       1873         7        30   \n",
              "1233       17        75        1        179         1         0   \n",
              "\n",
              "      FLOW_DURATION_MILLISECONDS  DURATION_IN  DURATION_OUT  MIN_TTL  ...  \\\n",
              "356                            0            0             0      103  ...   \n",
              "1653                           0            0             0      128  ...   \n",
              "500                            0            0             0        0  ...   \n",
              "1179                           0            0             0      103  ...   \n",
              "1233                           0            0             0        0  ...   \n",
              "\n",
              "                    Dataset    IPV4_SRC_ADDR  IPV4_DST_ADDR  Attack  L7_PROTO  \\\n",
              "356   NF-CSE-CIC-IDS2018-v2  185.129.148.224    172.31.67.4  Benign     0.000   \n",
              "1653  NF-CSE-CIC-IDS2018-v2    172.31.66.107     172.31.0.2  Benign     0.000   \n",
              "500   NF-CSE-CIC-IDS2018-v2    172.31.65.121     172.31.0.2  Benign     0.000   \n",
              "1179  NF-CSE-CIC-IDS2018-v2    185.222.56.82   172.31.66.74  Benign     0.000   \n",
              "1233  NF-CSE-CIC-IDS2018-v2      172.31.69.8     172.31.0.2  Benign     5.126   \n",
              "\n",
              "      FTP_COMMAND_RET_CODE  CLIENT_TCP_FLAGS  SERVER_TCP_FLAGS  L4_SRC_PORT  \\\n",
              "356                      0               219                94        33146   \n",
              "1653                     0                 0                 0        54639   \n",
              "500                      0                 0                 0        64867   \n",
              "1179                     0                30                26        50596   \n",
              "1233                     0                 0                 0        54387   \n",
              "\n",
              "      L4_DST_PORT  \n",
              "356          3389  \n",
              "1653           53  \n",
              "500            53  \n",
              "1179         3389  \n",
              "1233           53  \n",
              "\n",
              "[5 rows x 45 columns]"
            ],
            "text/html": [
              "\n",
              "  <div id=\"df-4f386594-182a-4dc3-995a-2c82e654b432\">\n",
              "    <div class=\"colab-df-container\">\n",
              "      <div>\n",
              "<style scoped>\n",
              "    .dataframe tbody tr th:only-of-type {\n",
              "        vertical-align: middle;\n",
              "    }\n",
              "\n",
              "    .dataframe tbody tr th {\n",
              "        vertical-align: top;\n",
              "    }\n",
              "\n",
              "    .dataframe thead th {\n",
              "        text-align: right;\n",
              "    }\n",
              "</style>\n",
              "<table border=\"1\" class=\"dataframe\">\n",
              "  <thead>\n",
              "    <tr style=\"text-align: right;\">\n",
              "      <th></th>\n",
              "      <th>PROTOCOL</th>\n",
              "      <th>IN_BYTES</th>\n",
              "      <th>IN_PKTS</th>\n",
              "      <th>OUT_BYTES</th>\n",
              "      <th>OUT_PKTS</th>\n",
              "      <th>TCP_FLAGS</th>\n",
              "      <th>FLOW_DURATION_MILLISECONDS</th>\n",
              "      <th>DURATION_IN</th>\n",
              "      <th>DURATION_OUT</th>\n",
              "      <th>MIN_TTL</th>\n",
              "      <th>...</th>\n",
              "      <th>Dataset</th>\n",
              "      <th>IPV4_SRC_ADDR</th>\n",
              "      <th>IPV4_DST_ADDR</th>\n",
              "      <th>Attack</th>\n",
              "      <th>L7_PROTO</th>\n",
              "      <th>FTP_COMMAND_RET_CODE</th>\n",
              "      <th>CLIENT_TCP_FLAGS</th>\n",
              "      <th>SERVER_TCP_FLAGS</th>\n",
              "      <th>L4_SRC_PORT</th>\n",
              "      <th>L4_DST_PORT</th>\n",
              "    </tr>\n",
              "  </thead>\n",
              "  <tbody>\n",
              "    <tr>\n",
              "      <th>356</th>\n",
              "      <td>6</td>\n",
              "      <td>2020</td>\n",
              "      <td>14</td>\n",
              "      <td>2179</td>\n",
              "      <td>11</td>\n",
              "      <td>223</td>\n",
              "      <td>0</td>\n",
              "      <td>0</td>\n",
              "      <td>0</td>\n",
              "      <td>103</td>\n",
              "      <td>...</td>\n",
              "      <td>NF-CSE-CIC-IDS2018-v2</td>\n",
              "      <td>185.129.148.224</td>\n",
              "      <td>172.31.67.4</td>\n",
              "      <td>Benign</td>\n",
              "      <td>0.000</td>\n",
              "      <td>0</td>\n",
              "      <td>219</td>\n",
              "      <td>94</td>\n",
              "      <td>33146</td>\n",
              "      <td>3389</td>\n",
              "    </tr>\n",
              "    <tr>\n",
              "      <th>1653</th>\n",
              "      <td>17</td>\n",
              "      <td>134</td>\n",
              "      <td>2</td>\n",
              "      <td>134</td>\n",
              "      <td>2</td>\n",
              "      <td>0</td>\n",
              "      <td>0</td>\n",
              "      <td>0</td>\n",
              "      <td>0</td>\n",
              "      <td>128</td>\n",
              "      <td>...</td>\n",
              "      <td>NF-CSE-CIC-IDS2018-v2</td>\n",
              "      <td>172.31.66.107</td>\n",
              "      <td>172.31.0.2</td>\n",
              "      <td>Benign</td>\n",
              "      <td>0.000</td>\n",
              "      <td>0</td>\n",
              "      <td>0</td>\n",
              "      <td>0</td>\n",
              "      <td>54639</td>\n",
              "      <td>53</td>\n",
              "    </tr>\n",
              "    <tr>\n",
              "      <th>500</th>\n",
              "      <td>17</td>\n",
              "      <td>58</td>\n",
              "      <td>1</td>\n",
              "      <td>160</td>\n",
              "      <td>1</td>\n",
              "      <td>0</td>\n",
              "      <td>0</td>\n",
              "      <td>0</td>\n",
              "      <td>0</td>\n",
              "      <td>0</td>\n",
              "      <td>...</td>\n",
              "      <td>NF-CSE-CIC-IDS2018-v2</td>\n",
              "      <td>172.31.65.121</td>\n",
              "      <td>172.31.0.2</td>\n",
              "      <td>Benign</td>\n",
              "      <td>0.000</td>\n",
              "      <td>0</td>\n",
              "      <td>0</td>\n",
              "      <td>0</td>\n",
              "      <td>64867</td>\n",
              "      <td>53</td>\n",
              "    </tr>\n",
              "    <tr>\n",
              "      <th>1179</th>\n",
              "      <td>6</td>\n",
              "      <td>1464</td>\n",
              "      <td>8</td>\n",
              "      <td>1873</td>\n",
              "      <td>7</td>\n",
              "      <td>30</td>\n",
              "      <td>0</td>\n",
              "      <td>0</td>\n",
              "      <td>0</td>\n",
              "      <td>103</td>\n",
              "      <td>...</td>\n",
              "      <td>NF-CSE-CIC-IDS2018-v2</td>\n",
              "      <td>185.222.56.82</td>\n",
              "      <td>172.31.66.74</td>\n",
              "      <td>Benign</td>\n",
              "      <td>0.000</td>\n",
              "      <td>0</td>\n",
              "      <td>30</td>\n",
              "      <td>26</td>\n",
              "      <td>50596</td>\n",
              "      <td>3389</td>\n",
              "    </tr>\n",
              "    <tr>\n",
              "      <th>1233</th>\n",
              "      <td>17</td>\n",
              "      <td>75</td>\n",
              "      <td>1</td>\n",
              "      <td>179</td>\n",
              "      <td>1</td>\n",
              "      <td>0</td>\n",
              "      <td>0</td>\n",
              "      <td>0</td>\n",
              "      <td>0</td>\n",
              "      <td>0</td>\n",
              "      <td>...</td>\n",
              "      <td>NF-CSE-CIC-IDS2018-v2</td>\n",
              "      <td>172.31.69.8</td>\n",
              "      <td>172.31.0.2</td>\n",
              "      <td>Benign</td>\n",
              "      <td>5.126</td>\n",
              "      <td>0</td>\n",
              "      <td>0</td>\n",
              "      <td>0</td>\n",
              "      <td>54387</td>\n",
              "      <td>53</td>\n",
              "    </tr>\n",
              "  </tbody>\n",
              "</table>\n",
              "<p>5 rows × 45 columns</p>\n",
              "</div>\n",
              "      <button class=\"colab-df-convert\" onclick=\"convertToInteractive('df-4f386594-182a-4dc3-995a-2c82e654b432')\"\n",
              "              title=\"Convert this dataframe to an interactive table.\"\n",
              "              style=\"display:none;\">\n",
              "        \n",
              "  <svg xmlns=\"http://www.w3.org/2000/svg\" height=\"24px\"viewBox=\"0 0 24 24\"\n",
              "       width=\"24px\">\n",
              "    <path d=\"M0 0h24v24H0V0z\" fill=\"none\"/>\n",
              "    <path d=\"M18.56 5.44l.94 2.06.94-2.06 2.06-.94-2.06-.94-.94-2.06-.94 2.06-2.06.94zm-11 1L8.5 8.5l.94-2.06 2.06-.94-2.06-.94L8.5 2.5l-.94 2.06-2.06.94zm10 10l.94 2.06.94-2.06 2.06-.94-2.06-.94-.94-2.06-.94 2.06-2.06.94z\"/><path d=\"M17.41 7.96l-1.37-1.37c-.4-.4-.92-.59-1.43-.59-.52 0-1.04.2-1.43.59L10.3 9.45l-7.72 7.72c-.78.78-.78 2.05 0 2.83L4 21.41c.39.39.9.59 1.41.59.51 0 1.02-.2 1.41-.59l7.78-7.78 2.81-2.81c.8-.78.8-2.07 0-2.86zM5.41 20L4 18.59l7.72-7.72 1.47 1.35L5.41 20z\"/>\n",
              "  </svg>\n",
              "      </button>\n",
              "      \n",
              "  <style>\n",
              "    .colab-df-container {\n",
              "      display:flex;\n",
              "      flex-wrap:wrap;\n",
              "      gap: 12px;\n",
              "    }\n",
              "\n",
              "    .colab-df-convert {\n",
              "      background-color: #E8F0FE;\n",
              "      border: none;\n",
              "      border-radius: 50%;\n",
              "      cursor: pointer;\n",
              "      display: none;\n",
              "      fill: #1967D2;\n",
              "      height: 32px;\n",
              "      padding: 0 0 0 0;\n",
              "      width: 32px;\n",
              "    }\n",
              "\n",
              "    .colab-df-convert:hover {\n",
              "      background-color: #E2EBFA;\n",
              "      box-shadow: 0px 1px 2px rgba(60, 64, 67, 0.3), 0px 1px 3px 1px rgba(60, 64, 67, 0.15);\n",
              "      fill: #174EA6;\n",
              "    }\n",
              "\n",
              "    [theme=dark] .colab-df-convert {\n",
              "      background-color: #3B4455;\n",
              "      fill: #D2E3FC;\n",
              "    }\n",
              "\n",
              "    [theme=dark] .colab-df-convert:hover {\n",
              "      background-color: #434B5C;\n",
              "      box-shadow: 0px 1px 3px 1px rgba(0, 0, 0, 0.15);\n",
              "      filter: drop-shadow(0px 1px 2px rgba(0, 0, 0, 0.3));\n",
              "      fill: #FFFFFF;\n",
              "    }\n",
              "  </style>\n",
              "\n",
              "      <script>\n",
              "        const buttonEl =\n",
              "          document.querySelector('#df-4f386594-182a-4dc3-995a-2c82e654b432 button.colab-df-convert');\n",
              "        buttonEl.style.display =\n",
              "          google.colab.kernel.accessAllowed ? 'block' : 'none';\n",
              "\n",
              "        async function convertToInteractive(key) {\n",
              "          const element = document.querySelector('#df-4f386594-182a-4dc3-995a-2c82e654b432');\n",
              "          const dataTable =\n",
              "            await google.colab.kernel.invokeFunction('convertToInteractive',\n",
              "                                                     [key], {});\n",
              "          if (!dataTable) return;\n",
              "\n",
              "          const docLinkHtml = 'Like what you see? Visit the ' +\n",
              "            '<a target=\"_blank\" href=https://colab.research.google.com/notebooks/data_table.ipynb>data table notebook</a>'\n",
              "            + ' to learn more about interactive tables.';\n",
              "          element.innerHTML = '';\n",
              "          dataTable['output_type'] = 'display_data';\n",
              "          await google.colab.output.renderOutput(dataTable, element);\n",
              "          const docLink = document.createElement('div');\n",
              "          docLink.innerHTML = docLinkHtml;\n",
              "          element.appendChild(docLink);\n",
              "        }\n",
              "      </script>\n",
              "    </div>\n",
              "  </div>\n",
              "  "
            ]
          },
          "metadata": {}
        }
      ]
    },
    {
      "cell_type": "code",
      "source": [
        "# Y Train\n",
        "print('On y train: ')\n",
        "print('y train dimensions: ', y_train.shape)\n",
        "display(y_train.head()) \n",
        "\n",
        "# Y test\n",
        "print('\\nOn y test: ')\n",
        "print('y test dimensions: ', y_test.shape)\n",
        "display(y_test.head())"
      ],
      "metadata": {
        "id": "ClIRy40F7QvF",
        "outputId": "d2101323-f13a-443a-e7df-d5b5dac78628",
        "colab": {
          "base_uri": "https://localhost:8080/",
          "height": 326
        }
      },
      "execution_count": 82,
      "outputs": [
        {
          "output_type": "stream",
          "name": "stdout",
          "text": [
            "On y train: \n",
            "y train dimensions:  (1500,)\n"
          ]
        },
        {
          "output_type": "display_data",
          "data": {
            "text/plain": [
              "755     0\n",
              "344     1\n",
              "797     1\n",
              "1090    1\n",
              "1094    1\n",
              "Name: Label, dtype: int64"
            ]
          },
          "metadata": {}
        },
        {
          "output_type": "stream",
          "name": "stdout",
          "text": [
            "\n",
            "On y test: \n",
            "y test dimensions:  (500,)\n"
          ]
        },
        {
          "output_type": "display_data",
          "data": {
            "text/plain": [
              "356     0\n",
              "1653    0\n",
              "500     0\n",
              "1179    0\n",
              "1233    0\n",
              "Name: Label, dtype: int64"
            ]
          },
          "metadata": {}
        }
      ]
    },
    {
      "cell_type": "markdown",
      "source": [
        "#Test Pipeline"
      ],
      "metadata": {
        "id": "dK8035CaAYpo"
      }
    },
    {
      "cell_type": "code",
      "source": [
        "cat_pipeline = Pipeline(steps=[('cat_impute', SimpleImputer(missing_values=np.nan, strategy='most_frequent')),\n",
        "                               ('onehot_cat', OneHotEncoder(handle_unknown='ignore'))])\n",
        "num_pipeline = Pipeline(steps=[('impute_num', SimpleImputer(missing_values=np.nan, strategy='median')),\n",
        "                               ('scale_num', StandardScaler())])\n",
        "\n",
        "\n",
        "preproc = ColumnTransformer([('cat_pipe', cat_pipeline, make_column_selector(dtype_include=object)),\n",
        "                             ('num_pipe', num_pipeline, make_column_selector(dtype_include=np.number))],\n",
        "                             remainder='passthrough')"
      ],
      "metadata": {
        "id": "XzrwyCJvAbCR"
      },
      "execution_count": 83,
      "outputs": []
    },
    {
      "cell_type": "code",
      "source": [
        "#Random Forest (accuracy at 95%)\n",
        "pipe = Pipeline(steps=[('preproc', preproc),\n",
        "                       ('mdl', RandomForestClassifier(n_estimators=500, random_state=12))])\n",
        "\n",
        "#DecisionTree (accuracy at 94.8%)\n",
        "#pipe = Pipeline(steps=[('preproc', preproc),\n",
        "                       #('mdl', DecisionTreeClassifier())])\n",
        "\n",
        "#LogisticRegression (accuracy with various penalties/solvers/etc 81%-89%)\n",
        "#pipe = Pipeline(steps=[('preproc', preproc),\n",
        "                       #('mdl', LogisticRegression(penalty='l2', solver='sag', random_state=1))])\n",
        "\n",
        "#SupportVectorMachine (accuracy 89.6%)\n",
        "#pipe = Pipeline(steps=[('preproc', preproc),\n",
        "                      #('mdl', SVC(kernel='linear'))])   \n",
        "\n",
        "#GBM (accuracy 93%) **GOING WITH THIS MODEL AS IT SEEMS TO BE IN THE MIDDLE**\n",
        "#pipe = Pipeline(steps=[('preproc', preproc),\n",
        "                  #('mdl', GradientBoostingClassifier())])                    \n",
        "\n",
        "with config_context(display='diagram'):\n",
        "    display(pipe)"
      ],
      "metadata": {
        "id": "ET-wWinlBJ3i",
        "outputId": "e3e5d803-3966-425b-8003-9b136bd09627",
        "colab": {
          "base_uri": "https://localhost:8080/",
          "height": 227
        }
      },
      "execution_count": 84,
      "outputs": [
        {
          "output_type": "display_data",
          "data": {
            "text/plain": [
              "Pipeline(steps=[('preproc',\n",
              "                 ColumnTransformer(remainder='passthrough',\n",
              "                                   transformers=[('cat_pipe',\n",
              "                                                  Pipeline(steps=[('cat_impute',\n",
              "                                                                   SimpleImputer(strategy='most_frequent')),\n",
              "                                                                  ('onehot_cat',\n",
              "                                                                   OneHotEncoder(handle_unknown='ignore'))]),\n",
              "                                                  <sklearn.compose._column_transformer.make_column_selector object at 0x7fb722f52710>),\n",
              "                                                 ('num_pipe',\n",
              "                                                  Pipeline(steps=[('impute_num',\n",
              "                                                                   SimpleImputer(strategy='median')),\n",
              "                                                                  ('scale_num',\n",
              "                                                                   StandardScaler())]),\n",
              "                                                  <sklearn.compose._column_transformer.make_column_selector object at 0x7fb722ed7390>)])),\n",
              "                ('mdl',\n",
              "                 RandomForestClassifier(n_estimators=500, random_state=12))])"
            ],
            "text/html": [
              "<style>#sk-52997dd2-ecb7-49af-b371-7bbc1693029c {color: black;background-color: white;}#sk-52997dd2-ecb7-49af-b371-7bbc1693029c pre{padding: 0;}#sk-52997dd2-ecb7-49af-b371-7bbc1693029c div.sk-toggleable {background-color: white;}#sk-52997dd2-ecb7-49af-b371-7bbc1693029c label.sk-toggleable__label {cursor: pointer;display: block;width: 100%;margin-bottom: 0;padding: 0.3em;box-sizing: border-box;text-align: center;}#sk-52997dd2-ecb7-49af-b371-7bbc1693029c label.sk-toggleable__label-arrow:before {content: \"▸\";float: left;margin-right: 0.25em;color: #696969;}#sk-52997dd2-ecb7-49af-b371-7bbc1693029c label.sk-toggleable__label-arrow:hover:before {color: black;}#sk-52997dd2-ecb7-49af-b371-7bbc1693029c div.sk-estimator:hover label.sk-toggleable__label-arrow:before {color: black;}#sk-52997dd2-ecb7-49af-b371-7bbc1693029c div.sk-toggleable__content {max-height: 0;max-width: 0;overflow: hidden;text-align: left;background-color: #f0f8ff;}#sk-52997dd2-ecb7-49af-b371-7bbc1693029c div.sk-toggleable__content pre {margin: 0.2em;color: black;border-radius: 0.25em;background-color: #f0f8ff;}#sk-52997dd2-ecb7-49af-b371-7bbc1693029c input.sk-toggleable__control:checked~div.sk-toggleable__content {max-height: 200px;max-width: 100%;overflow: auto;}#sk-52997dd2-ecb7-49af-b371-7bbc1693029c input.sk-toggleable__control:checked~label.sk-toggleable__label-arrow:before {content: \"▾\";}#sk-52997dd2-ecb7-49af-b371-7bbc1693029c div.sk-estimator input.sk-toggleable__control:checked~label.sk-toggleable__label {background-color: #d4ebff;}#sk-52997dd2-ecb7-49af-b371-7bbc1693029c div.sk-label input.sk-toggleable__control:checked~label.sk-toggleable__label {background-color: #d4ebff;}#sk-52997dd2-ecb7-49af-b371-7bbc1693029c input.sk-hidden--visually {border: 0;clip: rect(1px 1px 1px 1px);clip: rect(1px, 1px, 1px, 1px);height: 1px;margin: -1px;overflow: hidden;padding: 0;position: absolute;width: 1px;}#sk-52997dd2-ecb7-49af-b371-7bbc1693029c div.sk-estimator {font-family: monospace;background-color: #f0f8ff;border: 1px dotted black;border-radius: 0.25em;box-sizing: border-box;margin-bottom: 0.5em;}#sk-52997dd2-ecb7-49af-b371-7bbc1693029c div.sk-estimator:hover {background-color: #d4ebff;}#sk-52997dd2-ecb7-49af-b371-7bbc1693029c div.sk-parallel-item::after {content: \"\";width: 100%;border-bottom: 1px solid gray;flex-grow: 1;}#sk-52997dd2-ecb7-49af-b371-7bbc1693029c div.sk-label:hover label.sk-toggleable__label {background-color: #d4ebff;}#sk-52997dd2-ecb7-49af-b371-7bbc1693029c div.sk-serial::before {content: \"\";position: absolute;border-left: 1px solid gray;box-sizing: border-box;top: 2em;bottom: 0;left: 50%;}#sk-52997dd2-ecb7-49af-b371-7bbc1693029c div.sk-serial {display: flex;flex-direction: column;align-items: center;background-color: white;padding-right: 0.2em;padding-left: 0.2em;}#sk-52997dd2-ecb7-49af-b371-7bbc1693029c div.sk-item {z-index: 1;}#sk-52997dd2-ecb7-49af-b371-7bbc1693029c div.sk-parallel {display: flex;align-items: stretch;justify-content: center;background-color: white;}#sk-52997dd2-ecb7-49af-b371-7bbc1693029c div.sk-parallel::before {content: \"\";position: absolute;border-left: 1px solid gray;box-sizing: border-box;top: 2em;bottom: 0;left: 50%;}#sk-52997dd2-ecb7-49af-b371-7bbc1693029c div.sk-parallel-item {display: flex;flex-direction: column;position: relative;background-color: white;}#sk-52997dd2-ecb7-49af-b371-7bbc1693029c div.sk-parallel-item:first-child::after {align-self: flex-end;width: 50%;}#sk-52997dd2-ecb7-49af-b371-7bbc1693029c div.sk-parallel-item:last-child::after {align-self: flex-start;width: 50%;}#sk-52997dd2-ecb7-49af-b371-7bbc1693029c div.sk-parallel-item:only-child::after {width: 0;}#sk-52997dd2-ecb7-49af-b371-7bbc1693029c div.sk-dashed-wrapped {border: 1px dashed gray;margin: 0 0.4em 0.5em 0.4em;box-sizing: border-box;padding-bottom: 0.4em;background-color: white;position: relative;}#sk-52997dd2-ecb7-49af-b371-7bbc1693029c div.sk-label label {font-family: monospace;font-weight: bold;background-color: white;display: inline-block;line-height: 1.2em;}#sk-52997dd2-ecb7-49af-b371-7bbc1693029c div.sk-label-container {position: relative;z-index: 2;text-align: center;}#sk-52997dd2-ecb7-49af-b371-7bbc1693029c div.sk-container {/* jupyter's `normalize.less` sets `[hidden] { display: none; }` but bootstrap.min.css set `[hidden] { display: none !important; }` so we also need the `!important` here to be able to override the default hidden behavior on the sphinx rendered scikit-learn.org. See: https://github.com/scikit-learn/scikit-learn/issues/21755 */display: inline-block !important;position: relative;}#sk-52997dd2-ecb7-49af-b371-7bbc1693029c div.sk-text-repr-fallback {display: none;}</style><div id=\"sk-52997dd2-ecb7-49af-b371-7bbc1693029c\" class=\"sk-top-container\"><div class=\"sk-text-repr-fallback\"><pre>Pipeline(steps=[(&#x27;preproc&#x27;,\n",
              "                 ColumnTransformer(remainder=&#x27;passthrough&#x27;,\n",
              "                                   transformers=[(&#x27;cat_pipe&#x27;,\n",
              "                                                  Pipeline(steps=[(&#x27;cat_impute&#x27;,\n",
              "                                                                   SimpleImputer(strategy=&#x27;most_frequent&#x27;)),\n",
              "                                                                  (&#x27;onehot_cat&#x27;,\n",
              "                                                                   OneHotEncoder(handle_unknown=&#x27;ignore&#x27;))]),\n",
              "                                                  &lt;sklearn.compose._column_transformer.make_column_selector object at 0x7fb722f52710&gt;),\n",
              "                                                 (&#x27;num_pipe&#x27;,\n",
              "                                                  Pipeline(steps=[(&#x27;impute_num&#x27;,\n",
              "                                                                   SimpleImputer(strategy=&#x27;median&#x27;)),\n",
              "                                                                  (&#x27;scale_num&#x27;,\n",
              "                                                                   StandardScaler())]),\n",
              "                                                  &lt;sklearn.compose._column_transformer.make_column_selector object at 0x7fb722ed7390&gt;)])),\n",
              "                (&#x27;mdl&#x27;,\n",
              "                 RandomForestClassifier(n_estimators=500, random_state=12))])</pre><b>Please rerun this cell to show the HTML repr or trust the notebook.</b></div><div class=\"sk-container\" hidden><div class=\"sk-item sk-dashed-wrapped\"><div class=\"sk-label-container\"><div class=\"sk-label sk-toggleable\"><input class=\"sk-toggleable__control sk-hidden--visually\" id=\"3a668bad-bf70-4b59-b9c9-77afada138a2\" type=\"checkbox\" ><label for=\"3a668bad-bf70-4b59-b9c9-77afada138a2\" class=\"sk-toggleable__label sk-toggleable__label-arrow\">Pipeline</label><div class=\"sk-toggleable__content\"><pre>Pipeline(steps=[(&#x27;preproc&#x27;,\n",
              "                 ColumnTransformer(remainder=&#x27;passthrough&#x27;,\n",
              "                                   transformers=[(&#x27;cat_pipe&#x27;,\n",
              "                                                  Pipeline(steps=[(&#x27;cat_impute&#x27;,\n",
              "                                                                   SimpleImputer(strategy=&#x27;most_frequent&#x27;)),\n",
              "                                                                  (&#x27;onehot_cat&#x27;,\n",
              "                                                                   OneHotEncoder(handle_unknown=&#x27;ignore&#x27;))]),\n",
              "                                                  &lt;sklearn.compose._column_transformer.make_column_selector object at 0x7fb722f52710&gt;),\n",
              "                                                 (&#x27;num_pipe&#x27;,\n",
              "                                                  Pipeline(steps=[(&#x27;impute_num&#x27;,\n",
              "                                                                   SimpleImputer(strategy=&#x27;median&#x27;)),\n",
              "                                                                  (&#x27;scale_num&#x27;,\n",
              "                                                                   StandardScaler())]),\n",
              "                                                  &lt;sklearn.compose._column_transformer.make_column_selector object at 0x7fb722ed7390&gt;)])),\n",
              "                (&#x27;mdl&#x27;,\n",
              "                 RandomForestClassifier(n_estimators=500, random_state=12))])</pre></div></div></div><div class=\"sk-serial\"><div class=\"sk-item sk-dashed-wrapped\"><div class=\"sk-label-container\"><div class=\"sk-label sk-toggleable\"><input class=\"sk-toggleable__control sk-hidden--visually\" id=\"2100c0a3-7302-4ece-8224-597b45971fe3\" type=\"checkbox\" ><label for=\"2100c0a3-7302-4ece-8224-597b45971fe3\" class=\"sk-toggleable__label sk-toggleable__label-arrow\">preproc: ColumnTransformer</label><div class=\"sk-toggleable__content\"><pre>ColumnTransformer(remainder=&#x27;passthrough&#x27;,\n",
              "                  transformers=[(&#x27;cat_pipe&#x27;,\n",
              "                                 Pipeline(steps=[(&#x27;cat_impute&#x27;,\n",
              "                                                  SimpleImputer(strategy=&#x27;most_frequent&#x27;)),\n",
              "                                                 (&#x27;onehot_cat&#x27;,\n",
              "                                                  OneHotEncoder(handle_unknown=&#x27;ignore&#x27;))]),\n",
              "                                 &lt;sklearn.compose._column_transformer.make_column_selector object at 0x7fb722f52710&gt;),\n",
              "                                (&#x27;num_pipe&#x27;,\n",
              "                                 Pipeline(steps=[(&#x27;impute_num&#x27;,\n",
              "                                                  SimpleImputer(strategy=&#x27;median&#x27;)),\n",
              "                                                 (&#x27;scale_num&#x27;,\n",
              "                                                  StandardScaler())]),\n",
              "                                 &lt;sklearn.compose._column_transformer.make_column_selector object at 0x7fb722ed7390&gt;)])</pre></div></div></div><div class=\"sk-parallel\"><div class=\"sk-parallel-item\"><div class=\"sk-item\"><div class=\"sk-label-container\"><div class=\"sk-label sk-toggleable\"><input class=\"sk-toggleable__control sk-hidden--visually\" id=\"6e12d8df-6830-474a-990f-952e91e0039b\" type=\"checkbox\" ><label for=\"6e12d8df-6830-474a-990f-952e91e0039b\" class=\"sk-toggleable__label sk-toggleable__label-arrow\">cat_pipe</label><div class=\"sk-toggleable__content\"><pre>&lt;sklearn.compose._column_transformer.make_column_selector object at 0x7fb722f52710&gt;</pre></div></div></div><div class=\"sk-serial\"><div class=\"sk-item\"><div class=\"sk-serial\"><div class=\"sk-item\"><div class=\"sk-estimator sk-toggleable\"><input class=\"sk-toggleable__control sk-hidden--visually\" id=\"e07e60ea-d7f6-4bc8-a11f-4b38f364481e\" type=\"checkbox\" ><label for=\"e07e60ea-d7f6-4bc8-a11f-4b38f364481e\" class=\"sk-toggleable__label sk-toggleable__label-arrow\">SimpleImputer</label><div class=\"sk-toggleable__content\"><pre>SimpleImputer(strategy=&#x27;most_frequent&#x27;)</pre></div></div></div><div class=\"sk-item\"><div class=\"sk-estimator sk-toggleable\"><input class=\"sk-toggleable__control sk-hidden--visually\" id=\"b1861f06-f325-4347-ba2a-40ea860b1514\" type=\"checkbox\" ><label for=\"b1861f06-f325-4347-ba2a-40ea860b1514\" class=\"sk-toggleable__label sk-toggleable__label-arrow\">OneHotEncoder</label><div class=\"sk-toggleable__content\"><pre>OneHotEncoder(handle_unknown=&#x27;ignore&#x27;)</pre></div></div></div></div></div></div></div></div><div class=\"sk-parallel-item\"><div class=\"sk-item\"><div class=\"sk-label-container\"><div class=\"sk-label sk-toggleable\"><input class=\"sk-toggleable__control sk-hidden--visually\" id=\"89126f36-6128-4b26-8bf5-3a1ab2968402\" type=\"checkbox\" ><label for=\"89126f36-6128-4b26-8bf5-3a1ab2968402\" class=\"sk-toggleable__label sk-toggleable__label-arrow\">num_pipe</label><div class=\"sk-toggleable__content\"><pre>&lt;sklearn.compose._column_transformer.make_column_selector object at 0x7fb722ed7390&gt;</pre></div></div></div><div class=\"sk-serial\"><div class=\"sk-item\"><div class=\"sk-serial\"><div class=\"sk-item\"><div class=\"sk-estimator sk-toggleable\"><input class=\"sk-toggleable__control sk-hidden--visually\" id=\"c9a31dab-94a7-4a2b-a049-345cd45d94af\" type=\"checkbox\" ><label for=\"c9a31dab-94a7-4a2b-a049-345cd45d94af\" class=\"sk-toggleable__label sk-toggleable__label-arrow\">SimpleImputer</label><div class=\"sk-toggleable__content\"><pre>SimpleImputer(strategy=&#x27;median&#x27;)</pre></div></div></div><div class=\"sk-item\"><div class=\"sk-estimator sk-toggleable\"><input class=\"sk-toggleable__control sk-hidden--visually\" id=\"648b1902-4cea-4d67-a8af-9df26580ed6c\" type=\"checkbox\" ><label for=\"648b1902-4cea-4d67-a8af-9df26580ed6c\" class=\"sk-toggleable__label sk-toggleable__label-arrow\">StandardScaler</label><div class=\"sk-toggleable__content\"><pre>StandardScaler()</pre></div></div></div></div></div></div></div></div><div class=\"sk-parallel-item\"><div class=\"sk-item\"><div class=\"sk-label-container\"><div class=\"sk-label sk-toggleable\"><input class=\"sk-toggleable__control sk-hidden--visually\" id=\"c6f0c76d-91a8-4b45-9369-6e87e7f557fe\" type=\"checkbox\" ><label for=\"c6f0c76d-91a8-4b45-9369-6e87e7f557fe\" class=\"sk-toggleable__label sk-toggleable__label-arrow\">remainder</label><div class=\"sk-toggleable__content\"><pre></pre></div></div></div><div class=\"sk-serial\"><div class=\"sk-item\"><div class=\"sk-estimator sk-toggleable\"><input class=\"sk-toggleable__control sk-hidden--visually\" id=\"6eac00b9-63aa-4aef-92a0-14082303da68\" type=\"checkbox\" ><label for=\"6eac00b9-63aa-4aef-92a0-14082303da68\" class=\"sk-toggleable__label sk-toggleable__label-arrow\">passthrough</label><div class=\"sk-toggleable__content\"><pre>passthrough</pre></div></div></div></div></div></div></div></div><div class=\"sk-item\"><div class=\"sk-estimator sk-toggleable\"><input class=\"sk-toggleable__control sk-hidden--visually\" id=\"3de3824d-31eb-4e0b-8c64-363b96a58065\" type=\"checkbox\" ><label for=\"3de3824d-31eb-4e0b-8c64-363b96a58065\" class=\"sk-toggleable__label sk-toggleable__label-arrow\">RandomForestClassifier</label><div class=\"sk-toggleable__content\"><pre>RandomForestClassifier(n_estimators=500, random_state=12)</pre></div></div></div></div></div></div></div>"
            ]
          },
          "metadata": {}
        }
      ]
    },
    {
      "cell_type": "code",
      "source": [
        "pipe.fit(X_train, y_train)\n",
        "#pipe.predict_proba(X_test)\n",
        "y_pred = pipe.predict(X_test)\n",
        "print(\"Accuracy:\",metrics.accuracy_score(y_test, y_pred))"
      ],
      "metadata": {
        "id": "LzlQsr-lBqoH",
        "outputId": "3ca8f37e-cff2-451f-87c4-ce19f4f6e2b2",
        "colab": {
          "base_uri": "https://localhost:8080/"
        }
      },
      "execution_count": 85,
      "outputs": [
        {
          "output_type": "stream",
          "name": "stdout",
          "text": [
            "Accuracy: 0.992\n"
          ]
        }
      ]
    },
    {
      "cell_type": "code",
      "source": [
        "y_proba = pipe.predict_proba(X_test)\n",
        "\n",
        "y_proba = y_proba[:,1]\n",
        "\n",
        "fpr, tpr, thresholds = roc_curve(y_test, y_pred)\n",
        "\n",
        "net_gain = tpr - fpr\n",
        "ix = np.argmax(net_gain)\n",
        "print('Best Threshold=%f, Net Gain=%.3f' % (thresholds[ix], net_gain[ix]))\n",
        "\n",
        "# plot the roc curve for the model\n",
        "pyplot.plot([0,1], [0,1], linestyle='--', label='No Skill')\n",
        "pyplot.plot(fpr, tpr, marker='.', label='Logistic Regression')\n",
        "pyplot.scatter(fpr[ix], tpr[ix], marker='o', color='black', label='Best threshold')\n",
        "\n",
        "# axis labels\n",
        "pyplot.xlabel('FPR')\n",
        "pyplot.ylabel('TPR')\n",
        "pyplot.legend()\n",
        "\n",
        "pyplot.show()\n"
      ],
      "metadata": {
        "id": "_9R2dmTHrvli",
        "outputId": "1dcfccc5-d4f3-4913-e72f-8321ff98db4f",
        "colab": {
          "base_uri": "https://localhost:8080/",
          "height": 297
        }
      },
      "execution_count": 86,
      "outputs": [
        {
          "output_type": "stream",
          "name": "stdout",
          "text": [
            "Best Threshold=1.000000, Net Gain=0.982\n"
          ]
        },
        {
          "output_type": "display_data",
          "data": {
            "text/plain": [
              "<Figure size 432x288 with 1 Axes>"
            ],
            "image/png": "[encoded data removed]"
          },
          "metadata": {
            "needs_background": "light"
          }
        }
      ]
    },
    {
      "cell_type": "code",
      "source": [
        "cm = pd.DataFrame()\n",
        "cm['tpr'] = tpr\n",
        "cm['fpr'] = fpr\n",
        "cm['thresholds'] = thresholds\n",
        "cm['tpr-fpr'] = tpr - fpr\n",
        "cm['value'] = cm['tpr'] * 10 - cm['fpr'] * 1000\n",
        "cm.sort_values('value', ascending=False).iloc[0, 2]"
      ],
      "metadata": {
        "id": "aQAK9bC9twGg",
        "outputId": "24d8e0d1-8581-4634-ffae-7a32a27232df",
        "colab": {
          "base_uri": "https://localhost:8080/"
        }
      },
      "execution_count": 87,
      "outputs": [
        {
          "output_type": "execute_result",
          "data": {
            "text/plain": [
              "2"
            ]
          },
          "metadata": {},
          "execution_count": 87
        }
      ]
    },
    {
      "cell_type": "markdown",
      "source": [
        "#Cross-validation with hyperparameter tuning"
      ],
      "metadata": {
        "id": "KQlqJ5yFLxiV"
      }
    },
    {
      "cell_type": "code",
      "source": [
        "#Gradiant Boosting\n",
        "#param_grid = {\n",
        "#    'mdl__learning_rate': (0.01, 0.1, 1, 10),\n",
        "#    'mdl__max_leaf_nodes': (3, 10, 30)}\n",
        "#grid_search = GridSearchCV(pipe, param_grid = param_grid, cv = 5, n_jobs=2)\n",
        "\n",
        "#LogisticRegression \n",
        "#tuning_grid = {'mdl__l1_ratio' : np.linspace(0,1,5),\n",
        "#               'mdl__C': np.logspace(-1, 6, 3) }\n",
        "#grid_search = GridSearchCV(pipe, param_grid = tuning_grid, cv = 10, return_train_score=True)\n",
        "#tuning_grid\n",
        "\n",
        "\n",
        "#RFC\n",
        "maxdepth_grid = [ 6, 8, 10, 12, 15, 20]\n",
        "param_grid = [\n",
        "   {'mdl__max_depth': maxdepth_grid },\n",
        "]\n",
        "grid_search = GridSearchCV(pipe, cv=5, param_grid=param_grid, return_train_score=True)"
      ],
      "metadata": {
        "id": "OCAR9axSN6YO"
      },
      "execution_count": 88,
      "outputs": []
    },
    {
      "cell_type": "code",
      "source": [
        "#fit\n",
        "grid_search.fit(X_train, y_train)"
      ],
      "metadata": {
        "colab": {
          "base_uri": "https://localhost:8080/"
        },
        "id": "jLQ7yFWuOGn4",
        "outputId": "bd00a1e8-689e-4e5a-cdac-951a032312e9"
      },
      "execution_count": 89,
      "outputs": [
        {
          "output_type": "execute_result",
          "data": {
            "text/plain": [
              "GridSearchCV(cv=5,\n",
              "             estimator=Pipeline(steps=[('preproc',\n",
              "                                        ColumnTransformer(remainder='passthrough',\n",
              "                                                          transformers=[('cat_pipe',\n",
              "                                                                         Pipeline(steps=[('cat_impute',\n",
              "                                                                                          SimpleImputer(strategy='most_frequent')),\n",
              "                                                                                         ('onehot_cat',\n",
              "                                                                                          OneHotEncoder(handle_unknown='ignore'))]),\n",
              "                                                                         <sklearn.compose._column_transformer.make_column_selector object at 0x7fb722f52710>),\n",
              "                                                                        ('num_pipe',\n",
              "                                                                         Pipeline(steps=[('impute_num',\n",
              "                                                                                          SimpleImputer(strategy='median')),\n",
              "                                                                                         ('scale_num',\n",
              "                                                                                          StandardScaler())]),\n",
              "                                                                         <sklearn.compose._column_transformer.make_column_selector object at 0x7fb722ed7390>)])),\n",
              "                                       ('mdl',\n",
              "                                        RandomForestClassifier(n_estimators=500,\n",
              "                                                               random_state=12))]),\n",
              "             param_grid=[{'mdl__max_depth': [6, 8, 10, 12, 15, 20]}],\n",
              "             return_train_score=True)"
            ]
          },
          "metadata": {},
          "execution_count": 89
        }
      ]
    },
    {
      "cell_type": "code",
      "source": [
        "#Find the best performing model parameters and their values\n",
        "print(grid_search.best_score_)\n",
        "grid_search.best_params_"
      ],
      "metadata": {
        "colab": {
          "base_uri": "https://localhost:8080/"
        },
        "id": "ZNsfq-IrVX89",
        "outputId": "caf2b4f5-48a5-4cea-9903-f9a9b22a3603"
      },
      "execution_count": 90,
      "outputs": [
        {
          "output_type": "stream",
          "name": "stdout",
          "text": [
            "0.9953333333333333\n"
          ]
        },
        {
          "output_type": "execute_result",
          "data": {
            "text/plain": [
              "{'mdl__max_depth': 12}"
            ]
          },
          "metadata": {},
          "execution_count": 90
        }
      ]
    },
    {
      "cell_type": "code",
      "source": [
        "grid_search.best_estimator_"
      ],
      "metadata": {
        "colab": {
          "base_uri": "https://localhost:8080/"
        },
        "id": "Ayj7clKFVfVm",
        "outputId": "11fe9dd6-20a9-4a97-c073-494e4cfa2d28"
      },
      "execution_count": 91,
      "outputs": [
        {
          "output_type": "execute_result",
          "data": {
            "text/plain": [
              "Pipeline(steps=[('preproc',\n",
              "                 ColumnTransformer(remainder='passthrough',\n",
              "                                   transformers=[('cat_pipe',\n",
              "                                                  Pipeline(steps=[('cat_impute',\n",
              "                                                                   SimpleImputer(strategy='most_frequent')),\n",
              "                                                                  ('onehot_cat',\n",
              "                                                                   OneHotEncoder(handle_unknown='ignore'))]),\n",
              "                                                  <sklearn.compose._column_transformer.make_column_selector object at 0x7fb722e46290>),\n",
              "                                                 ('num_pipe',\n",
              "                                                  Pipeline(steps=[('impute_num',\n",
              "                                                                   SimpleImputer(strategy='median')),\n",
              "                                                                  ('scale_num',\n",
              "                                                                   StandardScaler())]),\n",
              "                                                  <sklearn.compose._column_transformer.make_column_selector object at 0x7fb722e46b10>)])),\n",
              "                ('mdl',\n",
              "                 RandomForestClassifier(max_depth=12, n_estimators=500,\n",
              "                                        random_state=12))])"
            ]
          },
          "metadata": {},
          "execution_count": 91
        }
      ]
    },
    {
      "cell_type": "markdown",
      "source": [
        "#Variable Importance"
      ],
      "metadata": {
        "id": "ARyLFSQYVjUV"
      }
    },
    {
      "cell_type": "code",
      "source": [
        "print(grid_search.classes_)\n",
        "print(\"0 is benign, 1 is malignant\")"
      ],
      "metadata": {
        "colab": {
          "base_uri": "https://localhost:8080/"
        },
        "id": "dw-iq3ceVlcg",
        "outputId": "b096ce12-f72c-467b-ff51-6fa589740873"
      },
      "execution_count": 92,
      "outputs": [
        {
          "output_type": "stream",
          "name": "stdout",
          "text": [
            "[0 1]\n",
            "0 is benign, 1 is malignant\n"
          ]
        }
      ]
    },
    {
      "cell_type": "code",
      "source": [
        "#GBM\n",
        "#vip = grid_search.best_estimator_['mdl'].feature_importances_\n",
        "#vip\n",
        "\n",
        "#LogReg\n",
        "#vip = grid_search.best_estimator_['mdl'].coef_[0]\n",
        "#vip\n",
        "\n",
        "#RFC\n",
        "vip = grid_search.best_estimator_['mdl'].feature_importances_\n",
        "vip"
      ],
      "metadata": {
        "colab": {
          "base_uri": "https://localhost:8080/"
        },
        "id": "MO-av08lVw_0",
        "outputId": "49050944-4bbb-4de8-f095-98187fe9ac45"
      },
      "execution_count": 93,
      "outputs": [
        {
          "output_type": "execute_result",
          "data": {
            "text/plain": [
              "array([5.36884055e-05, 2.79992399e-03, 2.33142775e-03, 1.93631812e-03,\n",
              "       3.48664915e-03, 8.86254780e-04, 4.16961023e-04, 3.16284678e-04,\n",
              "       2.70988186e-04, 8.89270252e-05, 1.39166788e-03, 3.30053790e-04,\n",
              "       5.10473006e-04, 1.13833224e-05, 3.80709930e-05, 1.57841739e-03,\n",
              "       1.46482822e-03, 4.09451057e-04, 2.19621874e-04, 9.48351415e-05,\n",
              "       1.46997644e-03, 1.79700953e-03, 5.51714445e-04, 7.31256040e-04,\n",
              "       4.90347394e-05, 9.66643403e-06, 8.65612616e-07, 4.10490897e-05,\n",
              "       2.91649065e-05, 4.54781661e-05, 4.97139698e-06, 1.42056702e-04,\n",
              "       5.93786292e-07, 1.08562416e-04, 1.52323245e-05, 1.83087899e-06,\n",
              "       3.94859813e-07, 7.03207420e-06, 0.00000000e+00, 2.33126091e-05,\n",
              "       8.31600311e-04, 1.97701567e-05, 2.56934130e-06, 1.92809019e-06,\n",
              "       5.57947209e-05, 4.10179170e-05, 5.03780480e-05, 3.40027938e-06,\n",
              "       3.77144051e-05, 1.03246606e-04, 1.35385517e-04, 3.64950243e-07,\n",
              "       6.05791579e-06, 8.71528318e-05, 1.28422151e-08, 1.85479586e-05,\n",
              "       3.55009976e-05, 2.85184392e-07, 1.09076700e-05, 9.13847883e-04,\n",
              "       2.16715418e-05, 1.42617433e-06, 6.78814073e-07, 1.25863976e-04,\n",
              "       6.38088571e-06, 1.24180391e-05, 1.08444730e-05, 5.40227883e-05,\n",
              "       2.04017488e-05, 6.65866883e-05, 1.31909323e-05, 2.83570170e-08,\n",
              "       2.14190253e-05, 1.85234052e-05, 1.01308631e-05, 1.35535531e-05,\n",
              "       5.93832769e-04, 1.87836221e-05, 1.98364795e-05, 1.32682755e-05,\n",
              "       6.82462256e-08, 3.03962840e-05, 3.10835444e-08, 1.08578373e-05,\n",
              "       3.59064652e-05, 1.07831211e-04, 6.99493184e-05, 2.81655780e-05,\n",
              "       1.77081794e-08, 9.27102053e-05, 1.04812222e-07, 3.35870038e-06,\n",
              "       2.47710932e-05, 1.55794994e-05, 1.44068404e-07, 6.16187349e-03,\n",
              "       1.56187931e-05, 3.57436098e-09, 2.66029125e-04, 3.78277301e-05,\n",
              "       3.67663271e-06, 3.64918629e-05, 7.19787741e-06, 1.68464146e-08,\n",
              "       6.53354808e-06, 5.73642004e-10, 8.36898885e-09, 7.41372221e-09,\n",
              "       2.12875201e-07, 0.00000000e+00, 1.72700803e-05, 4.26593052e-05,\n",
              "       1.06213817e-04, 1.45438685e-09, 0.00000000e+00, 1.16271127e-08,\n",
              "       0.00000000e+00, 1.73532232e-07, 2.08841961e-05, 3.87349808e-05,\n",
              "       3.82799373e-09, 3.31368377e-09, 4.74648901e-08, 2.29168554e-08,\n",
              "       2.81511101e-06, 2.19742619e-06, 2.59839890e-08, 0.00000000e+00,\n",
              "       4.21572806e-08, 4.46602850e-06, 1.52733681e-05, 9.46959766e-08,\n",
              "       1.14667668e-08, 1.01199850e-06, 1.40408336e-06, 1.39106630e-05,\n",
              "       2.46569130e-08, 3.13458172e-07, 2.66678488e-05, 1.23842781e-06,\n",
              "       5.16971777e-07, 0.00000000e+00, 2.08113919e-05, 1.03861859e-07,\n",
              "       4.89969153e-05, 3.41087596e-05, 4.72783923e-06, 1.14862296e-07,\n",
              "       7.38779523e-05, 9.69926131e-06, 1.86655560e-06, 0.00000000e+00,\n",
              "       1.12057855e-05, 1.11173984e-05, 1.06841121e-08, 1.18080764e-06,\n",
              "       4.04820046e-05, 4.96633522e-05, 0.00000000e+00, 0.00000000e+00,\n",
              "       8.55990489e-10, 4.34068016e-05, 4.58370517e-05, 0.00000000e+00,\n",
              "       2.96655518e-08, 0.00000000e+00, 0.00000000e+00, 9.57394614e-07,\n",
              "       0.00000000e+00, 1.88080769e-05, 9.27697491e-07, 1.14531669e-07,\n",
              "       0.00000000e+00, 6.00560642e-06, 2.06600294e-05, 4.88344108e-06,\n",
              "       1.34678722e-07, 1.22720825e-06, 0.00000000e+00, 3.73322562e-08,\n",
              "       1.05182302e-05, 2.88659440e-07, 2.54386655e-08, 6.70751701e-05,\n",
              "       2.48111999e-05, 1.00477119e-05, 1.85126933e-07, 2.55049053e-07,\n",
              "       1.32610930e-05, 1.39901516e-05, 3.85049387e-05, 1.13316956e-09,\n",
              "       0.00000000e+00, 1.34870162e-05, 1.60919286e-07, 1.93648436e-05,\n",
              "       1.58605687e-07, 0.00000000e+00, 1.13803533e-05, 3.27433591e-05,\n",
              "       3.67183319e-08, 1.12668302e-06, 4.88841832e-07, 9.30822096e-07,\n",
              "       1.60033587e-05, 6.24503487e-06, 1.22382133e-05, 6.66477681e-05,\n",
              "       3.25502827e-08, 6.90539662e-07, 0.00000000e+00, 8.98325802e-07,\n",
              "       2.73705132e-05, 4.42232423e-05, 1.29701139e-06, 2.71338131e-06,\n",
              "       1.03452791e-07, 1.96140017e-05, 5.96852229e-05, 2.44640763e-05,\n",
              "       1.11360928e-05, 4.36086647e-07, 2.63981728e-09, 1.00994689e-05,\n",
              "       4.00496753e-09, 8.49625136e-06, 2.90007316e-05, 1.85119164e-05,\n",
              "       0.00000000e+00, 9.88230686e-06, 3.24370514e-09, 5.66699621e-06,\n",
              "       3.45681429e-08, 2.81199524e-06, 5.71804850e-07, 1.09189805e-05,\n",
              "       4.13660365e-09, 0.00000000e+00, 0.00000000e+00, 2.02573225e-05,\n",
              "       1.61054897e-05, 1.16061873e-06, 2.27419642e-08, 5.46483324e-05,\n",
              "       2.07547242e-05, 5.54423224e-07, 2.30577118e-05, 1.25810806e-08,\n",
              "       2.15852220e-08, 6.61722795e-06, 4.02950139e-05, 1.00462036e-06,\n",
              "       1.32507492e-07, 0.00000000e+00, 2.66913477e-05, 2.09424269e-05,\n",
              "       8.35633845e-08, 1.30342431e-05, 1.75522469e-07, 6.31864752e-06,\n",
              "       2.17249883e-07, 0.00000000e+00, 1.06240803e-05, 2.19051526e-05,\n",
              "       8.27925051e-06, 2.28189155e-05, 1.13205367e-05, 1.51279271e-05,\n",
              "       0.00000000e+00, 6.03105495e-06, 1.77113906e-05, 2.88327661e-05,\n",
              "       1.47295115e-06, 5.13798234e-07, 7.89411585e-09, 1.20162699e-07,\n",
              "       5.80119575e-07, 5.84088134e-06, 6.52756776e-09, 4.67617673e-08,\n",
              "       1.78248812e-05, 6.96048886e-05, 0.00000000e+00, 2.01224193e-07,\n",
              "       3.91354401e-08, 1.44978004e-08, 1.62569607e-05, 2.11844476e-08,\n",
              "       0.00000000e+00, 0.00000000e+00, 1.82140646e-08, 2.83135666e-05,\n",
              "       3.71002229e-06, 1.50460086e-05, 3.07087636e-05, 9.68666427e-06,\n",
              "       1.85188862e-08, 3.39498974e-07, 2.15557828e-05, 2.32448102e-08,\n",
              "       5.82419465e-03, 4.22578874e-03, 5.04879950e-05, 5.25955207e-04,\n",
              "       1.00333654e-02, 2.52811161e-05, 2.75844497e-05, 0.00000000e+00,\n",
              "       3.84022143e-07, 1.67770626e-06, 3.63753920e-05, 3.56915032e-05,\n",
              "       4.08486931e-05, 1.04896849e-05, 7.65156483e-06, 1.80922796e-05,\n",
              "       0.00000000e+00, 9.13446432e-05, 1.94686075e-05, 1.99155711e-05,\n",
              "       4.35552454e-05, 1.05023286e-04, 1.45370088e-06, 0.00000000e+00,\n",
              "       1.61539652e-05, 0.00000000e+00, 5.80456449e-05, 5.09133813e-06,\n",
              "       1.34302001e-08, 1.03717827e-08, 6.77857638e-09, 5.11172609e-05,\n",
              "       1.15023015e-04, 1.00198883e-08, 7.23341862e-05, 8.16747372e-05,\n",
              "       6.82672412e-05, 1.92133794e-06, 9.18015544e-03, 2.09848243e-05,\n",
              "       3.47465485e-05, 6.99834644e-05, 3.86195335e-05, 7.12942833e-05,\n",
              "       1.05476781e-05, 5.89547342e-06, 4.05330120e-05, 2.24073196e-05,\n",
              "       1.57328390e-05, 5.52692499e-05, 6.35175938e-05, 4.05337693e-05,\n",
              "       1.69746102e-05, 2.59571711e-05, 3.94029779e-02, 4.27438350e-02,\n",
              "       1.44492889e-02, 3.72545687e-03, 1.85551098e-06, 8.65491836e-07,\n",
              "       0.00000000e+00, 4.36176068e-05, 1.29860108e-06, 4.55738427e-07,\n",
              "       1.16665704e-04, 6.42444771e-06, 0.00000000e+00, 0.00000000e+00,\n",
              "       2.07121490e-05, 2.43201481e-07, 8.64984438e-05, 1.06440278e-05,\n",
              "       1.73278861e-09, 0.00000000e+00, 1.77940606e-07, 1.54074829e-09,\n",
              "       8.17597506e-06, 1.52858424e-07, 9.80427381e-08, 4.40352074e-07,\n",
              "       2.93510130e-05, 4.14461781e-06, 2.43016655e-05, 2.59874649e-05,\n",
              "       1.71170300e-05, 5.86905789e-05, 3.89943692e-05, 6.20479777e-09,\n",
              "       1.64638222e-06, 6.30386307e-05, 0.00000000e+00, 5.15720412e-06,\n",
              "       4.91902347e-06, 4.66388463e-05, 1.76423812e-05, 1.22752465e-06,\n",
              "       8.02216711e-07, 1.41699269e-05, 3.77338791e-07, 7.66862759e-06,\n",
              "       1.80681116e-07, 1.46757061e-07, 8.27279578e-06, 1.26762351e-06,\n",
              "       3.19100183e-09, 7.50810692e-06, 1.68745994e-07, 1.14147666e-05,\n",
              "       7.65002939e-05, 2.46705364e-05, 5.77218758e-06, 3.22157049e-08,\n",
              "       4.72207937e-06, 9.95283767e-06, 9.51448606e-10, 5.50991851e-07,\n",
              "       2.01892086e-05, 1.45003133e-05, 3.27586002e-08, 2.33729921e-07,\n",
              "       7.45626837e-07, 2.34280127e-07, 0.00000000e+00, 5.63853998e-08,\n",
              "       1.68110687e-05, 1.00666691e-05, 5.38415544e-05, 1.18573608e-08,\n",
              "       9.04109230e-06, 0.00000000e+00, 6.93187205e-09, 1.33846653e-05,\n",
              "       8.83777450e-08, 1.34181406e-05, 1.09421221e-07, 1.22827859e-05,\n",
              "       0.00000000e+00, 2.64061200e-06, 2.39038231e-08, 0.00000000e+00,\n",
              "       0.00000000e+00, 4.14468864e-07, 2.35313358e-06, 6.03278545e-06,\n",
              "       3.03337355e-05, 1.86237208e-06, 5.08576843e-06, 4.55722157e-05,\n",
              "       0.00000000e+00, 9.53737635e-10, 7.63868217e-07, 5.95779673e-06,\n",
              "       9.38585162e-09, 0.00000000e+00, 6.22750586e-09, 6.16481444e-05,\n",
              "       0.00000000e+00, 3.86168885e-07, 1.42830747e-05, 9.64986777e-07,\n",
              "       1.33032072e-06, 3.79723034e-06, 6.16711410e-06, 0.00000000e+00,\n",
              "       0.00000000e+00, 3.62512765e-05, 6.36259631e-06, 2.45645303e-06,\n",
              "       9.99671378e-05, 1.12590643e-08, 8.20018625e-07, 2.01774301e-08,\n",
              "       1.82885437e-05, 8.67490668e-07, 8.14998733e-07, 2.28023292e-07,\n",
              "       2.04966309e-05, 5.22115683e-06, 0.00000000e+00, 2.88521451e-08,\n",
              "       6.66590481e-06, 1.08639501e-06, 0.00000000e+00, 2.89973965e-05,\n",
              "       2.45520429e-05, 6.94371858e-07, 5.77372236e-06, 0.00000000e+00,\n",
              "       8.56897954e-07, 0.00000000e+00, 1.23681306e-09, 4.31655095e-08,\n",
              "       4.96502633e-06, 2.58764403e-05, 2.10300218e-09, 1.57275785e-06,\n",
              "       2.39983488e-07, 0.00000000e+00, 2.88990502e-05, 1.73185795e-05,\n",
              "       1.22793853e-09, 3.17704653e-05, 3.40161770e-05, 5.65532823e-06,\n",
              "       5.88164486e-06, 2.95641033e-06, 0.00000000e+00, 7.96994956e-06,\n",
              "       2.90274554e-06, 3.33340287e-06, 4.38418147e-06, 4.31977757e-07,\n",
              "       2.84842832e-05, 2.15738006e-07, 4.87843447e-05, 8.89483391e-08,\n",
              "       5.08278211e-06, 0.00000000e+00, 0.00000000e+00, 5.50602161e-08,\n",
              "       9.69519682e-09, 1.04910804e-06, 8.10708775e-06, 2.64024241e-06,\n",
              "       3.81459325e-09, 3.98848138e-06, 7.97447576e-06, 3.19086300e-09,\n",
              "       1.05093432e-05, 0.00000000e+00, 8.32504611e-06, 1.23802220e-08,\n",
              "       0.00000000e+00, 1.69229010e-07, 2.11742777e-06, 4.25045596e-07,\n",
              "       3.27387726e-07, 4.38115613e-09, 0.00000000e+00, 9.66939323e-05,\n",
              "       2.53984825e-06, 7.85586280e-05, 2.81767491e-04, 1.28185524e-07,\n",
              "       4.99738455e-05, 8.14385028e-07, 1.27085503e-04, 1.58253464e-04,\n",
              "       9.85467085e-05, 0.00000000e+00, 8.48927178e-06, 1.41180179e-04,\n",
              "       3.20369021e-05, 0.00000000e+00, 4.32908453e-05, 2.79572102e-05,\n",
              "       7.49463606e-05, 1.23325765e-04, 2.11032436e-04, 1.31941129e-04,\n",
              "       3.65817760e-05, 2.88077690e-04, 3.76677287e-07, 1.27452558e-04,\n",
              "       4.38492769e-05, 1.43268660e-04, 1.08042784e-04, 8.70810705e-06,\n",
              "       6.36858043e-06, 2.80711261e-08, 1.41615094e-08, 2.03507183e-09,\n",
              "       3.20472165e-08, 2.31245067e-05, 2.20208771e-06, 9.18341067e-06,\n",
              "       3.35890920e-06, 3.09563627e-06, 1.23806795e-05, 2.48266742e-05,\n",
              "       1.41380455e-04, 5.61993439e-05, 8.85096234e-05, 1.23202105e-03,\n",
              "       2.47920283e-04, 1.84256205e-04, 5.28246671e-05, 1.60235935e-03,\n",
              "       1.90445383e-03, 1.61147527e-03, 7.26897855e-04, 1.57553545e-03,\n",
              "       2.50947315e-03, 1.85813794e-04, 3.20958032e-04, 1.34138824e-03,\n",
              "       2.51973594e-03, 3.08912781e-03, 3.14961970e-03, 4.18838380e-04,\n",
              "       8.18635503e-05, 0.00000000e+00, 2.46618847e-05, 1.16108754e-06,\n",
              "       0.00000000e+00, 4.54166487e-05, 1.39934133e-07, 3.52724250e-08,\n",
              "       1.65300287e-08, 1.83195780e-05, 1.45315566e-06, 3.79479596e-10,\n",
              "       2.00888224e-05, 5.65865205e-07, 4.47673333e-06, 1.61183587e-04,\n",
              "       0.00000000e+00, 4.79733435e-06, 2.43100052e-06, 0.00000000e+00,\n",
              "       0.00000000e+00, 2.20948945e-06, 5.01604548e-08, 2.69197345e-07,\n",
              "       0.00000000e+00, 3.65487759e-05, 1.17707055e-07, 9.34005422e-08,\n",
              "       8.29472357e-08, 1.90645713e-05, 5.85167903e-07, 1.60668992e-09,\n",
              "       3.04977434e-09, 3.68377881e-05, 3.89286479e-05, 2.67617356e-05,\n",
              "       4.35815344e-06, 7.52828638e-09, 1.72883664e-06, 8.02377132e-06,\n",
              "       2.36803290e-06, 1.51680640e-05, 1.78917273e-05, 5.12222657e-07,\n",
              "       5.14006120e-05, 0.00000000e+00, 1.94479342e-05, 2.24924998e-05,\n",
              "       1.21162485e-07, 1.30964845e-07, 6.23189273e-05, 5.79465474e-10,\n",
              "       3.82503076e-06, 2.03416658e-04, 1.43926997e-08, 2.90699390e-05,\n",
              "       2.94377054e-05, 1.19126533e-04, 2.51181728e-05, 1.71195962e-04,\n",
              "       6.05947386e-05, 1.48013868e-04, 1.42652149e-04, 1.14450435e-05,\n",
              "       2.53483273e-05, 3.90836041e-05, 6.62127378e-07, 6.90750606e-06,\n",
              "       0.00000000e+00, 0.00000000e+00, 3.48890970e-05, 8.08220455e-06,\n",
              "       7.64770398e-06, 3.53419463e-05, 1.76729452e-05, 4.18305691e-05,\n",
              "       2.49910856e-06, 5.89776623e-06, 7.59937140e-05, 4.08029483e-05,\n",
              "       2.22865934e-06, 0.00000000e+00, 8.03857578e-09, 0.00000000e+00,\n",
              "       6.47261223e-07, 0.00000000e+00, 3.05032273e-08, 4.84453707e-06,\n",
              "       2.03597643e-05, 6.02515675e-05, 1.55155223e-05, 1.76309952e-05,\n",
              "       1.42283016e-04, 5.46780698e-05, 5.21549881e-05, 1.84013258e-04,\n",
              "       2.07224237e-04, 3.92328187e-06, 8.51828040e-05, 1.27479397e-04,\n",
              "       1.17822666e-04, 6.15452748e-05, 0.00000000e+00, 7.16712436e-06,\n",
              "       0.00000000e+00, 5.57613526e-04, 4.13425990e-05, 5.00413092e-06,\n",
              "       8.24735181e-06, 1.82883114e-05, 6.38979952e-05, 0.00000000e+00,\n",
              "       1.82300938e-02, 0.00000000e+00, 3.00553374e-05, 0.00000000e+00,\n",
              "       1.50464731e-07, 1.65851356e-05, 0.00000000e+00, 1.01472540e-05,\n",
              "       5.68492351e-06, 0.00000000e+00, 9.13316217e-06, 0.00000000e+00,\n",
              "       4.19086911e-05, 0.00000000e+00, 9.35368208e-09, 8.86243024e-08,\n",
              "       0.00000000e+00, 1.33134924e-08, 0.00000000e+00, 4.28430827e-05,\n",
              "       0.00000000e+00, 2.46938351e-05, 6.86707742e-05, 3.80181694e-06,\n",
              "       0.00000000e+00, 2.37506825e-09, 1.16152474e-07, 2.66714800e-06,\n",
              "       1.47355398e-07, 2.69149636e-05, 8.79907064e-07, 3.74372670e-05,\n",
              "       7.05366081e-05, 5.47652301e-08, 5.49972322e-05, 2.83959166e-05,\n",
              "       2.30481861e-05, 5.51403344e-08, 1.67054616e-05, 2.48962422e-07,\n",
              "       2.65390526e-06, 2.02616284e-05, 3.50488850e-07, 2.45699464e-05,\n",
              "       1.21518629e-04, 0.00000000e+00, 0.00000000e+00, 1.20771601e-05,\n",
              "       1.87241499e-08, 1.54939861e-05, 0.00000000e+00, 2.69232857e-05,\n",
              "       6.80811435e-08, 8.86352802e-06, 1.47999385e-08, 1.28571110e-05,\n",
              "       4.30543201e-06, 1.32890365e-08, 8.90378697e-07, 6.61991064e-05,\n",
              "       5.89003997e-05, 3.31699649e-06, 3.43427833e-07, 5.46647545e-09,\n",
              "       1.73356028e-09, 3.02832462e-08, 1.32337968e-06, 9.57221743e-06,\n",
              "       3.77980190e-05, 7.51254608e-06, 1.45912813e-07, 0.00000000e+00,\n",
              "       0.00000000e+00, 4.17877974e-08, 2.25218971e-07, 8.05981229e-07,\n",
              "       0.00000000e+00, 2.98493556e-05, 2.72365451e-06, 4.45462988e-05,\n",
              "       6.56128501e-05, 4.19861952e-05, 2.01594654e-06, 0.00000000e+00,\n",
              "       3.73149197e-06, 1.68484269e-06, 0.00000000e+00, 0.00000000e+00,\n",
              "       5.75513438e-06, 0.00000000e+00, 0.00000000e+00, 2.88989054e-06,\n",
              "       3.05382467e-06, 0.00000000e+00, 5.22723832e-06, 6.31401846e-07,\n",
              "       1.18845344e-08, 1.06863912e-07, 9.17102548e-10, 0.00000000e+00,\n",
              "       1.75387254e-05, 0.00000000e+00, 0.00000000e+00, 4.70139100e-05,\n",
              "       1.21586692e-09, 0.00000000e+00, 1.18410345e-08, 0.00000000e+00,\n",
              "       5.42976711e-07, 0.00000000e+00, 4.08661815e-06, 0.00000000e+00,\n",
              "       1.09311438e-05, 2.22980260e-05, 0.00000000e+00, 3.38704064e-05,\n",
              "       1.73331338e-03, 1.87335135e-03, 1.07594243e-05, 3.50175871e-09,\n",
              "       1.64300630e-04, 1.33127450e-04, 3.07376534e-05, 1.14302409e-04,\n",
              "       6.74017840e-04, 6.07813859e-03, 7.18321283e-04, 2.65997877e-04,\n",
              "       3.70298037e-04, 8.30235435e-04, 5.86454236e-04, 8.78117844e-04,\n",
              "       4.36392021e-04, 4.02479227e-04, 7.85150476e-04, 1.00846972e-05,\n",
              "       4.96292058e-04, 1.05146167e-03, 1.22593388e-04, 1.68346827e-04,\n",
              "       1.43053374e-03, 4.10161204e-04, 1.23870951e-04, 8.42902326e-03,\n",
              "       2.25313083e-03, 9.31375448e-04, 1.99466919e-03, 7.93669757e-05,\n",
              "       6.85816309e-05, 1.14440802e-04, 2.70268313e-05, 8.27740814e-05,\n",
              "       7.77055914e-05, 1.08947770e-04, 6.03695621e-05, 5.86510138e-05,\n",
              "       5.04279472e-05, 2.68469484e-05, 4.27868836e-05, 3.78707223e-05,\n",
              "       3.30269342e-05, 1.97129977e-04, 1.07594413e-06, 3.14857121e-05,\n",
              "       3.31014221e-05, 6.56262850e-05, 1.44275737e-07, 2.41028055e-06,\n",
              "       1.02608855e-05, 4.51315984e-05, 2.73857498e-06, 5.02452741e-06,\n",
              "       5.99382166e-06, 0.00000000e+00, 1.07117326e-06, 2.36308783e-05,\n",
              "       3.14250456e-05, 4.25989218e-07, 1.61547721e-05, 1.15664615e-05,\n",
              "       0.00000000e+00, 3.42106786e-05, 1.07053297e-06, 2.27798548e-06,\n",
              "       1.63401181e-05, 5.50679943e-05, 6.57397075e-05, 1.40972482e-05,\n",
              "       1.27830625e-06, 4.67397352e-06, 3.13524041e-07, 2.71877507e-06,\n",
              "       1.25578470e-05, 3.03786591e-05, 3.87614105e-06, 5.40336910e-06,\n",
              "       4.16567295e-05, 1.03159801e-05, 1.59152994e-01, 5.61097601e-04,\n",
              "       8.42053118e-05, 1.48761878e-02, 1.25533941e-02, 7.13629800e-05,\n",
              "       3.91588872e-04, 4.16491754e-03, 2.99660915e-05, 6.89873668e-04,\n",
              "       9.51981875e-04, 1.42578167e-02, 8.65812993e-03, 2.04311395e-02,\n",
              "       1.49874417e-02, 2.27923038e-02, 1.64565439e-02, 4.07303025e-02,\n",
              "       3.97162659e-02, 3.03083393e-03, 2.42966190e-02, 2.08194261e-02,\n",
              "       2.18093421e-02, 1.42811665e-02, 1.61654721e-02, 1.72289737e-02,\n",
              "       3.23174688e-02, 2.34890074e-02, 1.59643323e-03, 1.94012033e-03,\n",
              "       1.31407752e-03, 1.96532220e-03, 2.13571030e-02, 2.60927649e-02,\n",
              "       1.32436166e-02, 5.85584868e-03, 2.23576493e-03, 2.41737583e-03,\n",
              "       3.51221535e-03, 1.75131008e-02, 8.73652980e-03, 3.20422715e-02,\n",
              "       4.55386253e-04, 1.05142414e-02, 9.25857372e-03, 1.18915485e-02,\n",
              "       2.95881928e-02])"
            ]
          },
          "metadata": {},
          "execution_count": 93
        }
      ]
    },
    {
      "cell_type": "code",
      "source": [
        "# #get names in correct preproc order\n",
        "cat_names = grid_search.best_estimator_.named_steps['preproc'].transformers_[0][1].named_steps['onehot_cat'].get_feature_names()\n",
        "num_names = grid_search.best_estimator_.named_steps['preproc'].transformers_[1][2]\n",
        "\n",
        "# #create df with vip info\n",
        "coef_info = pd.DataFrame({'feat_names':np.hstack([cat_names, num_names]), 'vip': vip})\n",
        "\n",
        "# #get sign and magnitude information\n",
        "coef_info = coef_info.assign(coef_mag = abs(coef_info['vip']),\n",
        "                             coef_sign = np.sign(coef_info['vip']))\n",
        "\n",
        "# #sort and plot\n",
        "coef_info = coef_info.set_index('feat_names').sort_values(by='coef_mag', ascending=False)\n",
        "pyplot.figure(figsize = (20,10))\n",
        "sns.barplot(y=coef_info.index, x='coef_mag', hue='coef_sign', data=coef_info, orient='h', dodge=False)"
      ],
      "metadata": {
        "colab": {
          "base_uri": "https://localhost:8080/",
          "height": 592
        },
        "id": "vmj4SjJmWBoK",
        "outputId": "d348dbd6-366a-44cb-d071-6decdf2991fe"
      },
      "execution_count": 94,
      "outputs": [
        {
          "output_type": "stream",
          "name": "stderr",
          "text": [
            "/usr/local/lib/python3.7/dist-packages/sklearn/utils/deprecation.py:87: FutureWarning: Function get_feature_names is deprecated; get_feature_names is deprecated in 1.0 and will be removed in 1.2. Please use get_feature_names_out instead.\n",
            "  warnings.warn(msg, category=FutureWarning)\n"
          ]
        },
        {
          "output_type": "execute_result",
          "data": {
            "text/plain": [
              "<matplotlib.axes._subplots.AxesSubplot at 0x7fb722d34650>"
            ]
          },
          "metadata": {},
          "execution_count": 94
        },
        {
          "output_type": "display_data",
          "data": {
            "text/plain": [
              "<Figure size 1440x720 with 1 Axes>"
            ],
            "image/png": "[encoded data removed]"
          },
          "metadata": {
            "needs_background": "light"
          }
        }
      ]
    },
    {
      "cell_type": "markdown",
      "source": [
        "#Performance metrics on test data"
      ],
      "metadata": {
        "id": "9PZypUUgWW0g"
      }
    },
    {
      "cell_type": "code",
      "source": [
        "print(classification_report(y_test, grid_search.best_estimator_.predict(X_test)))"
      ],
      "metadata": {
        "colab": {
          "base_uri": "https://localhost:8080/"
        },
        "id": "Xyp1i0I2Wbdq",
        "outputId": "5e7d5fae-0040-4e75-ea72-89648f30132a"
      },
      "execution_count": 95,
      "outputs": [
        {
          "output_type": "stream",
          "name": "stdout",
          "text": [
            "              precision    recall  f1-score   support\n",
            "\n",
            "           0       0.99      0.98      0.99       174\n",
            "           1       0.99      0.99      0.99       326\n",
            "\n",
            "    accuracy                           0.99       500\n",
            "   macro avg       0.99      0.99      0.99       500\n",
            "weighted avg       0.99      0.99      0.99       500\n",
            "\n"
          ]
        }
      ]
    },
    {
      "cell_type": "code",
      "source": [
        "cm = confusion_matrix(y_test, grid_search.best_estimator_.predict(X_test))\n",
        "disp = ConfusionMatrixDisplay(confusion_matrix=cm,\n",
        "                               display_labels=grid_search.classes_)\n",
        "disp.plot()\n",
        "\n",
        "pyplot.show()"
      ],
      "metadata": {
        "colab": {
          "base_uri": "https://localhost:8080/",
          "height": 279
        },
        "id": "luM1IxzqWwlL",
        "outputId": "a462fe59-4ebb-4a14-d293-6636031ebbeb"
      },
      "execution_count": 96,
      "outputs": [
        {
          "output_type": "display_data",
          "data": {
            "text/plain": [
              "<Figure size 432x288 with 2 Axes>"
            ],
            "image/png": "[encoded data removed]"
          },
          "metadata": {
            "needs_background": "light"
          }
        }
      ]
    },
    {
      "cell_type": "markdown",
      "source": [
        "Average cost of total loss of asset, including data = 10,000 dollars<br> \n",
        "Average intervention cost = 500 dollars <br>\n",
        "Intervention is successful (prevent attack from spreading) 95% of the time\n",
        "\n",
        "##GBM Cost/Benefit\n",
        "\n",
        "149 Bening actual Benign<br>\n",
        "6 Benign predicted as Attack<br>\n",
        "22 Attacks predicted as Bening<br>\n",
        "323 Attacks predicted as attack<br>\n",
        "\n",
        "6 benign predicted as attack = 3,000 dollars<br>\n",
        "95% of 323 attacks stopped so 16.15 attacks successful = 169,575 dollars<br>\n",
        "95% of 323 attacks id'd correctly = 306.9<br>\n",
        "306.9 x 10,500 = 3,222,450 dollars savings<br>\n",
        "\n",
        "##LogisticRegression Cost/Benefit\n",
        "139 Bening actual Benign<br>\n",
        "16 Benign predicted as Attack<br>\n",
        "54 Attacks predicted as Bening<br>\n",
        "291 Attacks predicted as attack<br>\n",
        "\n",
        "16 benign predicted as attack = 8,000 dollars<br>\n",
        "95% of 291 attacks stopped so 14.55 attacks successful = 152,775 dollars<br>\n",
        "95% of 291 atacks id'd correctly = 276.45<br>\n",
        "276.45 x 10,500 = 2,902,725 dollars savings<br>\n",
        "\n",
        "##RandomForest Cost/Benefit\n",
        "149 Bening actual Benign<br>\n",
        "6 Benign predicted as Attack<br>\n",
        "17 Attacks predicted as Bening<br>\n",
        "328 Attacks predicted as attack<br>\n",
        "\n",
        "6 benign predicted as attack = 3,000 dollars<br>\n",
        "95% of 328 attacks stopped so 16.4 successful = 172,200 dollars<br>\n",
        "95% of 328 attacks id'd correctly = 311.16<br>\n",
        "311.16 x 10,500 = 3,267,180 dollars savings<br>"
      ],
      "metadata": {
        "id": "rawpIeFHwfPV"
      }
    },
    {
      "cell_type": "markdown",
      "source": [
        "##Feature Engineering Review\n",
        "\n",
        "1. With both features and dropped rows:\n",
        "TN = 145, TP = 328, FP = 9, FN = 17; Accuracy = 95%\n",
        "\n",
        "2. With keeping just TCP/UP Protocols and dropping rows:\n",
        "TN = 149, TP = 328, FP = 6, FN = 17; Accuracy = 95%\n",
        "\n",
        "3. With generalizing DNS:\n",
        "TN = 153, TP = 320, FP = 21, FN = 6; Accuracy = 95%\n",
        "\n",
        "4. With no features added/removed:\n",
        "TN = 171, TP = 324, FP = 3, FN = 2; Accuracy = 99% (wow)"
      ],
      "metadata": {
        "id": "Nm2J2q9bQZYz"
      }
    }
  ]
}