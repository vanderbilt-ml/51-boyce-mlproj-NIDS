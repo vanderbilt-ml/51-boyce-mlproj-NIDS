{
  "nbformat": 4,
  "nbformat_minor": 0,
  "metadata": {
    "colab": {
      "name": "Untitled0.ipynb",
      "provenance": [],
      "authorship_tag": "ABX9TyNa+gKP4MYnqFA/gqG09BWY"
    },
    "kernelspec": {
      "name": "python3",
      "display_name": "Python 3"
    },
    "language_info": {
      "name": "python"
    }
  },
  "cells": [
    {
      "cell_type": "code",
      "execution_count": null,
      "metadata": {
        "id": "DwwyvHdJ3Gcv"
      },
      "outputs": [],
      "source": [
        ""
      ]
    },
    {
      "cell_type": "markdown",
      "source": [
        "#Network Intrusion Detection System Classifier\n",
        "\n",
        "###Background\n",
        "Network Intrusion Detections Systems (NIDS) have been used in network defense for quite some time. It is of great importance, however, to keep NIDS systems updated to identify new and evolving attack types. Researchers at the University of Queensland, Australia have produced consolidated datasets to include attacks against IoT devices and data comprising attacks against multiple test networks. Of particular interest here as well is that the data is, essentially, brand new. \n",
        "\n",
        "###Description\n",
        "The work in this project will focus on using the provided data to create a Machine Learning model that can be used to create a NIDS in my home lab. This is something I have wanted to do for quite some time. I do not have any IoT devices running in the lab at the moment but may in the future and will aply the IoT data here as well.\n",
        "\n",
        "###Metric\n",
        "For now, the goal will be to classify traffic reflected in the dataset - bot, recon, worm, etc - with a score of 60% to allow for human intervention/triage. At the moment, I'm not too worried about DoS as I do not think anyone is DoS'ing me.\n",
        "\n",
        "###Sources\n",
        "Per the request of the researchers in using the data for academic purposes, the following papers are cited:\n",
        "\n",
        "Sarhan, M., Layeghy, S. & Portmann, M. Towards a Standard Feature Set for Network Intrusion Detection System Datasets. Mobile Netw Appl (2021). https://doi.org/10.1007/s11036-021-01843-0\n",
        "\n",
        "M. Sarhan, S. Layeghy, and M. Portmann, An explainable machine learning-based network intrusion detection system for enabling generalisability in securing iot networks, 2021. arXiv:2104.07183 [cs.CR] https://arxiv.org/abs/2104.07183\n",
        "\n",
        "Sarhan M., Layeghy S., Moustafa N., Portmann M. (2021) NetFlow Datasets for Machine Learning-Based Network Intrusion Detection Systems. In: Big Data Technologies and Applications. BDTA 2020, WiCON 2020. Springer, Cham. https://doi.org/10.1007/978-3-030-72802-1_9"
      ],
      "metadata": {
        "id": "WMhydK-F3x45"
      }
    },
    {
      "cell_type": "markdown",
      "source": [
        "##Libraries:"
      ],
      "metadata": {
        "id": "qFI4psdBwImU"
      }
    },
    {
      "cell_type": "code",
      "source": [
        "import pandas as pd\n",
        "import numpy as np\n",
        "import seaborn as sns\n",
        "from sklearn.metrics import roc_curve\n",
        "import matplotlib.pyplot as pyplot\n",
        "from sklearn.model_selection import train_test_split\n",
        "from sklearn.preprocessing import RobustScaler, OneHotEncoder, StandardScaler, MinMaxScaler\n",
        "from sklearn.model_selection import train_test_split, GridSearchCV\n",
        "from sklearn.linear_model import LogisticRegression\n",
        "from sklearn.ensemble import RandomForestClassifier\n",
        "from sklearn.pipeline import Pipeline \n",
        "from sklearn.compose import ColumnTransformer, make_column_selector\n",
        "from sklearn.impute import SimpleImputer\n",
        "from sklearn import metrics\n",
        "from sklearn.tree import DecisionTreeClassifier\n",
        "from sklearn.svm import SVC\n",
        "from sklearn.ensemble import GradientBoostingClassifier\n",
        "from sklearn import config_context\n",
        "from sklearn.metrics import classification_report, confusion_matrix, ConfusionMatrixDisplay"
      ],
      "metadata": {
        "id": "10SkVnkYs8mC"
      },
      "execution_count": 56,
      "outputs": []
    },
    {
      "cell_type": "markdown",
      "source": [
        "##Load data"
      ],
      "metadata": {
        "id": "cia4ejI1Ws8D"
      }
    },
    {
      "cell_type": "code",
      "source": [
        "transactions = pd.read_csv('NF-UQ-NIDS-v2_half.csv', nrows=2000)\n"
      ],
      "metadata": {
        "id": "7J-102puWu3_"
      },
      "execution_count": 57,
      "outputs": []
    },
    {
      "cell_type": "markdown",
      "source": [
        "##Explore Data"
      ],
      "metadata": {
        "id": "aX1UqsoIXgoj"
      }
    },
    {
      "cell_type": "code",
      "source": [
        "#overall info\n",
        "#display(transactions.info())\n",
        "#transactions.describe()\n",
        "transactions.dtypes\n",
        "#transactions.head()"
      ],
      "metadata": {
        "id": "G-VNIv4fXf6d",
        "outputId": "2cb2c1ad-c5f6-4bdd-87e5-992babdd7c0c",
        "colab": {
          "base_uri": "https://localhost:8080/"
        }
      },
      "execution_count": 3,
      "outputs": [
        {
          "output_type": "execute_result",
          "data": {
            "text/plain": [
              "IPV4_SRC_ADDR                   object\n",
              "L4_SRC_PORT                      int64\n",
              "IPV4_DST_ADDR                   object\n",
              "L4_DST_PORT                      int64\n",
              "PROTOCOL                         int64\n",
              "L7_PROTO                       float64\n",
              "IN_BYTES                         int64\n",
              "IN_PKTS                          int64\n",
              "OUT_BYTES                        int64\n",
              "OUT_PKTS                         int64\n",
              "TCP_FLAGS                        int64\n",
              "CLIENT_TCP_FLAGS                 int64\n",
              "SERVER_TCP_FLAGS                 int64\n",
              "FLOW_DURATION_MILLISECONDS       int64\n",
              "DURATION_IN                      int64\n",
              "DURATION_OUT                     int64\n",
              "MIN_TTL                          int64\n",
              "MAX_TTL                          int64\n",
              "LONGEST_FLOW_PKT                 int64\n",
              "SHORTEST_FLOW_PKT                int64\n",
              "MIN_IP_PKT_LEN                   int64\n",
              "MAX_IP_PKT_LEN                   int64\n",
              "SRC_TO_DST_SECOND_BYTES        float64\n",
              "DST_TO_SRC_SECOND_BYTES        float64\n",
              "RETRANSMITTED_IN_BYTES           int64\n",
              "RETRANSMITTED_IN_PKTS            int64\n",
              "RETRANSMITTED_OUT_BYTES          int64\n",
              "RETRANSMITTED_OUT_PKTS           int64\n",
              "SRC_TO_DST_AVG_THROUGHPUT        int64\n",
              "DST_TO_SRC_AVG_THROUGHPUT        int64\n",
              "NUM_PKTS_UP_TO_128_BYTES         int64\n",
              "NUM_PKTS_128_TO_256_BYTES        int64\n",
              "NUM_PKTS_256_TO_512_BYTES        int64\n",
              "NUM_PKTS_512_TO_1024_BYTES       int64\n",
              "NUM_PKTS_1024_TO_1514_BYTES      int64\n",
              "TCP_WIN_MAX_IN                   int64\n",
              "TCP_WIN_MAX_OUT                  int64\n",
              "ICMP_TYPE                        int64\n",
              "ICMP_IPV4_TYPE                   int64\n",
              "DNS_QUERY_ID                     int64\n",
              "DNS_QUERY_TYPE                   int64\n",
              "DNS_TTL_ANSWER                   int64\n",
              "FTP_COMMAND_RET_CODE             int64\n",
              "Label                            int64\n",
              "Attack                          object\n",
              "Dataset                         object\n",
              "dtype: object"
            ]
          },
          "metadata": {},
          "execution_count": 3
        }
      ]
    },
    {
      "cell_type": "code",
      "source": [
        "#average packets inbound per session\n",
        "display(transactions[\"IN_PKTS\"].mean())\n",
        "display(\"**************************************************************\")\n",
        "#average packets outbound per session\n",
        "display(transactions[\"OUT_PKTS\"].mean())\n",
        "display(\"**************************************************************\")\n",
        "#Unknown data\n",
        "display(transactions['PROTOCOL'].value_counts())\n",
        "display(transactions['L7_PROTO'].value_counts())"
      ],
      "metadata": {
        "id": "oKEfkDZSZyMU",
        "outputId": "e27d3206-64d0-4d7f-ae0a-cbbc48ee7bf8",
        "colab": {
          "base_uri": "https://localhost:8080/",
          "height": 998
        }
      },
      "execution_count": 4,
      "outputs": [
        {
          "output_type": "display_data",
          "data": {
            "text/plain": [
              "7.4145"
            ]
          },
          "metadata": {}
        },
        {
          "output_type": "display_data",
          "data": {
            "text/plain": [
              "'**************************************************************'"
            ],
            "application/vnd.google.colaboratory.intrinsic+json": {
              "type": "string"
            }
          },
          "metadata": {}
        },
        {
          "output_type": "display_data",
          "data": {
            "text/plain": [
              "4.113"
            ]
          },
          "metadata": {}
        },
        {
          "output_type": "display_data",
          "data": {
            "text/plain": [
              "'**************************************************************'"
            ],
            "application/vnd.google.colaboratory.intrinsic+json": {
              "type": "string"
            }
          },
          "metadata": {}
        },
        {
          "output_type": "display_data",
          "data": {
            "text/plain": [
              "6     1230\n",
              "17     767\n",
              "1        2\n",
              "2        1\n",
              "Name: PROTOCOL, dtype: int64"
            ]
          },
          "metadata": {}
        },
        {
          "output_type": "display_data",
          "data": {
            "text/plain": [
              "0.000      665\n",
              "7.000      631\n",
              "188.000    473\n",
              "91.000      44\n",
              "5.126       40\n",
              "1.000       18\n",
              "91.178      13\n",
              "7.178       11\n",
              "41.000      11\n",
              "91.126      10\n",
              "5.178       10\n",
              "131.700      9\n",
              "92.000       9\n",
              "77.000       7\n",
              "5.119        5\n",
              "5.240        4\n",
              "4.000        4\n",
              "5.239        3\n",
              "91.239       3\n",
              "91.140       2\n",
              "7.126        2\n",
              "166.000      2\n",
              "91.120       2\n",
              "91.212       2\n",
              "91.119       1\n",
              "51.000       1\n",
              "5.233        1\n",
              "91.240       1\n",
              "28.000       1\n",
              "91.290       1\n",
              "2.000        1\n",
              "91.233       1\n",
              "29.000       1\n",
              "5.700        1\n",
              "5.000        1\n",
              "10.000       1\n",
              "5.169        1\n",
              "226.000      1\n",
              "131.000      1\n",
              "5.120        1\n",
              "150.000      1\n",
              "5.215        1\n",
              "88.000       1\n",
              "5.212        1\n",
              "Name: L7_PROTO, dtype: int64"
            ]
          },
          "metadata": {}
        }
      ]
    },
    {
      "cell_type": "code",
      "source": [
        "#visualize Labels\n",
        "#1 = malignant\n",
        "#0 = benign\n",
        "labels = transactions['Label'].value_counts()\n",
        "pyplot.pie(labels, labels=labels.index, shadow=True)"
      ],
      "metadata": {
        "id": "910Laaxzb_PG",
        "outputId": "ba2ed435-e109-40c6-dec0-061605abe6bf",
        "colab": {
          "base_uri": "https://localhost:8080/",
          "height": 321
        }
      },
      "execution_count": null,
      "outputs": [
        {
          "output_type": "execute_result",
          "data": {
            "text/plain": [
              "([<matplotlib.patches.Wedge at 0x7f4210459490>,\n",
              "  <matplotlib.patches.Wedge at 0x7f4210459890>],\n",
              " [Text(-0.5359751397368545, 0.9605886994880064, '1'),\n",
              "  Text(0.535975139736854, -0.9605886994880067, '0')])"
            ]
          },
          "metadata": {},
          "execution_count": 5
        },
        {
          "output_type": "display_data",
          "data": {
            "text/plain": [
              "<Figure size 432x288 with 1 Axes>"
            ],
            "image/png": "[encoded data removed]"
          },
          "metadata": {}
        }
      ]
    },
    {
      "cell_type": "code",
      "source": [
        "#visualize PROTOCOL and TCP FLAGS \n",
        "proto = transactions['PROTOCOL'].value_counts()\n",
        "#plt.pie(proto, labels=proto.index, shadow = True)\n",
        "\n",
        "src_port = transactions['L4_SRC_PORT'].value_counts()\n",
        "#plt.pie(src_port, labels=src_port.index, shadow = True)\n",
        "#plt.scatter(x=transactions['L4_SRC_PORT'], y=transactions['PROTOCOL'])\n",
        "tcp_flags = transactions['TCP_FLAGS'].value_counts()\n",
        "\n",
        "#plt.scatter(x=transactions['TCP_FLAGS'], y=transactions['PROTOCOL'])\n",
        "#tcp flag as 0 means not TCP\n",
        "#what this shows is that when TCP flags are 0, the corresponding protocol is not TCP(UDP)\n",
        "\n",
        "protos = transactions.groupby(['PROTOCOL']).size()\n",
        "display(protos)\n",
        "tcp_fls = transactions.groupby(['TCP_FLAGS']).size()\n",
        "display(tcp_fls)\n",
        "\n",
        "pyplot.bar(proto.index, proto.values, width=0.8)"
      ],
      "metadata": {
        "id": "OqtpgNBa9jRC",
        "outputId": "3dfe65dc-0c18-4cf8-a101-a9cda9ee04c0",
        "colab": {
          "base_uri": "https://localhost:8080/",
          "height": 810
        }
      },
      "execution_count": null,
      "outputs": [
        {
          "output_type": "display_data",
          "data": {
            "text/plain": [
              "PROTOCOL\n",
              "1        2\n",
              "2        1\n",
              "6     1230\n",
              "17     767\n",
              "dtype: int64"
            ]
          },
          "metadata": {}
        },
        {
          "output_type": "display_data",
          "data": {
            "text/plain": [
              "TCP_FLAGS\n",
              "0      770\n",
              "2      543\n",
              "16      11\n",
              "17       3\n",
              "18      23\n",
              "19      34\n",
              "20       4\n",
              "22     202\n",
              "23       9\n",
              "24      14\n",
              "25       2\n",
              "26       1\n",
              "27     135\n",
              "28       1\n",
              "30      47\n",
              "31      27\n",
              "211      3\n",
              "214      3\n",
              "219     63\n",
              "222     48\n",
              "223     57\n",
              "dtype: int64"
            ]
          },
          "metadata": {}
        },
        {
          "output_type": "execute_result",
          "data": {
            "text/plain": [
              "<BarContainer object of 4 artists>"
            ]
          },
          "metadata": {},
          "execution_count": 6
        },
        {
          "output_type": "display_data",
          "data": {
            "text/plain": [
              "<Figure size 432x288 with 1 Axes>"
            ],
            "image/png": "[encoded data removed]"
          },
          "metadata": {
            "needs_background": "light"
          }
        }
      ]
    },
    {
      "cell_type": "code",
      "source": [
        "pyplot.scatter(x=transactions['TCP_FLAGS'], y=transactions['PROTOCOL'])\n",
        "#tcp flag as 0 means not TCP\n",
        "#what this shows is that when TCP flags are 0, the corresponding protocol is not TCP(UDP)\n",
        "#the 6 on the y axis has flags set the vast majority of the time"
      ],
      "metadata": {
        "id": "u5hMpzT4IQIP",
        "outputId": "80ebf859-6cd8-4c0f-8ebe-4db3ec7e0100",
        "colab": {
          "base_uri": "https://localhost:8080/",
          "height": 283
        }
      },
      "execution_count": null,
      "outputs": [
        {
          "output_type": "execute_result",
          "data": {
            "text/plain": [
              "<matplotlib.collections.PathCollection at 0x7f420feacbd0>"
            ]
          },
          "metadata": {},
          "execution_count": 7
        },
        {
          "output_type": "display_data",
          "data": {
            "text/plain": [
              "<Figure size 432x288 with 1 Axes>"
            ],
            "image/png": "[encoded data removed]"
          },
          "metadata": {
            "needs_background": "light"
          }
        }
      ]
    },
    {
      "cell_type": "markdown",
      "source": [
        "#Feature Engineering"
      ],
      "metadata": {
        "id": "ef7r8m8ZuTFM"
      }
    },
    {
      "cell_type": "code",
      "source": [
        "#Label, Dataset, and Attack are self explanatory regarding need to be dropped\n",
        "#Dropping src/dst addresses as I want to predict on the characteristics of the transaction, not where it was going/coming from (private addresses); model\n",
        "#might predict on address which means model might not be affective in other environments\n",
        "#Still not 100% certain what L7_PROTO is in this context\n",
        "\n",
        "#dropping : ['Label', 'Dataset', 'IPV4_SRC_ADDR', 'IPV4_DST_ADDR', 'Attack', 'L7_PROTO', 'FTP_COMMAND_RET_CODE', 'CLIENT_TCP_FLAGS', 'SERVER_TCP_FLAGS', 'L4_SRC_PORT', 'L4_DST_PORT',]\n",
        "features = ['PROTOCOL', 'IN_BYTES', 'IN_PKTS', 'OUT_BYTES', 'OUT_PKTS',\n",
        "       'TCP_FLAGS', 'FLOW_DURATION_MILLISECONDS', 'DURATION_IN', 'DURATION_OUT', 'MIN_TTL',\n",
        "       'MAX_TTL', 'LONGEST_FLOW_PKT', 'SHORTEST_FLOW_PKT', 'MIN_IP_PKT_LEN',\n",
        "       'MAX_IP_PKT_LEN', 'SRC_TO_DST_SECOND_BYTES', 'DST_TO_SRC_SECOND_BYTES',\n",
        "       'RETRANSMITTED_IN_BYTES', 'RETRANSMITTED_IN_PKTS',\n",
        "       'RETRANSMITTED_OUT_BYTES', 'RETRANSMITTED_OUT_PKTS',\n",
        "       'SRC_TO_DST_AVG_THROUGHPUT', 'DST_TO_SRC_AVG_THROUGHPUT',\n",
        "       'NUM_PKTS_UP_TO_128_BYTES', 'NUM_PKTS_128_TO_256_BYTES',\n",
        "       'NUM_PKTS_256_TO_512_BYTES', 'NUM_PKTS_512_TO_1024_BYTES',\n",
        "       'NUM_PKTS_1024_TO_1514_BYTES', 'TCP_WIN_MAX_IN', 'TCP_WIN_MAX_OUT',\n",
        "       'ICMP_TYPE', 'ICMP_IPV4_TYPE', 'DNS_QUERY_ID', 'DNS_QUERY_TYPE',\n",
        "       'DNS_TTL_ANSWER']\n",
        "\n",
        "#Initial Data conversion before sending to split and pipeline\n",
        "#transactions['L4_SRC_PORT'] = transactions['L4_SRC_PORT'].astype(object)\n",
        "#transactions['L4_DST_PORT'] = transactions['L4_DST_PORT'].astype(object)\n",
        "transactions['PROTOCOL'] = transactions['PROTOCOL'].astype(object)\n",
        "transactions['TCP_FLAGS'] = transactions['TCP_FLAGS'].astype(object)\n",
        "transactions['ICMP_TYPE'] = transactions['ICMP_TYPE'].astype(object)\n",
        "transactions['ICMP_IPV4_TYPE'] = transactions['ICMP_IPV4_TYPE'].astype(object)\n",
        "transactions['DNS_QUERY_ID'] = transactions['DNS_QUERY_ID'].astype(object)\n",
        "transactions['DNS_QUERY_TYPE'] = transactions['DNS_QUERY_TYPE'].astype(object)\n",
        "transactions['DNS_TTL_ANSWER'] = transactions['DNS_TTL_ANSWER'].astype(object)\n",
        "transactions['Label'] = transactions['Label'].astype(int)\n",
        "\n",
        "#keep only 17(udp) and 6(tcp)\n",
        "keep = [17 , 6]\n",
        "transactions = transactions[transactions['PROTOCOL'].isin(keep)]\n"
      ],
      "metadata": {
        "id": "d_tdrplruW7r"
      },
      "execution_count": 58,
      "outputs": []
    },
    {
      "cell_type": "code",
      "source": [
        "#splits\n",
        "X = transactions.loc[:, features]\n",
        "y = transactions['Label']\n",
        "\n",
        "X_train, X_test, y_train, y_test = train_test_split(X, y, test_size=0.25, random_state=2435)"
      ],
      "metadata": {
        "id": "c-qFe1lL-PLy"
      },
      "execution_count": 59,
      "outputs": []
    },
    {
      "cell_type": "code",
      "source": [
        "# X Train\n",
        "print('On X train: ')\n",
        "print('X train dimensions: ', X_train.shape)\n",
        "display(X_train.head())\n",
        "\n",
        "# X test\n",
        "print('\\nOn X test: ')\n",
        "print('X test dimensions: ', X_test.shape)\n",
        "display(X_test.head())"
      ],
      "metadata": {
        "id": "XGaP8wxv6b8f",
        "outputId": "e65c2f4e-c4e0-493f-acc7-cc1f5d788268",
        "colab": {
          "base_uri": "https://localhost:8080/",
          "height": 609
        }
      },
      "execution_count": null,
      "outputs": [
        {
          "output_type": "stream",
          "name": "stdout",
          "text": [
            "On X train: \n",
            "X train dimensions:  (1497, 35)\n"
          ]
        },
        {
          "output_type": "display_data",
          "data": {
            "text/plain": [
              "     PROTOCOL  IN_BYTES  IN_PKTS  OUT_BYTES  OUT_PKTS TCP_FLAGS  \\\n",
              "757         6       280        2          0         0         2   \n",
              "345        17        84        3          0         0         0   \n",
              "799        17        56        2          0         0         0   \n",
              "1092        6       320        3         44         1        22   \n",
              "1096        6       651        8       6035        11       219   \n",
              "\n",
              "      FLOW_DURATION_MILLISECONDS  DURATION_IN  DURATION_OUT  MIN_TTL  ...  \\\n",
              "757                      4292873         2094             0       64  ...   \n",
              "345                      4293842         1125             0       64  ...   \n",
              "799                      4294420          547             0       64  ...   \n",
              "1092                     4293546         1421             0       64  ...   \n",
              "1096                           0            0             0      128  ...   \n",
              "\n",
              "      NUM_PKTS_256_TO_512_BYTES  NUM_PKTS_512_TO_1024_BYTES  \\\n",
              "757                           0                           0   \n",
              "345                           0                           0   \n",
              "799                           0                           0   \n",
              "1092                          0                           0   \n",
              "1096                          1                           0   \n",
              "\n",
              "      NUM_PKTS_1024_TO_1514_BYTES  TCP_WIN_MAX_IN  TCP_WIN_MAX_OUT  ICMP_TYPE  \\\n",
              "757                             0             512                0      35840   \n",
              "345                             0               0                0          0   \n",
              "799                             0               0                0          0   \n",
              "1092                            0             512            29200          0   \n",
              "1096                            4            8192            26580          0   \n",
              "\n",
              "      ICMP_IPV4_TYPE  DNS_QUERY_ID  DNS_QUERY_TYPE  DNS_TTL_ANSWER  \n",
              "757              140             0               0               0  \n",
              "345                0             0               0               0  \n",
              "799                0             0               0               0  \n",
              "1092               0             0               0               0  \n",
              "1096               0             0               0               0  \n",
              "\n",
              "[5 rows x 35 columns]"
            ],
            "text/html": [
              "\n",
              "  <div id=\"df-262660fa-a5a4-4f01-a597-c22ac67a2699\">\n",
              "    <div class=\"colab-df-container\">\n",
              "      <div>\n",
              "<style scoped>\n",
              "    .dataframe tbody tr th:only-of-type {\n",
              "        vertical-align: middle;\n",
              "    }\n",
              "\n",
              "    .dataframe tbody tr th {\n",
              "        vertical-align: top;\n",
              "    }\n",
              "\n",
              "    .dataframe thead th {\n",
              "        text-align: right;\n",
              "    }\n",
              "</style>\n",
              "<table border=\"1\" class=\"dataframe\">\n",
              "  <thead>\n",
              "    <tr style=\"text-align: right;\">\n",
              "      <th></th>\n",
              "      <th>PROTOCOL</th>\n",
              "      <th>IN_BYTES</th>\n",
              "      <th>IN_PKTS</th>\n",
              "      <th>OUT_BYTES</th>\n",
              "      <th>OUT_PKTS</th>\n",
              "      <th>TCP_FLAGS</th>\n",
              "      <th>FLOW_DURATION_MILLISECONDS</th>\n",
              "      <th>DURATION_IN</th>\n",
              "      <th>DURATION_OUT</th>\n",
              "      <th>MIN_TTL</th>\n",
              "      <th>...</th>\n",
              "      <th>NUM_PKTS_256_TO_512_BYTES</th>\n",
              "      <th>NUM_PKTS_512_TO_1024_BYTES</th>\n",
              "      <th>NUM_PKTS_1024_TO_1514_BYTES</th>\n",
              "      <th>TCP_WIN_MAX_IN</th>\n",
              "      <th>TCP_WIN_MAX_OUT</th>\n",
              "      <th>ICMP_TYPE</th>\n",
              "      <th>ICMP_IPV4_TYPE</th>\n",
              "      <th>DNS_QUERY_ID</th>\n",
              "      <th>DNS_QUERY_TYPE</th>\n",
              "      <th>DNS_TTL_ANSWER</th>\n",
              "    </tr>\n",
              "  </thead>\n",
              "  <tbody>\n",
              "    <tr>\n",
              "      <th>757</th>\n",
              "      <td>6</td>\n",
              "      <td>280</td>\n",
              "      <td>2</td>\n",
              "      <td>0</td>\n",
              "      <td>0</td>\n",
              "      <td>2</td>\n",
              "      <td>4292873</td>\n",
              "      <td>2094</td>\n",
              "      <td>0</td>\n",
              "      <td>64</td>\n",
              "      <td>...</td>\n",
              "      <td>0</td>\n",
              "      <td>0</td>\n",
              "      <td>0</td>\n",
              "      <td>512</td>\n",
              "      <td>0</td>\n",
              "      <td>35840</td>\n",
              "      <td>140</td>\n",
              "      <td>0</td>\n",
              "      <td>0</td>\n",
              "      <td>0</td>\n",
              "    </tr>\n",
              "    <tr>\n",
              "      <th>345</th>\n",
              "      <td>17</td>\n",
              "      <td>84</td>\n",
              "      <td>3</td>\n",
              "      <td>0</td>\n",
              "      <td>0</td>\n",
              "      <td>0</td>\n",
              "      <td>4293842</td>\n",
              "      <td>1125</td>\n",
              "      <td>0</td>\n",
              "      <td>64</td>\n",
              "      <td>...</td>\n",
              "      <td>0</td>\n",
              "      <td>0</td>\n",
              "      <td>0</td>\n",
              "      <td>0</td>\n",
              "      <td>0</td>\n",
              "      <td>0</td>\n",
              "      <td>0</td>\n",
              "      <td>0</td>\n",
              "      <td>0</td>\n",
              "      <td>0</td>\n",
              "    </tr>\n",
              "    <tr>\n",
              "      <th>799</th>\n",
              "      <td>17</td>\n",
              "      <td>56</td>\n",
              "      <td>2</td>\n",
              "      <td>0</td>\n",
              "      <td>0</td>\n",
              "      <td>0</td>\n",
              "      <td>4294420</td>\n",
              "      <td>547</td>\n",
              "      <td>0</td>\n",
              "      <td>64</td>\n",
              "      <td>...</td>\n",
              "      <td>0</td>\n",
              "      <td>0</td>\n",
              "      <td>0</td>\n",
              "      <td>0</td>\n",
              "      <td>0</td>\n",
              "      <td>0</td>\n",
              "      <td>0</td>\n",
              "      <td>0</td>\n",
              "      <td>0</td>\n",
              "      <td>0</td>\n",
              "    </tr>\n",
              "    <tr>\n",
              "      <th>1092</th>\n",
              "      <td>6</td>\n",
              "      <td>320</td>\n",
              "      <td>3</td>\n",
              "      <td>44</td>\n",
              "      <td>1</td>\n",
              "      <td>22</td>\n",
              "      <td>4293546</td>\n",
              "      <td>1421</td>\n",
              "      <td>0</td>\n",
              "      <td>64</td>\n",
              "      <td>...</td>\n",
              "      <td>0</td>\n",
              "      <td>0</td>\n",
              "      <td>0</td>\n",
              "      <td>512</td>\n",
              "      <td>29200</td>\n",
              "      <td>0</td>\n",
              "      <td>0</td>\n",
              "      <td>0</td>\n",
              "      <td>0</td>\n",
              "      <td>0</td>\n",
              "    </tr>\n",
              "    <tr>\n",
              "      <th>1096</th>\n",
              "      <td>6</td>\n",
              "      <td>651</td>\n",
              "      <td>8</td>\n",
              "      <td>6035</td>\n",
              "      <td>11</td>\n",
              "      <td>219</td>\n",
              "      <td>0</td>\n",
              "      <td>0</td>\n",
              "      <td>0</td>\n",
              "      <td>128</td>\n",
              "      <td>...</td>\n",
              "      <td>1</td>\n",
              "      <td>0</td>\n",
              "      <td>4</td>\n",
              "      <td>8192</td>\n",
              "      <td>26580</td>\n",
              "      <td>0</td>\n",
              "      <td>0</td>\n",
              "      <td>0</td>\n",
              "      <td>0</td>\n",
              "      <td>0</td>\n",
              "    </tr>\n",
              "  </tbody>\n",
              "</table>\n",
              "<p>5 rows × 35 columns</p>\n",
              "</div>\n",
              "      <button class=\"colab-df-convert\" onclick=\"convertToInteractive('df-262660fa-a5a4-4f01-a597-c22ac67a2699')\"\n",
              "              title=\"Convert this dataframe to an interactive table.\"\n",
              "              style=\"display:none;\">\n",
              "        \n",
              "  <svg xmlns=\"http://www.w3.org/2000/svg\" height=\"24px\"viewBox=\"0 0 24 24\"\n",
              "       width=\"24px\">\n",
              "    <path d=\"M0 0h24v24H0V0z\" fill=\"none\"/>\n",
              "    <path d=\"M18.56 5.44l.94 2.06.94-2.06 2.06-.94-2.06-.94-.94-2.06-.94 2.06-2.06.94zm-11 1L8.5 8.5l.94-2.06 2.06-.94-2.06-.94L8.5 2.5l-.94 2.06-2.06.94zm10 10l.94 2.06.94-2.06 2.06-.94-2.06-.94-.94-2.06-.94 2.06-2.06.94z\"/><path d=\"M17.41 7.96l-1.37-1.37c-.4-.4-.92-.59-1.43-.59-.52 0-1.04.2-1.43.59L10.3 9.45l-7.72 7.72c-.78.78-.78 2.05 0 2.83L4 21.41c.39.39.9.59 1.41.59.51 0 1.02-.2 1.41-.59l7.78-7.78 2.81-2.81c.8-.78.8-2.07 0-2.86zM5.41 20L4 18.59l7.72-7.72 1.47 1.35L5.41 20z\"/>\n",
              "  </svg>\n",
              "      </button>\n",
              "      \n",
              "  <style>\n",
              "    .colab-df-container {\n",
              "      display:flex;\n",
              "      flex-wrap:wrap;\n",
              "      gap: 12px;\n",
              "    }\n",
              "\n",
              "    .colab-df-convert {\n",
              "      background-color: #E8F0FE;\n",
              "      border: none;\n",
              "      border-radius: 50%;\n",
              "      cursor: pointer;\n",
              "      display: none;\n",
              "      fill: #1967D2;\n",
              "      height: 32px;\n",
              "      padding: 0 0 0 0;\n",
              "      width: 32px;\n",
              "    }\n",
              "\n",
              "    .colab-df-convert:hover {\n",
              "      background-color: #E2EBFA;\n",
              "      box-shadow: 0px 1px 2px rgba(60, 64, 67, 0.3), 0px 1px 3px 1px rgba(60, 64, 67, 0.15);\n",
              "      fill: #174EA6;\n",
              "    }\n",
              "\n",
              "    [theme=dark] .colab-df-convert {\n",
              "      background-color: #3B4455;\n",
              "      fill: #D2E3FC;\n",
              "    }\n",
              "\n",
              "    [theme=dark] .colab-df-convert:hover {\n",
              "      background-color: #434B5C;\n",
              "      box-shadow: 0px 1px 3px 1px rgba(0, 0, 0, 0.15);\n",
              "      filter: drop-shadow(0px 1px 2px rgba(0, 0, 0, 0.3));\n",
              "      fill: #FFFFFF;\n",
              "    }\n",
              "  </style>\n",
              "\n",
              "      <script>\n",
              "        const buttonEl =\n",
              "          document.querySelector('#df-262660fa-a5a4-4f01-a597-c22ac67a2699 button.colab-df-convert');\n",
              "        buttonEl.style.display =\n",
              "          google.colab.kernel.accessAllowed ? 'block' : 'none';\n",
              "\n",
              "        async function convertToInteractive(key) {\n",
              "          const element = document.querySelector('#df-262660fa-a5a4-4f01-a597-c22ac67a2699');\n",
              "          const dataTable =\n",
              "            await google.colab.kernel.invokeFunction('convertToInteractive',\n",
              "                                                     [key], {});\n",
              "          if (!dataTable) return;\n",
              "\n",
              "          const docLinkHtml = 'Like what you see? Visit the ' +\n",
              "            '<a target=\"_blank\" href=https://colab.research.google.com/notebooks/data_table.ipynb>data table notebook</a>'\n",
              "            + ' to learn more about interactive tables.';\n",
              "          element.innerHTML = '';\n",
              "          dataTable['output_type'] = 'display_data';\n",
              "          await google.colab.output.renderOutput(dataTable, element);\n",
              "          const docLink = document.createElement('div');\n",
              "          docLink.innerHTML = docLinkHtml;\n",
              "          element.appendChild(docLink);\n",
              "        }\n",
              "      </script>\n",
              "    </div>\n",
              "  </div>\n",
              "  "
            ]
          },
          "metadata": {}
        },
        {
          "output_type": "stream",
          "name": "stdout",
          "text": [
            "\n",
            "On X test: \n",
            "X test dimensions:  (500, 35)\n"
          ]
        },
        {
          "output_type": "display_data",
          "data": {
            "text/plain": [
              "     PROTOCOL  IN_BYTES  IN_PKTS  OUT_BYTES  OUT_PKTS TCP_FLAGS  \\\n",
              "357         6        40        1          0         0         2   \n",
              "1654        6        44        1         40         1        22   \n",
              "501         6       280        2          0         0         2   \n",
              "1181       17        56        2          0         0         0   \n",
              "1235        6       280        2          0         0         2   \n",
              "\n",
              "      FLOW_DURATION_MILLISECONDS  DURATION_IN  DURATION_OUT  MIN_TTL  ...  \\\n",
              "357                            0            0             0        0  ...   \n",
              "1654                           0            0             0        0  ...   \n",
              "501                      4292701         2266             0       64  ...   \n",
              "1181                     4293952         1015             0       64  ...   \n",
              "1235                     4292873         2094             0       64  ...   \n",
              "\n",
              "      NUM_PKTS_256_TO_512_BYTES  NUM_PKTS_512_TO_1024_BYTES  \\\n",
              "357                           0                           0   \n",
              "1654                          0                           0   \n",
              "501                           0                           0   \n",
              "1181                          0                           0   \n",
              "1235                          0                           0   \n",
              "\n",
              "      NUM_PKTS_1024_TO_1514_BYTES  TCP_WIN_MAX_IN  TCP_WIN_MAX_OUT  ICMP_TYPE  \\\n",
              "357                             0            1332                0          0   \n",
              "1654                            0            1024                0          0   \n",
              "501                             0             512                0          0   \n",
              "1181                            0               0                0          0   \n",
              "1235                            0             512                0          0   \n",
              "\n",
              "      ICMP_IPV4_TYPE  DNS_QUERY_ID  DNS_QUERY_TYPE  DNS_TTL_ANSWER  \n",
              "357                0             0               0               0  \n",
              "1654               0             0               0               0  \n",
              "501                0             0               0               0  \n",
              "1181               0             0               0               0  \n",
              "1235               0             0               0               0  \n",
              "\n",
              "[5 rows x 35 columns]"
            ],
            "text/html": [
              "\n",
              "  <div id=\"df-d9338aef-8006-4c7d-95a5-0efd49f11b92\">\n",
              "    <div class=\"colab-df-container\">\n",
              "      <div>\n",
              "<style scoped>\n",
              "    .dataframe tbody tr th:only-of-type {\n",
              "        vertical-align: middle;\n",
              "    }\n",
              "\n",
              "    .dataframe tbody tr th {\n",
              "        vertical-align: top;\n",
              "    }\n",
              "\n",
              "    .dataframe thead th {\n",
              "        text-align: right;\n",
              "    }\n",
              "</style>\n",
              "<table border=\"1\" class=\"dataframe\">\n",
              "  <thead>\n",
              "    <tr style=\"text-align: right;\">\n",
              "      <th></th>\n",
              "      <th>PROTOCOL</th>\n",
              "      <th>IN_BYTES</th>\n",
              "      <th>IN_PKTS</th>\n",
              "      <th>OUT_BYTES</th>\n",
              "      <th>OUT_PKTS</th>\n",
              "      <th>TCP_FLAGS</th>\n",
              "      <th>FLOW_DURATION_MILLISECONDS</th>\n",
              "      <th>DURATION_IN</th>\n",
              "      <th>DURATION_OUT</th>\n",
              "      <th>MIN_TTL</th>\n",
              "      <th>...</th>\n",
              "      <th>NUM_PKTS_256_TO_512_BYTES</th>\n",
              "      <th>NUM_PKTS_512_TO_1024_BYTES</th>\n",
              "      <th>NUM_PKTS_1024_TO_1514_BYTES</th>\n",
              "      <th>TCP_WIN_MAX_IN</th>\n",
              "      <th>TCP_WIN_MAX_OUT</th>\n",
              "      <th>ICMP_TYPE</th>\n",
              "      <th>ICMP_IPV4_TYPE</th>\n",
              "      <th>DNS_QUERY_ID</th>\n",
              "      <th>DNS_QUERY_TYPE</th>\n",
              "      <th>DNS_TTL_ANSWER</th>\n",
              "    </tr>\n",
              "  </thead>\n",
              "  <tbody>\n",
              "    <tr>\n",
              "      <th>357</th>\n",
              "      <td>6</td>\n",
              "      <td>40</td>\n",
              "      <td>1</td>\n",
              "      <td>0</td>\n",
              "      <td>0</td>\n",
              "      <td>2</td>\n",
              "      <td>0</td>\n",
              "      <td>0</td>\n",
              "      <td>0</td>\n",
              "      <td>0</td>\n",
              "      <td>...</td>\n",
              "      <td>0</td>\n",
              "      <td>0</td>\n",
              "      <td>0</td>\n",
              "      <td>1332</td>\n",
              "      <td>0</td>\n",
              "      <td>0</td>\n",
              "      <td>0</td>\n",
              "      <td>0</td>\n",
              "      <td>0</td>\n",
              "      <td>0</td>\n",
              "    </tr>\n",
              "    <tr>\n",
              "      <th>1654</th>\n",
              "      <td>6</td>\n",
              "      <td>44</td>\n",
              "      <td>1</td>\n",
              "      <td>40</td>\n",
              "      <td>1</td>\n",
              "      <td>22</td>\n",
              "      <td>0</td>\n",
              "      <td>0</td>\n",
              "      <td>0</td>\n",
              "      <td>0</td>\n",
              "      <td>...</td>\n",
              "      <td>0</td>\n",
              "      <td>0</td>\n",
              "      <td>0</td>\n",
              "      <td>1024</td>\n",
              "      <td>0</td>\n",
              "      <td>0</td>\n",
              "      <td>0</td>\n",
              "      <td>0</td>\n",
              "      <td>0</td>\n",
              "      <td>0</td>\n",
              "    </tr>\n",
              "    <tr>\n",
              "      <th>501</th>\n",
              "      <td>6</td>\n",
              "      <td>280</td>\n",
              "      <td>2</td>\n",
              "      <td>0</td>\n",
              "      <td>0</td>\n",
              "      <td>2</td>\n",
              "      <td>4292701</td>\n",
              "      <td>2266</td>\n",
              "      <td>0</td>\n",
              "      <td>64</td>\n",
              "      <td>...</td>\n",
              "      <td>0</td>\n",
              "      <td>0</td>\n",
              "      <td>0</td>\n",
              "      <td>512</td>\n",
              "      <td>0</td>\n",
              "      <td>0</td>\n",
              "      <td>0</td>\n",
              "      <td>0</td>\n",
              "      <td>0</td>\n",
              "      <td>0</td>\n",
              "    </tr>\n",
              "    <tr>\n",
              "      <th>1181</th>\n",
              "      <td>17</td>\n",
              "      <td>56</td>\n",
              "      <td>2</td>\n",
              "      <td>0</td>\n",
              "      <td>0</td>\n",
              "      <td>0</td>\n",
              "      <td>4293952</td>\n",
              "      <td>1015</td>\n",
              "      <td>0</td>\n",
              "      <td>64</td>\n",
              "      <td>...</td>\n",
              "      <td>0</td>\n",
              "      <td>0</td>\n",
              "      <td>0</td>\n",
              "      <td>0</td>\n",
              "      <td>0</td>\n",
              "      <td>0</td>\n",
              "      <td>0</td>\n",
              "      <td>0</td>\n",
              "      <td>0</td>\n",
              "      <td>0</td>\n",
              "    </tr>\n",
              "    <tr>\n",
              "      <th>1235</th>\n",
              "      <td>6</td>\n",
              "      <td>280</td>\n",
              "      <td>2</td>\n",
              "      <td>0</td>\n",
              "      <td>0</td>\n",
              "      <td>2</td>\n",
              "      <td>4292873</td>\n",
              "      <td>2094</td>\n",
              "      <td>0</td>\n",
              "      <td>64</td>\n",
              "      <td>...</td>\n",
              "      <td>0</td>\n",
              "      <td>0</td>\n",
              "      <td>0</td>\n",
              "      <td>512</td>\n",
              "      <td>0</td>\n",
              "      <td>0</td>\n",
              "      <td>0</td>\n",
              "      <td>0</td>\n",
              "      <td>0</td>\n",
              "      <td>0</td>\n",
              "    </tr>\n",
              "  </tbody>\n",
              "</table>\n",
              "<p>5 rows × 35 columns</p>\n",
              "</div>\n",
              "      <button class=\"colab-df-convert\" onclick=\"convertToInteractive('df-d9338aef-8006-4c7d-95a5-0efd49f11b92')\"\n",
              "              title=\"Convert this dataframe to an interactive table.\"\n",
              "              style=\"display:none;\">\n",
              "        \n",
              "  <svg xmlns=\"http://www.w3.org/2000/svg\" height=\"24px\"viewBox=\"0 0 24 24\"\n",
              "       width=\"24px\">\n",
              "    <path d=\"M0 0h24v24H0V0z\" fill=\"none\"/>\n",
              "    <path d=\"M18.56 5.44l.94 2.06.94-2.06 2.06-.94-2.06-.94-.94-2.06-.94 2.06-2.06.94zm-11 1L8.5 8.5l.94-2.06 2.06-.94-2.06-.94L8.5 2.5l-.94 2.06-2.06.94zm10 10l.94 2.06.94-2.06 2.06-.94-2.06-.94-.94-2.06-.94 2.06-2.06.94z\"/><path d=\"M17.41 7.96l-1.37-1.37c-.4-.4-.92-.59-1.43-.59-.52 0-1.04.2-1.43.59L10.3 9.45l-7.72 7.72c-.78.78-.78 2.05 0 2.83L4 21.41c.39.39.9.59 1.41.59.51 0 1.02-.2 1.41-.59l7.78-7.78 2.81-2.81c.8-.78.8-2.07 0-2.86zM5.41 20L4 18.59l7.72-7.72 1.47 1.35L5.41 20z\"/>\n",
              "  </svg>\n",
              "      </button>\n",
              "      \n",
              "  <style>\n",
              "    .colab-df-container {\n",
              "      display:flex;\n",
              "      flex-wrap:wrap;\n",
              "      gap: 12px;\n",
              "    }\n",
              "\n",
              "    .colab-df-convert {\n",
              "      background-color: #E8F0FE;\n",
              "      border: none;\n",
              "      border-radius: 50%;\n",
              "      cursor: pointer;\n",
              "      display: none;\n",
              "      fill: #1967D2;\n",
              "      height: 32px;\n",
              "      padding: 0 0 0 0;\n",
              "      width: 32px;\n",
              "    }\n",
              "\n",
              "    .colab-df-convert:hover {\n",
              "      background-color: #E2EBFA;\n",
              "      box-shadow: 0px 1px 2px rgba(60, 64, 67, 0.3), 0px 1px 3px 1px rgba(60, 64, 67, 0.15);\n",
              "      fill: #174EA6;\n",
              "    }\n",
              "\n",
              "    [theme=dark] .colab-df-convert {\n",
              "      background-color: #3B4455;\n",
              "      fill: #D2E3FC;\n",
              "    }\n",
              "\n",
              "    [theme=dark] .colab-df-convert:hover {\n",
              "      background-color: #434B5C;\n",
              "      box-shadow: 0px 1px 3px 1px rgba(0, 0, 0, 0.15);\n",
              "      filter: drop-shadow(0px 1px 2px rgba(0, 0, 0, 0.3));\n",
              "      fill: #FFFFFF;\n",
              "    }\n",
              "  </style>\n",
              "\n",
              "      <script>\n",
              "        const buttonEl =\n",
              "          document.querySelector('#df-d9338aef-8006-4c7d-95a5-0efd49f11b92 button.colab-df-convert');\n",
              "        buttonEl.style.display =\n",
              "          google.colab.kernel.accessAllowed ? 'block' : 'none';\n",
              "\n",
              "        async function convertToInteractive(key) {\n",
              "          const element = document.querySelector('#df-d9338aef-8006-4c7d-95a5-0efd49f11b92');\n",
              "          const dataTable =\n",
              "            await google.colab.kernel.invokeFunction('convertToInteractive',\n",
              "                                                     [key], {});\n",
              "          if (!dataTable) return;\n",
              "\n",
              "          const docLinkHtml = 'Like what you see? Visit the ' +\n",
              "            '<a target=\"_blank\" href=https://colab.research.google.com/notebooks/data_table.ipynb>data table notebook</a>'\n",
              "            + ' to learn more about interactive tables.';\n",
              "          element.innerHTML = '';\n",
              "          dataTable['output_type'] = 'display_data';\n",
              "          await google.colab.output.renderOutput(dataTable, element);\n",
              "          const docLink = document.createElement('div');\n",
              "          docLink.innerHTML = docLinkHtml;\n",
              "          element.appendChild(docLink);\n",
              "        }\n",
              "      </script>\n",
              "    </div>\n",
              "  </div>\n",
              "  "
            ]
          },
          "metadata": {}
        }
      ]
    },
    {
      "cell_type": "code",
      "source": [
        "# Y Train\n",
        "print('On y train: ')\n",
        "print('y train dimensions: ', y_train.shape)\n",
        "display(y_train.head()) \n",
        "\n",
        "# Y test\n",
        "print('\\nOn y test: ')\n",
        "print('y test dimensions: ', y_test.shape)\n",
        "display(y_test.head())"
      ],
      "metadata": {
        "id": "ClIRy40F7QvF",
        "outputId": "6617e7bd-c943-43d9-f5ec-ae5c0a36825e",
        "colab": {
          "base_uri": "https://localhost:8080/",
          "height": 326
        }
      },
      "execution_count": null,
      "outputs": [
        {
          "output_type": "stream",
          "name": "stdout",
          "text": [
            "On y train: \n",
            "y train dimensions:  (1497,)\n"
          ]
        },
        {
          "output_type": "display_data",
          "data": {
            "text/plain": [
              "757     1\n",
              "345     1\n",
              "799     1\n",
              "1092    1\n",
              "1096    0\n",
              "Name: Label, dtype: int64"
            ]
          },
          "metadata": {}
        },
        {
          "output_type": "stream",
          "name": "stdout",
          "text": [
            "\n",
            "On y test: \n",
            "y test dimensions:  (500,)\n"
          ]
        },
        {
          "output_type": "display_data",
          "data": {
            "text/plain": [
              "357     0\n",
              "1654    1\n",
              "501     1\n",
              "1181    1\n",
              "1235    1\n",
              "Name: Label, dtype: int64"
            ]
          },
          "metadata": {}
        }
      ]
    },
    {
      "cell_type": "markdown",
      "source": [
        "#Test Pipeline"
      ],
      "metadata": {
        "id": "dK8035CaAYpo"
      }
    },
    {
      "cell_type": "code",
      "source": [
        "cat_pipeline = Pipeline(steps=[('cat_impute', SimpleImputer(missing_values=np.nan, strategy='most_frequent')),\n",
        "                               ('onehot_cat', OneHotEncoder(handle_unknown='ignore'))])\n",
        "num_pipeline = Pipeline(steps=[('impute_num', SimpleImputer(missing_values=np.nan, strategy='median')),\n",
        "                               ('scale_num', StandardScaler())])\n",
        "\n",
        "\n",
        "preproc = ColumnTransformer([('cat_pipe', cat_pipeline, make_column_selector(dtype_include=object)),\n",
        "                             ('num_pipe', num_pipeline, make_column_selector(dtype_include=np.number))],\n",
        "                             remainder='passthrough')"
      ],
      "metadata": {
        "id": "XzrwyCJvAbCR"
      },
      "execution_count": 60,
      "outputs": []
    },
    {
      "cell_type": "code",
      "source": [
        "#Random Forest (accuracy at 95%)\n",
        "pipe = Pipeline(steps=[('preproc', preproc),\n",
        "                       ('mdl', RandomForestClassifier(n_estimators=500, random_state=12))])\n",
        "\n",
        "#DecisionTree (accuracy at 94.8%)\n",
        "#pipe = Pipeline(steps=[('preproc', preproc),\n",
        "                       #('mdl', DecisionTreeClassifier())])\n",
        "\n",
        "#LogisticRegression (accuracy with various penalties/solvers/etc 81%-89%)\n",
        "#pipe = Pipeline(steps=[('preproc', preproc),\n",
        "                       #('mdl', LogisticRegression(penalty='l2', solver='sag', random_state=1))])\n",
        "\n",
        "#SupportVectorMachine (accuracy 89.6%)\n",
        "#pipe = Pipeline(steps=[('preproc', preproc),\n",
        "                      #('mdl', SVC(kernel='linear'))])   \n",
        "\n",
        "#GBM (accuracy 93%) **GOING WITH THIS MODEL AS IT SEEMS TO BE IN THE MIDDLE**\n",
        "#pipe = Pipeline(steps=[('preproc', preproc),\n",
        "                  #('mdl', GradientBoostingClassifier())])                    \n",
        "\n",
        "with config_context(display='diagram'):\n",
        "    display(pipe)"
      ],
      "metadata": {
        "id": "ET-wWinlBJ3i",
        "outputId": "c6961c84-bd87-4ab8-a549-3be1a165f83d",
        "colab": {
          "base_uri": "https://localhost:8080/",
          "height": 227
        }
      },
      "execution_count": 67,
      "outputs": [
        {
          "output_type": "display_data",
          "data": {
            "text/plain": [
              "Pipeline(steps=[('preproc',\n",
              "                 ColumnTransformer(remainder='passthrough',\n",
              "                                   transformers=[('cat_pipe',\n",
              "                                                  Pipeline(steps=[('cat_impute',\n",
              "                                                                   SimpleImputer(strategy='most_frequent')),\n",
              "                                                                  ('onehot_cat',\n",
              "                                                                   OneHotEncoder(handle_unknown='ignore'))]),\n",
              "                                                  <sklearn.compose._column_transformer.make_column_selector object at 0x7fe8923a30d0>),\n",
              "                                                 ('num_pipe',\n",
              "                                                  Pipeline(steps=[('impute_num',\n",
              "                                                                   SimpleImputer(strategy='median')),\n",
              "                                                                  ('scale_num',\n",
              "                                                                   StandardScaler())]),\n",
              "                                                  <sklearn.compose._column_transformer.make_column_selector object at 0x7fe89234cc50>)])),\n",
              "                ('mdl',\n",
              "                 RandomForestClassifier(n_estimators=500, random_state=12))])"
            ],
            "text/html": [
              "<style>#sk-c29197bb-c9f9-4dfd-b83e-abf8de29debc {color: black;background-color: white;}#sk-c29197bb-c9f9-4dfd-b83e-abf8de29debc pre{padding: 0;}#sk-c29197bb-c9f9-4dfd-b83e-abf8de29debc div.sk-toggleable {background-color: white;}#sk-c29197bb-c9f9-4dfd-b83e-abf8de29debc label.sk-toggleable__label {cursor: pointer;display: block;width: 100%;margin-bottom: 0;padding: 0.3em;box-sizing: border-box;text-align: center;}#sk-c29197bb-c9f9-4dfd-b83e-abf8de29debc label.sk-toggleable__label-arrow:before {content: \"▸\";float: left;margin-right: 0.25em;color: #696969;}#sk-c29197bb-c9f9-4dfd-b83e-abf8de29debc label.sk-toggleable__label-arrow:hover:before {color: black;}#sk-c29197bb-c9f9-4dfd-b83e-abf8de29debc div.sk-estimator:hover label.sk-toggleable__label-arrow:before {color: black;}#sk-c29197bb-c9f9-4dfd-b83e-abf8de29debc div.sk-toggleable__content {max-height: 0;max-width: 0;overflow: hidden;text-align: left;background-color: #f0f8ff;}#sk-c29197bb-c9f9-4dfd-b83e-abf8de29debc div.sk-toggleable__content pre {margin: 0.2em;color: black;border-radius: 0.25em;background-color: #f0f8ff;}#sk-c29197bb-c9f9-4dfd-b83e-abf8de29debc input.sk-toggleable__control:checked~div.sk-toggleable__content {max-height: 200px;max-width: 100%;overflow: auto;}#sk-c29197bb-c9f9-4dfd-b83e-abf8de29debc input.sk-toggleable__control:checked~label.sk-toggleable__label-arrow:before {content: \"▾\";}#sk-c29197bb-c9f9-4dfd-b83e-abf8de29debc div.sk-estimator input.sk-toggleable__control:checked~label.sk-toggleable__label {background-color: #d4ebff;}#sk-c29197bb-c9f9-4dfd-b83e-abf8de29debc div.sk-label input.sk-toggleable__control:checked~label.sk-toggleable__label {background-color: #d4ebff;}#sk-c29197bb-c9f9-4dfd-b83e-abf8de29debc input.sk-hidden--visually {border: 0;clip: rect(1px 1px 1px 1px);clip: rect(1px, 1px, 1px, 1px);height: 1px;margin: -1px;overflow: hidden;padding: 0;position: absolute;width: 1px;}#sk-c29197bb-c9f9-4dfd-b83e-abf8de29debc div.sk-estimator {font-family: monospace;background-color: #f0f8ff;border: 1px dotted black;border-radius: 0.25em;box-sizing: border-box;margin-bottom: 0.5em;}#sk-c29197bb-c9f9-4dfd-b83e-abf8de29debc div.sk-estimator:hover {background-color: #d4ebff;}#sk-c29197bb-c9f9-4dfd-b83e-abf8de29debc div.sk-parallel-item::after {content: \"\";width: 100%;border-bottom: 1px solid gray;flex-grow: 1;}#sk-c29197bb-c9f9-4dfd-b83e-abf8de29debc div.sk-label:hover label.sk-toggleable__label {background-color: #d4ebff;}#sk-c29197bb-c9f9-4dfd-b83e-abf8de29debc div.sk-serial::before {content: \"\";position: absolute;border-left: 1px solid gray;box-sizing: border-box;top: 2em;bottom: 0;left: 50%;}#sk-c29197bb-c9f9-4dfd-b83e-abf8de29debc div.sk-serial {display: flex;flex-direction: column;align-items: center;background-color: white;padding-right: 0.2em;padding-left: 0.2em;}#sk-c29197bb-c9f9-4dfd-b83e-abf8de29debc div.sk-item {z-index: 1;}#sk-c29197bb-c9f9-4dfd-b83e-abf8de29debc div.sk-parallel {display: flex;align-items: stretch;justify-content: center;background-color: white;}#sk-c29197bb-c9f9-4dfd-b83e-abf8de29debc div.sk-parallel::before {content: \"\";position: absolute;border-left: 1px solid gray;box-sizing: border-box;top: 2em;bottom: 0;left: 50%;}#sk-c29197bb-c9f9-4dfd-b83e-abf8de29debc div.sk-parallel-item {display: flex;flex-direction: column;position: relative;background-color: white;}#sk-c29197bb-c9f9-4dfd-b83e-abf8de29debc div.sk-parallel-item:first-child::after {align-self: flex-end;width: 50%;}#sk-c29197bb-c9f9-4dfd-b83e-abf8de29debc div.sk-parallel-item:last-child::after {align-self: flex-start;width: 50%;}#sk-c29197bb-c9f9-4dfd-b83e-abf8de29debc div.sk-parallel-item:only-child::after {width: 0;}#sk-c29197bb-c9f9-4dfd-b83e-abf8de29debc div.sk-dashed-wrapped {border: 1px dashed gray;margin: 0 0.4em 0.5em 0.4em;box-sizing: border-box;padding-bottom: 0.4em;background-color: white;position: relative;}#sk-c29197bb-c9f9-4dfd-b83e-abf8de29debc div.sk-label label {font-family: monospace;font-weight: bold;background-color: white;display: inline-block;line-height: 1.2em;}#sk-c29197bb-c9f9-4dfd-b83e-abf8de29debc div.sk-label-container {position: relative;z-index: 2;text-align: center;}#sk-c29197bb-c9f9-4dfd-b83e-abf8de29debc div.sk-container {/* jupyter's `normalize.less` sets `[hidden] { display: none; }` but bootstrap.min.css set `[hidden] { display: none !important; }` so we also need the `!important` here to be able to override the default hidden behavior on the sphinx rendered scikit-learn.org. See: https://github.com/scikit-learn/scikit-learn/issues/21755 */display: inline-block !important;position: relative;}#sk-c29197bb-c9f9-4dfd-b83e-abf8de29debc div.sk-text-repr-fallback {display: none;}</style><div id=\"sk-c29197bb-c9f9-4dfd-b83e-abf8de29debc\" class=\"sk-top-container\"><div class=\"sk-text-repr-fallback\"><pre>Pipeline(steps=[(&#x27;preproc&#x27;,\n",
              "                 ColumnTransformer(remainder=&#x27;passthrough&#x27;,\n",
              "                                   transformers=[(&#x27;cat_pipe&#x27;,\n",
              "                                                  Pipeline(steps=[(&#x27;cat_impute&#x27;,\n",
              "                                                                   SimpleImputer(strategy=&#x27;most_frequent&#x27;)),\n",
              "                                                                  (&#x27;onehot_cat&#x27;,\n",
              "                                                                   OneHotEncoder(handle_unknown=&#x27;ignore&#x27;))]),\n",
              "                                                  &lt;sklearn.compose._column_transformer.make_column_selector object at 0x7fe8923a30d0&gt;),\n",
              "                                                 (&#x27;num_pipe&#x27;,\n",
              "                                                  Pipeline(steps=[(&#x27;impute_num&#x27;,\n",
              "                                                                   SimpleImputer(strategy=&#x27;median&#x27;)),\n",
              "                                                                  (&#x27;scale_num&#x27;,\n",
              "                                                                   StandardScaler())]),\n",
              "                                                  &lt;sklearn.compose._column_transformer.make_column_selector object at 0x7fe89234cc50&gt;)])),\n",
              "                (&#x27;mdl&#x27;,\n",
              "                 RandomForestClassifier(n_estimators=500, random_state=12))])</pre><b>Please rerun this cell to show the HTML repr or trust the notebook.</b></div><div class=\"sk-container\" hidden><div class=\"sk-item sk-dashed-wrapped\"><div class=\"sk-label-container\"><div class=\"sk-label sk-toggleable\"><input class=\"sk-toggleable__control sk-hidden--visually\" id=\"891173b9-ea30-4d33-8f12-70eed8bc0e00\" type=\"checkbox\" ><label for=\"891173b9-ea30-4d33-8f12-70eed8bc0e00\" class=\"sk-toggleable__label sk-toggleable__label-arrow\">Pipeline</label><div class=\"sk-toggleable__content\"><pre>Pipeline(steps=[(&#x27;preproc&#x27;,\n",
              "                 ColumnTransformer(remainder=&#x27;passthrough&#x27;,\n",
              "                                   transformers=[(&#x27;cat_pipe&#x27;,\n",
              "                                                  Pipeline(steps=[(&#x27;cat_impute&#x27;,\n",
              "                                                                   SimpleImputer(strategy=&#x27;most_frequent&#x27;)),\n",
              "                                                                  (&#x27;onehot_cat&#x27;,\n",
              "                                                                   OneHotEncoder(handle_unknown=&#x27;ignore&#x27;))]),\n",
              "                                                  &lt;sklearn.compose._column_transformer.make_column_selector object at 0x7fe8923a30d0&gt;),\n",
              "                                                 (&#x27;num_pipe&#x27;,\n",
              "                                                  Pipeline(steps=[(&#x27;impute_num&#x27;,\n",
              "                                                                   SimpleImputer(strategy=&#x27;median&#x27;)),\n",
              "                                                                  (&#x27;scale_num&#x27;,\n",
              "                                                                   StandardScaler())]),\n",
              "                                                  &lt;sklearn.compose._column_transformer.make_column_selector object at 0x7fe89234cc50&gt;)])),\n",
              "                (&#x27;mdl&#x27;,\n",
              "                 RandomForestClassifier(n_estimators=500, random_state=12))])</pre></div></div></div><div class=\"sk-serial\"><div class=\"sk-item sk-dashed-wrapped\"><div class=\"sk-label-container\"><div class=\"sk-label sk-toggleable\"><input class=\"sk-toggleable__control sk-hidden--visually\" id=\"30b46d9b-cfae-4159-86ef-947669e898ad\" type=\"checkbox\" ><label for=\"30b46d9b-cfae-4159-86ef-947669e898ad\" class=\"sk-toggleable__label sk-toggleable__label-arrow\">preproc: ColumnTransformer</label><div class=\"sk-toggleable__content\"><pre>ColumnTransformer(remainder=&#x27;passthrough&#x27;,\n",
              "                  transformers=[(&#x27;cat_pipe&#x27;,\n",
              "                                 Pipeline(steps=[(&#x27;cat_impute&#x27;,\n",
              "                                                  SimpleImputer(strategy=&#x27;most_frequent&#x27;)),\n",
              "                                                 (&#x27;onehot_cat&#x27;,\n",
              "                                                  OneHotEncoder(handle_unknown=&#x27;ignore&#x27;))]),\n",
              "                                 &lt;sklearn.compose._column_transformer.make_column_selector object at 0x7fe8923a30d0&gt;),\n",
              "                                (&#x27;num_pipe&#x27;,\n",
              "                                 Pipeline(steps=[(&#x27;impute_num&#x27;,\n",
              "                                                  SimpleImputer(strategy=&#x27;median&#x27;)),\n",
              "                                                 (&#x27;scale_num&#x27;,\n",
              "                                                  StandardScaler())]),\n",
              "                                 &lt;sklearn.compose._column_transformer.make_column_selector object at 0x7fe89234cc50&gt;)])</pre></div></div></div><div class=\"sk-parallel\"><div class=\"sk-parallel-item\"><div class=\"sk-item\"><div class=\"sk-label-container\"><div class=\"sk-label sk-toggleable\"><input class=\"sk-toggleable__control sk-hidden--visually\" id=\"404798b8-7011-4926-a865-086822c62e3c\" type=\"checkbox\" ><label for=\"404798b8-7011-4926-a865-086822c62e3c\" class=\"sk-toggleable__label sk-toggleable__label-arrow\">cat_pipe</label><div class=\"sk-toggleable__content\"><pre>&lt;sklearn.compose._column_transformer.make_column_selector object at 0x7fe8923a30d0&gt;</pre></div></div></div><div class=\"sk-serial\"><div class=\"sk-item\"><div class=\"sk-serial\"><div class=\"sk-item\"><div class=\"sk-estimator sk-toggleable\"><input class=\"sk-toggleable__control sk-hidden--visually\" id=\"f4ef23d8-a3ea-49de-918b-80e54a0c8ca4\" type=\"checkbox\" ><label for=\"f4ef23d8-a3ea-49de-918b-80e54a0c8ca4\" class=\"sk-toggleable__label sk-toggleable__label-arrow\">SimpleImputer</label><div class=\"sk-toggleable__content\"><pre>SimpleImputer(strategy=&#x27;most_frequent&#x27;)</pre></div></div></div><div class=\"sk-item\"><div class=\"sk-estimator sk-toggleable\"><input class=\"sk-toggleable__control sk-hidden--visually\" id=\"865e4934-9baa-4f3d-ad0b-601b51577414\" type=\"checkbox\" ><label for=\"865e4934-9baa-4f3d-ad0b-601b51577414\" class=\"sk-toggleable__label sk-toggleable__label-arrow\">OneHotEncoder</label><div class=\"sk-toggleable__content\"><pre>OneHotEncoder(handle_unknown=&#x27;ignore&#x27;)</pre></div></div></div></div></div></div></div></div><div class=\"sk-parallel-item\"><div class=\"sk-item\"><div class=\"sk-label-container\"><div class=\"sk-label sk-toggleable\"><input class=\"sk-toggleable__control sk-hidden--visually\" id=\"2b1cc5a5-adbf-4f15-b23e-7f9c5106c892\" type=\"checkbox\" ><label for=\"2b1cc5a5-adbf-4f15-b23e-7f9c5106c892\" class=\"sk-toggleable__label sk-toggleable__label-arrow\">num_pipe</label><div class=\"sk-toggleable__content\"><pre>&lt;sklearn.compose._column_transformer.make_column_selector object at 0x7fe89234cc50&gt;</pre></div></div></div><div class=\"sk-serial\"><div class=\"sk-item\"><div class=\"sk-serial\"><div class=\"sk-item\"><div class=\"sk-estimator sk-toggleable\"><input class=\"sk-toggleable__control sk-hidden--visually\" id=\"8d725c09-05d3-493c-bb98-69a6f073cfa7\" type=\"checkbox\" ><label for=\"8d725c09-05d3-493c-bb98-69a6f073cfa7\" class=\"sk-toggleable__label sk-toggleable__label-arrow\">SimpleImputer</label><div class=\"sk-toggleable__content\"><pre>SimpleImputer(strategy=&#x27;median&#x27;)</pre></div></div></div><div class=\"sk-item\"><div class=\"sk-estimator sk-toggleable\"><input class=\"sk-toggleable__control sk-hidden--visually\" id=\"d66b8067-3fa0-4aac-b22d-3513cff31280\" type=\"checkbox\" ><label for=\"d66b8067-3fa0-4aac-b22d-3513cff31280\" class=\"sk-toggleable__label sk-toggleable__label-arrow\">StandardScaler</label><div class=\"sk-toggleable__content\"><pre>StandardScaler()</pre></div></div></div></div></div></div></div></div><div class=\"sk-parallel-item\"><div class=\"sk-item\"><div class=\"sk-label-container\"><div class=\"sk-label sk-toggleable\"><input class=\"sk-toggleable__control sk-hidden--visually\" id=\"8509abba-c5e5-4ea9-b618-f81619bf8a51\" type=\"checkbox\" ><label for=\"8509abba-c5e5-4ea9-b618-f81619bf8a51\" class=\"sk-toggleable__label sk-toggleable__label-arrow\">remainder</label><div class=\"sk-toggleable__content\"><pre>[]</pre></div></div></div><div class=\"sk-serial\"><div class=\"sk-item\"><div class=\"sk-estimator sk-toggleable\"><input class=\"sk-toggleable__control sk-hidden--visually\" id=\"34a88246-6fb1-4d64-b80b-5e39491fe399\" type=\"checkbox\" ><label for=\"34a88246-6fb1-4d64-b80b-5e39491fe399\" class=\"sk-toggleable__label sk-toggleable__label-arrow\">passthrough</label><div class=\"sk-toggleable__content\"><pre>passthrough</pre></div></div></div></div></div></div></div></div><div class=\"sk-item\"><div class=\"sk-estimator sk-toggleable\"><input class=\"sk-toggleable__control sk-hidden--visually\" id=\"f22cb6e6-5c90-4568-ad60-5d9a248a346b\" type=\"checkbox\" ><label for=\"f22cb6e6-5c90-4568-ad60-5d9a248a346b\" class=\"sk-toggleable__label sk-toggleable__label-arrow\">RandomForestClassifier</label><div class=\"sk-toggleable__content\"><pre>RandomForestClassifier(n_estimators=500, random_state=12)</pre></div></div></div></div></div></div></div>"
            ]
          },
          "metadata": {}
        }
      ]
    },
    {
      "cell_type": "code",
      "source": [
        "pipe.fit(X_train, y_train)\n",
        "#pipe.predict_proba(X_test)\n",
        "y_pred = pipe.predict(X_test)\n",
        "print(\"Accuracy:\",metrics.accuracy_score(y_test, y_pred))"
      ],
      "metadata": {
        "id": "LzlQsr-lBqoH",
        "outputId": "bac7a6d6-27e8-43f8-ef00-266474903d87",
        "colab": {
          "base_uri": "https://localhost:8080/"
        }
      },
      "execution_count": 68,
      "outputs": [
        {
          "output_type": "stream",
          "name": "stdout",
          "text": [
            "Accuracy: 0.952\n"
          ]
        }
      ]
    },
    {
      "cell_type": "code",
      "source": [
        "y_proba = pipe.predict_proba(X_test)\n",
        "\n",
        "y_proba = y_proba[:,1]\n",
        "\n",
        "fpr, tpr, thresholds = roc_curve(y_test, y_pred)\n",
        "\n",
        "net_gain = tpr - fpr\n",
        "ix = np.argmax(net_gain)\n",
        "print('Best Threshold=%f, Net Gain=%.3f' % (thresholds[ix], net_gain[ix]))\n",
        "\n",
        "# plot the roc curve for the model\n",
        "pyplot.plot([0,1], [0,1], linestyle='--', label='No Skill')\n",
        "pyplot.plot(fpr, tpr, marker='.', label='Logistic Regression')\n",
        "pyplot.scatter(fpr[ix], tpr[ix], marker='o', color='black', label='Best threshold')\n",
        "\n",
        "# axis labels\n",
        "pyplot.xlabel('FPR')\n",
        "pyplot.ylabel('TPR')\n",
        "pyplot.legend()\n",
        "\n",
        "pyplot.show()\n"
      ],
      "metadata": {
        "id": "_9R2dmTHrvli",
        "outputId": "83159c62-d66a-433d-c21f-038cc80c2366",
        "colab": {
          "base_uri": "https://localhost:8080/",
          "height": 297
        }
      },
      "execution_count": 69,
      "outputs": [
        {
          "output_type": "stream",
          "name": "stdout",
          "text": [
            "Best Threshold=1.000000, Net Gain=0.906\n"
          ]
        },
        {
          "output_type": "display_data",
          "data": {
            "text/plain": [
              "<Figure size 432x288 with 1 Axes>"
            ],
            "image/png": "[encoded data removed]"
          },
          "metadata": {
            "needs_background": "light"
          }
        }
      ]
    },
    {
      "cell_type": "code",
      "source": [
        "cm = pd.DataFrame()\n",
        "cm['tpr'] = tpr\n",
        "cm['fpr'] = fpr\n",
        "cm['thresholds'] = thresholds\n",
        "cm['tpr-fpr'] = tpr - fpr\n",
        "cm['value'] = cm['tpr'] * 10 - cm['fpr'] * 1000\n",
        "cm.sort_values('value', ascending=False).iloc[0, 2]"
      ],
      "metadata": {
        "id": "aQAK9bC9twGg",
        "outputId": "7faef6be-9b68-439d-ad05-327c9dbaf576",
        "colab": {
          "base_uri": "https://localhost:8080/"
        }
      },
      "execution_count": 70,
      "outputs": [
        {
          "output_type": "execute_result",
          "data": {
            "text/plain": [
              "2"
            ]
          },
          "metadata": {},
          "execution_count": 70
        }
      ]
    },
    {
      "cell_type": "markdown",
      "source": [
        "#Cross-validation with hyperparameter tuning"
      ],
      "metadata": {
        "id": "KQlqJ5yFLxiV"
      }
    },
    {
      "cell_type": "code",
      "source": [
        "#Gradiant Boosting\n",
        "#param_grid = {\n",
        "#    'mdl__learning_rate': (0.01, 0.1, 1, 10),\n",
        "#    'mdl__max_leaf_nodes': (3, 10, 30)}\n",
        "#grid_search = GridSearchCV(pipe, param_grid = param_grid, cv = 5, n_jobs=2)\n",
        "\n",
        "#LogisticRegression \n",
        "#tuning_grid = {'mdl__l1_ratio' : np.linspace(0,1,5),\n",
        "#               'mdl__C': np.logspace(-1, 6, 3) }\n",
        "#grid_search = GridSearchCV(pipe, param_grid = tuning_grid, cv = 10, return_train_score=True)\n",
        "#tuning_grid\n",
        "\n",
        "\n",
        "#RFC\n",
        "maxdepth_grid = [ 6, 8, 10, 12, 15, 20]\n",
        "param_grid = [\n",
        "   {'mdl__max_depth': maxdepth_grid },\n",
        "]\n",
        "grid_search = GridSearchCV(pipe, cv=5, param_grid=param_grid, return_train_score=True)"
      ],
      "metadata": {
        "id": "OCAR9axSN6YO"
      },
      "execution_count": 73,
      "outputs": []
    },
    {
      "cell_type": "code",
      "source": [
        "#fit\n",
        "grid_search.fit(X_train, y_train)"
      ],
      "metadata": {
        "colab": {
          "base_uri": "https://localhost:8080/"
        },
        "id": "jLQ7yFWuOGn4",
        "outputId": "acd2f0c7-02de-401e-e0d5-88ad41b8c7b3"
      },
      "execution_count": 74,
      "outputs": [
        {
          "output_type": "execute_result",
          "data": {
            "text/plain": [
              "GridSearchCV(cv=5,\n",
              "             estimator=Pipeline(steps=[('preproc',\n",
              "                                        ColumnTransformer(remainder='passthrough',\n",
              "                                                          transformers=[('cat_pipe',\n",
              "                                                                         Pipeline(steps=[('cat_impute',\n",
              "                                                                                          SimpleImputer(strategy='most_frequent')),\n",
              "                                                                                         ('onehot_cat',\n",
              "                                                                                          OneHotEncoder(handle_unknown='ignore'))]),\n",
              "                                                                         <sklearn.compose._column_transformer.make_column_selector object at 0x7fe8923a30d0>),\n",
              "                                                                        ('num_pipe',\n",
              "                                                                         Pipeline(steps=[('impute_num',\n",
              "                                                                                          SimpleImputer(strategy='median')),\n",
              "                                                                                         ('scale_num',\n",
              "                                                                                          StandardScaler())]),\n",
              "                                                                         <sklearn.compose._column_transformer.make_column_selector object at 0x7fe89234cc50>)])),\n",
              "                                       ('mdl',\n",
              "                                        RandomForestClassifier(n_estimators=500,\n",
              "                                                               random_state=12))]),\n",
              "             param_grid=[{'mdl__max_depth': [6, 8, 10, 12, 15, 20]}],\n",
              "             return_train_score=True)"
            ]
          },
          "metadata": {},
          "execution_count": 74
        }
      ]
    },
    {
      "cell_type": "code",
      "source": [
        "#Find the best performing model parameters and their values\n",
        "print(grid_search.best_score_)\n",
        "grid_search.best_params_"
      ],
      "metadata": {
        "colab": {
          "base_uri": "https://localhost:8080/"
        },
        "id": "ZNsfq-IrVX89",
        "outputId": "15c1f3ab-a229-4daf-f37d-7f5afa4b3e8e"
      },
      "execution_count": 75,
      "outputs": [
        {
          "output_type": "stream",
          "name": "stdout",
          "text": [
            "0.9412151616499443\n"
          ]
        },
        {
          "output_type": "execute_result",
          "data": {
            "text/plain": [
              "{'mdl__max_depth': 20}"
            ]
          },
          "metadata": {},
          "execution_count": 75
        }
      ]
    },
    {
      "cell_type": "code",
      "source": [
        "grid_search.best_estimator_"
      ],
      "metadata": {
        "colab": {
          "base_uri": "https://localhost:8080/"
        },
        "id": "Ayj7clKFVfVm",
        "outputId": "7cf14049-803e-4e65-c902-7131f000f241"
      },
      "execution_count": 76,
      "outputs": [
        {
          "output_type": "execute_result",
          "data": {
            "text/plain": [
              "Pipeline(steps=[('preproc',\n",
              "                 ColumnTransformer(remainder='passthrough',\n",
              "                                   transformers=[('cat_pipe',\n",
              "                                                  Pipeline(steps=[('cat_impute',\n",
              "                                                                   SimpleImputer(strategy='most_frequent')),\n",
              "                                                                  ('onehot_cat',\n",
              "                                                                   OneHotEncoder(handle_unknown='ignore'))]),\n",
              "                                                  <sklearn.compose._column_transformer.make_column_selector object at 0x7fe88dff0b90>),\n",
              "                                                 ('num_pipe',\n",
              "                                                  Pipeline(steps=[('impute_num',\n",
              "                                                                   SimpleImputer(strategy='median')),\n",
              "                                                                  ('scale_num',\n",
              "                                                                   StandardScaler())]),\n",
              "                                                  <sklearn.compose._column_transformer.make_column_selector object at 0x7fe88dff08d0>)])),\n",
              "                ('mdl',\n",
              "                 RandomForestClassifier(max_depth=20, n_estimators=500,\n",
              "                                        random_state=12))])"
            ]
          },
          "metadata": {},
          "execution_count": 76
        }
      ]
    },
    {
      "cell_type": "markdown",
      "source": [
        "#Variable Importance"
      ],
      "metadata": {
        "id": "ARyLFSQYVjUV"
      }
    },
    {
      "cell_type": "code",
      "source": [
        "print(grid_search.classes_)\n",
        "print(\"0 is benign, 1 is malignant\")"
      ],
      "metadata": {
        "colab": {
          "base_uri": "https://localhost:8080/"
        },
        "id": "dw-iq3ceVlcg",
        "outputId": "0a4523ae-84f7-4791-b599-6c172e84c691"
      },
      "execution_count": 77,
      "outputs": [
        {
          "output_type": "stream",
          "name": "stdout",
          "text": [
            "[0 1]\n",
            "0 is benign, 1 is malignant\n"
          ]
        }
      ]
    },
    {
      "cell_type": "code",
      "source": [
        "#GBM\n",
        "#vip = grid_search.best_estimator_['mdl'].feature_importances_\n",
        "#vip\n",
        "\n",
        "#LogReg\n",
        "#vip = grid_search.best_estimator_['mdl'].coef_[0]\n",
        "#vip\n",
        "\n",
        "#RFC\n",
        "vip = grid_search.best_estimator_['mdl'].feature_importances_\n",
        "vip"
      ],
      "metadata": {
        "colab": {
          "base_uri": "https://localhost:8080/"
        },
        "id": "MO-av08lVw_0",
        "outputId": "465d6efe-92a6-42d3-a869-7fe23f9bc731"
      },
      "execution_count": 79,
      "outputs": [
        {
          "output_type": "execute_result",
          "data": {
            "text/plain": [
              "array([6.13485860e-03, 4.70881809e-03, 4.78787031e-03, 1.50384871e-02,\n",
              "       7.23785808e-03, 1.57432930e-03, 1.14259988e-03, 4.68638986e-04,\n",
              "       1.33234395e-03, 4.59733855e-03, 5.53031180e-04, 1.26000327e-03,\n",
              "       1.39006263e-05, 6.52055548e-05, 3.93268696e-03, 1.52894115e-04,\n",
              "       2.51190054e-03, 9.99149542e-04, 4.90931433e-04, 1.58685367e-04,\n",
              "       2.62819636e-03, 1.45771858e-03, 1.60287611e-03, 2.05775671e-03,\n",
              "       5.06527181e-05, 1.88233826e-06, 2.60698778e-04, 8.72363059e-05,\n",
              "       5.12799166e-05, 3.01089346e-05, 7.64718146e-05, 2.15519802e-06,\n",
              "       3.82154389e-05, 3.12918110e-05, 2.24403186e-05, 2.80440972e-05,\n",
              "       5.57495143e-06, 5.33586523e-05, 1.64767765e-05, 1.22598849e-03,\n",
              "       5.61243055e-05, 1.35724462e-05, 1.19503013e-09, 9.94126650e-06,\n",
              "       1.73052366e-05, 2.04638849e-05, 5.61291833e-05, 5.56192292e-05,\n",
              "       8.40474520e-05, 1.01559182e-04, 2.79988292e-05, 2.32340932e-04,\n",
              "       2.39899420e-07, 1.96606881e-06, 9.48388538e-05, 1.45983667e-05,\n",
              "       9.60294006e-06, 1.50778646e-03, 4.75821078e-05, 2.40825723e-05,\n",
              "       2.14253450e-04, 6.99483707e-05, 5.41217203e-05, 1.17860695e-05,\n",
              "       1.43253011e-04, 7.57668708e-06, 1.55782235e-05, 2.72497015e-05,\n",
              "       3.09852504e-05, 3.91850052e-05, 2.10077442e-06, 1.63522615e-05,\n",
              "       1.48052982e-05, 1.27582296e-03, 6.04116321e-05, 3.30441407e-05,\n",
              "       3.31094339e-06, 4.27295693e-05, 1.62513230e-07, 4.19327617e-05,\n",
              "       6.15365165e-05, 8.94231794e-05, 1.99406636e-04, 1.38841767e-04,\n",
              "       1.83703676e-05, 2.06348959e-04, 1.40349198e-06, 3.63476375e-06,\n",
              "       1.03579688e-04, 4.69594551e-05, 2.24577064e-07, 1.47928675e-02,\n",
              "       2.15120822e-05, 1.10090137e-05, 1.90297429e-05, 3.54793871e-04,\n",
              "       8.55461272e-06, 2.80089374e-05, 2.75268140e-05, 1.99516059e-07,\n",
              "       5.55133204e-07, 5.25582535e-06, 1.60051238e-06, 2.01149733e-05,\n",
              "       7.67295396e-06, 1.40740292e-06, 5.27100475e-05, 7.71558681e-06,\n",
              "       2.27214783e-06, 5.22819666e-06, 1.64281923e-05, 2.66710101e-05,\n",
              "       4.73607943e-04, 6.85278237e-04, 1.10988546e-06, 1.29966004e-05,\n",
              "       1.72239136e-05, 1.14463644e-07, 1.51414379e-07, 1.07978624e-05,\n",
              "       2.81832391e-04, 1.35946220e-05, 1.31563541e-05, 1.77257533e-05,\n",
              "       1.09250764e-05, 1.54675295e-05, 2.58816796e-04, 1.59134050e-05,\n",
              "       5.51852632e-05, 3.78331884e-05, 6.72370080e-05, 4.99125819e-05,\n",
              "       8.92664944e-06, 6.54620446e-06, 1.70225983e-06, 1.73822231e-05,\n",
              "       6.18973286e-05, 7.00257803e-06, 1.39267736e-05, 8.31837683e-06,\n",
              "       1.27664774e-08, 4.57366562e-05, 2.39938107e-05, 1.01257725e-05,\n",
              "       9.69015694e-06, 1.92945668e-06, 6.34320217e-05, 6.66510982e-05,\n",
              "       1.30511498e-05, 1.98964847e-05, 5.44152233e-05, 1.24681450e-08,\n",
              "       1.93142528e-04, 9.74074596e-06, 3.81675344e-04, 5.67778470e-06,\n",
              "       7.16719356e-05, 2.91414614e-07, 5.89067697e-06, 3.51300268e-04,\n",
              "       2.48598718e-06, 1.29611289e-07, 9.12191941e-05, 4.95790415e-05,\n",
              "       1.30093487e-05, 2.87191110e-05, 1.60086327e-05, 3.06003067e-06,\n",
              "       4.63626505e-05, 1.58119431e-05, 3.34010686e-04, 2.94901899e-05,\n",
              "       1.60585712e-06, 2.06230755e-05, 2.31787103e-06, 2.29634323e-06,\n",
              "       1.48858109e-04, 1.73357050e-05, 7.98041299e-07, 1.20128613e-04,\n",
              "       2.60345224e-06, 2.09235088e-05, 3.00058289e-06, 1.30453284e-05,\n",
              "       3.93362972e-05, 2.80246238e-05, 8.72849208e-06, 7.28941503e-04,\n",
              "       3.96160466e-04, 1.94293041e-05, 3.41903573e-05, 6.37852585e-05,\n",
              "       5.25497452e-07, 1.63139822e-05, 1.45689054e-07, 1.22887681e-05,\n",
              "       5.00902646e-07, 8.18545179e-06, 8.65525958e-05, 3.02815801e-05,\n",
              "       3.43997512e-04, 6.03664284e-05, 5.27249003e-04, 1.38997637e-04,\n",
              "       1.86387674e-05, 9.24070216e-06, 7.06503868e-08, 7.76637109e-06,\n",
              "       5.32061540e-05, 7.83390190e-05, 2.92805480e-05, 3.51241170e-04,\n",
              "       4.57221525e-05, 7.45595685e-07, 1.65920888e-05, 1.39710154e-05,\n",
              "       9.56774928e-05, 2.02071469e-05, 2.86809081e-05, 3.84199668e-04,\n",
              "       1.34597879e-07, 1.08546123e-05, 9.75088721e-07, 6.08407509e-07,\n",
              "       7.56243988e-06, 5.41685837e-06, 1.14649627e-07, 7.33902496e-05,\n",
              "       4.05394822e-04, 1.68983060e-04, 1.35972063e-05, 4.45550485e-05,\n",
              "       6.43820241e-05, 1.62908925e-06, 3.01315119e-08, 1.37588510e-06,\n",
              "       2.51272563e-04, 2.17518631e-05, 4.40376007e-05, 1.03930153e-05,\n",
              "       1.03263298e-05, 3.97652356e-05, 2.19592749e-05, 8.29654267e-06,\n",
              "       3.07712529e-04, 2.54253532e-07, 5.65080781e-05, 9.43836539e-07,\n",
              "       4.66613293e-06, 6.64852592e-06, 2.13849560e-06, 1.02172217e-04,\n",
              "       1.16293650e-05, 6.86283908e-05, 1.69168191e-05, 2.76313411e-05,\n",
              "       1.65633504e-06, 7.73178873e-06, 6.08737054e-05, 9.83196312e-06,\n",
              "       3.61977359e-05, 1.18080757e-06, 2.53228028e-04, 1.63794317e-04,\n",
              "       7.65420496e-05, 1.64568480e-05, 3.63290166e-05, 1.10437198e-04,\n",
              "       1.78116958e-05, 1.58035234e-05, 8.55998499e-06, 1.69053484e-05,\n",
              "       3.22018097e-07, 6.74993360e-06, 7.57836853e-05, 3.13629738e-04,\n",
              "       6.15119679e-06, 1.75570354e-07, 1.28251291e-09, 1.65201338e-05,\n",
              "       2.82031455e-05, 5.59243624e-04, 3.93176483e-07, 2.04382454e-06,\n",
              "       3.21422914e-04, 3.16684355e-06, 2.00213642e-04, 1.41675248e-05,\n",
              "       6.47604896e-05, 3.40467350e-06, 1.78080345e-05, 2.98630480e-05,\n",
              "       3.80956684e-05, 1.38335766e-05, 6.62812409e-07, 9.10694258e-05,\n",
              "       1.59593874e-06, 1.08932250e-02, 4.54366056e-03, 3.55909586e-04,\n",
              "       1.41449006e-03, 5.01338916e-04, 2.16748797e-02, 3.12202315e-04,\n",
              "       1.33306382e-05, 2.05077690e-04, 4.01735674e-05, 1.00998617e-05,\n",
              "       2.91656215e-04, 3.25531796e-04, 3.46109334e-04, 6.59799699e-05,\n",
              "       1.73869618e-05, 9.37898042e-05, 3.36812982e-04, 2.96365252e-04,\n",
              "       4.15588746e-06, 3.62308617e-04, 6.15272678e-04, 1.94443406e-05,\n",
              "       4.36510030e-07, 2.15424830e-04, 1.37587330e-04, 6.84432980e-04,\n",
              "       2.85038637e-05, 6.56155235e-05, 1.02362132e-05, 1.52184871e-06,\n",
              "       2.38325654e-04, 5.67700927e-04, 4.85856575e-05, 2.25003803e-04,\n",
              "       8.59342107e-04, 1.42130380e-05, 1.91985540e-02, 4.34519614e-04,\n",
              "       5.63642944e-05, 6.85557208e-06, 8.23186783e-06, 3.03697826e-05,\n",
              "       2.72306799e-04, 4.47340062e-04, 4.11625620e-04, 4.39977091e-04,\n",
              "       3.52793692e-06, 1.58381765e-04, 9.36777234e-06, 7.87295884e-05,\n",
              "       5.03624362e-02, 3.28558137e-02, 5.42495782e-02, 2.97011479e-02,\n",
              "       6.89675570e-02, 6.49847263e-02, 7.38933747e-03, 5.29954725e-02,\n",
              "       5.16820683e-02, 4.11516845e-02, 3.42119637e-02, 2.83843264e-02,\n",
              "       4.45616035e-02, 5.02168768e-04, 2.11028896e-04, 3.14810056e-03,\n",
              "       4.13007296e-03, 3.20300064e-03, 3.94516351e-03, 5.26050302e-02,\n",
              "       6.35756773e-02, 2.96676301e-02, 1.58849831e-02, 5.08222246e-03,\n",
              "       4.19074527e-03, 6.27292741e-03, 5.63817119e-02, 2.20291046e-02])"
            ]
          },
          "metadata": {},
          "execution_count": 79
        }
      ]
    },
    {
      "cell_type": "code",
      "source": [
        "# #get names in correct preproc order\n",
        "cat_names = grid_search.best_estimator_.named_steps['preproc'].transformers_[0][1].named_steps['onehot_cat'].get_feature_names()\n",
        "num_names = grid_search.best_estimator_.named_steps['preproc'].transformers_[1][2]\n",
        "\n",
        "# #create df with vip info\n",
        "coef_info = pd.DataFrame({'feat_names':np.hstack([cat_names, num_names]), 'vip': vip})\n",
        "\n",
        "# #get sign and magnitude information\n",
        "coef_info = coef_info.assign(coef_mag = abs(coef_info['vip']),\n",
        "                             coef_sign = np.sign(coef_info['vip']))\n",
        "\n",
        "# #sort and plot\n",
        "coef_info = coef_info.set_index('feat_names').sort_values(by='coef_mag', ascending=False)\n",
        "pyplot.figure(figsize = (20,10))\n",
        "sns.barplot(y=coef_info.index, x='coef_mag', hue='coef_sign', data=coef_info, orient='h', dodge=False)"
      ],
      "metadata": {
        "colab": {
          "base_uri": "https://localhost:8080/",
          "height": 592
        },
        "id": "vmj4SjJmWBoK",
        "outputId": "82ffdb41-81ba-4c19-ef73-69ecc4cc8aed"
      },
      "execution_count": 80,
      "outputs": [
        {
          "output_type": "stream",
          "name": "stderr",
          "text": [
            "/usr/local/lib/python3.7/dist-packages/sklearn/utils/deprecation.py:87: FutureWarning: Function get_feature_names is deprecated; get_feature_names is deprecated in 1.0 and will be removed in 1.2. Please use get_feature_names_out instead.\n",
            "  warnings.warn(msg, category=FutureWarning)\n"
          ]
        },
        {
          "output_type": "execute_result",
          "data": {
            "text/plain": [
              "<matplotlib.axes._subplots.AxesSubplot at 0x7fe891da6a90>"
            ]
          },
          "metadata": {},
          "execution_count": 80
        },
        {
          "output_type": "display_data",
          "data": {
            "text/plain": [
              "<Figure size 1440x720 with 1 Axes>"
            ],
            "image/png": "[encoded data removed]"
          },
          "metadata": {
            "needs_background": "light"
          }
        }
      ]
    },
    {
      "cell_type": "markdown",
      "source": [
        "#Performance metrics on test data"
      ],
      "metadata": {
        "id": "9PZypUUgWW0g"
      }
    },
    {
      "cell_type": "code",
      "source": [
        "print(classification_report(y_test, grid_search.best_estimator_.predict(X_test)))"
      ],
      "metadata": {
        "colab": {
          "base_uri": "https://localhost:8080/"
        },
        "id": "Xyp1i0I2Wbdq",
        "outputId": "5f04555d-2a00-4a8d-b59a-363a5a6bfb1b"
      },
      "execution_count": 81,
      "outputs": [
        {
          "output_type": "stream",
          "name": "stdout",
          "text": [
            "              precision    recall  f1-score   support\n",
            "\n",
            "           0       0.90      0.96      0.93       155\n",
            "           1       0.98      0.95      0.97       345\n",
            "\n",
            "    accuracy                           0.95       500\n",
            "   macro avg       0.94      0.96      0.95       500\n",
            "weighted avg       0.96      0.95      0.95       500\n",
            "\n"
          ]
        }
      ]
    },
    {
      "cell_type": "code",
      "source": [
        "cm = confusion_matrix(y_test, grid_search.best_estimator_.predict(X_test))\n",
        "disp = ConfusionMatrixDisplay(confusion_matrix=cm,\n",
        "                               display_labels=grid_search.classes_)\n",
        "disp.plot()\n",
        "\n",
        "pyplot.show()"
      ],
      "metadata": {
        "colab": {
          "base_uri": "https://localhost:8080/",
          "height": 279
        },
        "id": "luM1IxzqWwlL",
        "outputId": "8f7274b4-1cb7-44a7-ebe2-6cd51a6a78ea"
      },
      "execution_count": 82,
      "outputs": [
        {
          "output_type": "display_data",
          "data": {
            "text/plain": [
              "<Figure size 432x288 with 2 Axes>"
            ],
            "image/png": "[encoded data removed]"
          },
          "metadata": {
            "needs_background": "light"
          }
        }
      ]
    },
    {
      "cell_type": "markdown",
      "source": [
        "Average cost of total loss of asset, including data = 10,000 dollars<br> \n",
        "Average intervention cost = 500 dollars <br>\n",
        "Intervention is successful (prevent attack from spreading) 95% of the time\n",
        "\n",
        "##GBM Cost/Benefit\n",
        "\n",
        "149 Bening actual Benign<br>\n",
        "6 Benign predicted as Attack<br>\n",
        "22 Attacks predicted as Bening<br>\n",
        "323 Attacks predicted as attack<br>\n",
        "\n",
        "6 benign predicted as attack = 3,000 dollars<br>\n",
        "95% of 323 attacks stopped so 16.15 attacks successful = 169,575 dollars<br>\n",
        "95% of 323 attacks id'd correctly = 306.9<br>\n",
        "306.9 x 10,500 = 3,222,450 dollars savings<br>\n",
        "\n",
        "##LogisticRegression Cost/Benefit\n",
        "139 Bening actual Benign<br>\n",
        "16 Benign predicted as Attack<br>\n",
        "54 Attacks predicted as Bening<br>\n",
        "291 Attacks predicted as attack<br>\n",
        "\n",
        "16 benign predicted as attack = 8,000 dollars<br>\n",
        "95% of 291 attacks stopped so 14.55 attacks successful = 152,775 dollars<br>\n",
        "95% of 291 atacks id'd correctly = 276.45<br>\n",
        "276.45 x 10,500 = 2,902,725 dollars savings<br>\n",
        "\n",
        "##RandomForest Cost/Benefit\n",
        "149 Bening actual Benign<br>\n",
        "6 Benign predicted as Attack<br>\n",
        "17 Attacks predicted as Bening<br>\n",
        "328 Attacks predicted as attack<br>\n",
        "\n",
        "6 benign predicted as attack = 3,000 dollars<br>\n",
        "95% of 328 attacks stopped so 16.4 successful = 172,200 dollars<br>\n",
        "95% of 328 attacks id'd correctly = 311.16<br>\n",
        "311.16 x 10,500 = 3,267,180 dollars savings<br>"
      ],
      "metadata": {
        "id": "rawpIeFHwfPV"
      }
    }
  ]
}