{
  "nbformat": 4,
  "nbformat_minor": 0,
  "metadata": {
    "colab": {
      "name": "Untitled0.ipynb",
      "provenance": [],
      "authorship_tag": "ABX9TyP5grR5ANgcQOmc98svjFoS",
      "include_colab_link": true
    },
    "kernelspec": {
      "name": "python3",
      "display_name": "Python 3"
    },
    "language_info": {
      "name": "python"
    }
  },
  "cells": [
    {
      "cell_type": "markdown",
      "metadata": {
        "id": "view-in-github",
        "colab_type": "text"
      },
      "source": [
        "<a href=\"https://colab.research.google.com/github/vanderbilt-ml/51-boyce-mlproj-NIDS/blob/main/NIDS.ipynb\" target=\"_parent\"><img src=\"https://colab.research.google.com/assets/colab-badge.svg\" alt=\"Open In Colab\"/></a>"
      ]
    },
    {
      "cell_type": "code",
      "execution_count": null,
      "metadata": {
        "id": "DwwyvHdJ3Gcv"
      },
      "outputs": [],
      "source": [
        ""
      ]
    },
    {
      "cell_type": "markdown",
      "source": [
        "#Network Intrusion Detection System Classifier\n",
        "\n",
        "###Background\n",
        "Network Intrusion Detections Systems (NIDS) have been used in network defense for quite some time. It is of great importance, however, to keep NIDS systems updated to identify new and evolving attack types. Researchers at the University of Queensland, Australia have produced consolidated datasets to include attacks against IoT devices and data comprising attacks against multiple test networks. Of particular interest here as well is that the data is, essentially, brand new. \n",
        "\n",
        "###Description\n",
        "The work in this project will focus on using the provided data to create a Machine Learning model that can be used to create a NIDS in my home lab. This is something I have wanted to do for quite some time. I do not have any IoT devices running in the lab at the moment but may in the future and will aply the IoT data here as well.\n",
        "\n",
        "###Metric\n",
        "For now, the goal will be to classify traffic reflected in the dataset - bot, recon, worm, etc - with a score of 60% to allow for human intervention/triage. At the moment, I'm not too worried about DoS as I do not think anyone is DoS'ing me.\n",
        "\n",
        "###Sources\n",
        "Per the request of the researchers in using the data for academic purposes, the following papers are cited:\n",
        "\n",
        "Sarhan, M., Layeghy, S. & Portmann, M. Towards a Standard Feature Set for Network Intrusion Detection System Datasets. Mobile Netw Appl (2021). https://doi.org/10.1007/s11036-021-01843-0\n",
        "\n",
        "M. Sarhan, S. Layeghy, and M. Portmann, An explainable machine learning-based network intrusion detection system for enabling generalisability in securing iot networks, 2021. arXiv:2104.07183 [cs.CR] https://arxiv.org/abs/2104.07183\n",
        "\n",
        "Sarhan M., Layeghy S., Moustafa N., Portmann M. (2021) NetFlow Datasets for Machine Learning-Based Network Intrusion Detection Systems. In: Big Data Technologies and Applications. BDTA 2020, WiCON 2020. Springer, Cham. https://doi.org/10.1007/978-3-030-72802-1_9"
      ],
      "metadata": {
        "id": "WMhydK-F3x45"
      }
    },
    {
      "cell_type": "markdown",
      "source": [
        "##Libraries:"
      ],
      "metadata": {
        "id": "qFI4psdBwImU"
      }
    },
    {
      "cell_type": "code",
      "source": [
        "import pandas as pd\n",
        "import numpy as np\n",
        "import seaborn as sns\n",
        "import matplotlib.pyplot as plt\n",
        "from sklearn.model_selection import train_test_split\n",
        "from sklearn.preprocessing import RobustScaler, OneHotEncoder, StandardScaler, MinMaxScaler\n"
      ],
      "metadata": {
        "id": "10SkVnkYs8mC"
      },
      "execution_count": 1,
      "outputs": []
    },
    {
      "cell_type": "markdown",
      "source": [
        "##Load data"
      ],
      "metadata": {
        "id": "cia4ejI1Ws8D"
      }
    },
    {
      "cell_type": "code",
      "source": [
        "transactions = pd.read_csv('NF-UQ-NIDS-v2_half.csv', nrows=2000)\n"
      ],
      "metadata": {
        "id": "7J-102puWu3_"
      },
      "execution_count": 5,
      "outputs": []
    },
    {
      "cell_type": "markdown",
      "source": [
        "##Explore Data"
      ],
      "metadata": {
        "id": "aX1UqsoIXgoj"
      }
    },
    {
      "cell_type": "code",
      "source": [
        "#overall info\n",
        "display(transactions.info())\n",
        "#transactions.describe()\n",
        "#transactions.columns"
      ],
      "metadata": {
        "id": "G-VNIv4fXf6d",
        "outputId": "a9218911-ccc5-46ef-893c-7f51c9e0d523",
        "colab": {
          "base_uri": "https://localhost:8080/",
          "height": 997
        }
      },
      "execution_count": 8,
      "outputs": [
        {
          "output_type": "stream",
          "name": "stdout",
          "text": [
            "<class 'pandas.core.frame.DataFrame'>\n",
            "RangeIndex: 2000 entries, 0 to 1999\n",
            "Data columns (total 46 columns):\n",
            " #   Column                       Non-Null Count  Dtype  \n",
            "---  ------                       --------------  -----  \n",
            " 0   IPV4_SRC_ADDR                2000 non-null   object \n",
            " 1   L4_SRC_PORT                  2000 non-null   int64  \n",
            " 2   IPV4_DST_ADDR                2000 non-null   object \n",
            " 3   L4_DST_PORT                  2000 non-null   int64  \n",
            " 4   PROTOCOL                     2000 non-null   int64  \n",
            " 5   L7_PROTO                     2000 non-null   float64\n",
            " 6   IN_BYTES                     2000 non-null   int64  \n",
            " 7   IN_PKTS                      2000 non-null   int64  \n",
            " 8   OUT_BYTES                    2000 non-null   int64  \n",
            " 9   OUT_PKTS                     2000 non-null   int64  \n",
            " 10  TCP_FLAGS                    2000 non-null   int64  \n",
            " 11  CLIENT_TCP_FLAGS             2000 non-null   int64  \n",
            " 12  SERVER_TCP_FLAGS             2000 non-null   int64  \n",
            " 13  FLOW_DURATION_MILLISECONDS   2000 non-null   int64  \n",
            " 14  DURATION_IN                  2000 non-null   int64  \n",
            " 15  DURATION_OUT                 2000 non-null   int64  \n",
            " 16  MIN_TTL                      2000 non-null   int64  \n",
            " 17  MAX_TTL                      2000 non-null   int64  \n",
            " 18  LONGEST_FLOW_PKT             2000 non-null   int64  \n",
            " 19  SHORTEST_FLOW_PKT            2000 non-null   int64  \n",
            " 20  MIN_IP_PKT_LEN               2000 non-null   int64  \n",
            " 21  MAX_IP_PKT_LEN               2000 non-null   int64  \n",
            " 22  SRC_TO_DST_SECOND_BYTES      2000 non-null   float64\n",
            " 23  DST_TO_SRC_SECOND_BYTES      2000 non-null   float64\n",
            " 24  RETRANSMITTED_IN_BYTES       2000 non-null   int64  \n",
            " 25  RETRANSMITTED_IN_PKTS        2000 non-null   int64  \n",
            " 26  RETRANSMITTED_OUT_BYTES      2000 non-null   int64  \n",
            " 27  RETRANSMITTED_OUT_PKTS       2000 non-null   int64  \n",
            " 28  SRC_TO_DST_AVG_THROUGHPUT    2000 non-null   int64  \n",
            " 29  DST_TO_SRC_AVG_THROUGHPUT    2000 non-null   int64  \n",
            " 30  NUM_PKTS_UP_TO_128_BYTES     2000 non-null   int64  \n",
            " 31  NUM_PKTS_128_TO_256_BYTES    2000 non-null   int64  \n",
            " 32  NUM_PKTS_256_TO_512_BYTES    2000 non-null   int64  \n",
            " 33  NUM_PKTS_512_TO_1024_BYTES   2000 non-null   int64  \n",
            " 34  NUM_PKTS_1024_TO_1514_BYTES  2000 non-null   int64  \n",
            " 35  TCP_WIN_MAX_IN               2000 non-null   int64  \n",
            " 36  TCP_WIN_MAX_OUT              2000 non-null   int64  \n",
            " 37  ICMP_TYPE                    2000 non-null   int64  \n",
            " 38  ICMP_IPV4_TYPE               2000 non-null   int64  \n",
            " 39  DNS_QUERY_ID                 2000 non-null   int64  \n",
            " 40  DNS_QUERY_TYPE               2000 non-null   int64  \n",
            " 41  DNS_TTL_ANSWER               2000 non-null   int64  \n",
            " 42  FTP_COMMAND_RET_CODE         2000 non-null   int64  \n",
            " 43  Label                        2000 non-null   int64  \n",
            " 44  Attack                       2000 non-null   object \n",
            " 45  Dataset                      2000 non-null   object \n",
            "dtypes: float64(3), int64(39), object(4)\n",
            "memory usage: 718.9+ KB\n"
          ]
        },
        {
          "output_type": "display_data",
          "data": {
            "text/plain": [
              "None"
            ]
          },
          "metadata": {}
        }
      ]
    },
    {
      "cell_type": "code",
      "source": [
        "#source IP info \n",
        "display(transactions['IPV4_SRC_ADDR'].nunique())\n",
        "display(transactions['IPV4_SRC_ADDR'].value_counts().idxmax())\n",
        "#top_five_src = transactions['IPV4_SRC_ADDR'].value_counts()[:5].index.tolist()\n",
        "#display(top_five_src)\n",
        "display(\"**************************************************************\")\n",
        "#dest IP info\n",
        "display(transactions['IPV4_DST_ADDR'].nunique())\n",
        "display(transactions['IPV4_DST_ADDR'].value_counts().idxmax())\n",
        "#top_five_dst = transactions['IPV4_DST_ADDR'].value_counts()[:5].index.tolist()\n",
        "#display(top_five_dst)\n",
        "display(\"**************************************************************\")\n",
        "#average packets inbound per session\n",
        "display(transactions[\"IN_PKTS\"].mean())\n",
        "display(\"**************************************************************\")\n",
        "#average packets outbound per session\n",
        "display(transactions[\"OUT_PKTS\"].mean())\n",
        "display(\"**************************************************************\")\n",
        "#Unknown data\n",
        "display(transactions['PROTOCOL'].value_counts())\n",
        "display(transactions['L7_PROTO'].value_counts())"
      ],
      "metadata": {
        "id": "oKEfkDZSZyMU",
        "outputId": "eb49fbd5-dfc1-4de2-e534-6683e8ed46ec",
        "colab": {
          "base_uri": "https://localhost:8080/",
          "height": 1000
        }
      },
      "execution_count": null,
      "outputs": [
        {
          "output_type": "display_data",
          "data": {
            "text/plain": [
              "402"
            ]
          },
          "metadata": {}
        },
        {
          "output_type": "display_data",
          "data": {
            "text/plain": [
              "'192.168.100.148'"
            ],
            "application/vnd.google.colaboratory.intrinsic+json": {
              "type": "string"
            }
          },
          "metadata": {}
        },
        {
          "output_type": "display_data",
          "data": {
            "text/plain": [
              "'**************************************************************'"
            ],
            "application/vnd.google.colaboratory.intrinsic+json": {
              "type": "string"
            }
          },
          "metadata": {}
        },
        {
          "output_type": "display_data",
          "data": {
            "text/plain": [
              "276"
            ]
          },
          "metadata": {}
        },
        {
          "output_type": "display_data",
          "data": {
            "text/plain": [
              "'192.168.100.3'"
            ],
            "application/vnd.google.colaboratory.intrinsic+json": {
              "type": "string"
            }
          },
          "metadata": {}
        },
        {
          "output_type": "display_data",
          "data": {
            "text/plain": [
              "'**************************************************************'"
            ],
            "application/vnd.google.colaboratory.intrinsic+json": {
              "type": "string"
            }
          },
          "metadata": {}
        },
        {
          "output_type": "display_data",
          "data": {
            "text/plain": [
              "7.4145"
            ]
          },
          "metadata": {}
        },
        {
          "output_type": "display_data",
          "data": {
            "text/plain": [
              "'**************************************************************'"
            ],
            "application/vnd.google.colaboratory.intrinsic+json": {
              "type": "string"
            }
          },
          "metadata": {}
        },
        {
          "output_type": "display_data",
          "data": {
            "text/plain": [
              "4.113"
            ]
          },
          "metadata": {}
        },
        {
          "output_type": "display_data",
          "data": {
            "text/plain": [
              "'**************************************************************'"
            ],
            "application/vnd.google.colaboratory.intrinsic+json": {
              "type": "string"
            }
          },
          "metadata": {}
        },
        {
          "output_type": "display_data",
          "data": {
            "text/plain": [
              "6     1230\n",
              "17     767\n",
              "1        2\n",
              "2        1\n",
              "Name: PROTOCOL, dtype: int64"
            ]
          },
          "metadata": {}
        },
        {
          "output_type": "display_data",
          "data": {
            "text/plain": [
              "0.000      665\n",
              "7.000      631\n",
              "188.000    473\n",
              "91.000      44\n",
              "5.126       40\n",
              "1.000       18\n",
              "91.178      13\n",
              "7.178       11\n",
              "41.000      11\n",
              "91.126      10\n",
              "5.178       10\n",
              "131.700      9\n",
              "92.000       9\n",
              "77.000       7\n",
              "5.119        5\n",
              "5.240        4\n",
              "4.000        4\n",
              "5.239        3\n",
              "91.239       3\n",
              "91.140       2\n",
              "7.126        2\n",
              "166.000      2\n",
              "91.120       2\n",
              "91.212       2\n",
              "91.119       1\n",
              "51.000       1\n",
              "5.233        1\n",
              "91.240       1\n",
              "28.000       1\n",
              "91.290       1\n",
              "2.000        1\n",
              "91.233       1\n",
              "29.000       1\n",
              "5.700        1\n",
              "5.000        1\n",
              "10.000       1\n",
              "5.169        1\n",
              "226.000      1\n",
              "131.000      1\n",
              "5.120        1\n",
              "150.000      1\n",
              "5.215        1\n",
              "88.000       1\n",
              "5.212        1\n",
              "Name: L7_PROTO, dtype: int64"
            ]
          },
          "metadata": {}
        }
      ]
    },
    {
      "cell_type": "code",
      "source": [
        "#visualize top 10 src IPs\n",
        "#running on top 10 for display purposes\n",
        "src_ips = transactions['IPV4_SRC_ADDR'].value_counts()[:10]\n",
        "plt.pie(src_ips, labels=src_ips.index, shadow = True)\n"
      ],
      "metadata": {
        "id": "910Laaxzb_PG",
        "outputId": "935b357c-50fb-4fd6-9010-628c16b8d69b",
        "colab": {
          "base_uri": "https://localhost:8080/",
          "height": 611
        }
      },
      "execution_count": null,
      "outputs": [
        {
          "output_type": "execute_result",
          "data": {
            "text/plain": [
              "([<matplotlib.patches.Wedge at 0x7ff04a81d7d0>,\n",
              "  <matplotlib.patches.Wedge at 0x7ff04a822ad0>,\n",
              "  <matplotlib.patches.Wedge at 0x7ff04a7b0110>,\n",
              "  <matplotlib.patches.Wedge at 0x7ff04a7b5750>,\n",
              "  <matplotlib.patches.Wedge at 0x7ff04a7c4c50>,\n",
              "  <matplotlib.patches.Wedge at 0x7ff04a7c96d0>,\n",
              "  <matplotlib.patches.Wedge at 0x7ff04a7d0a90>,\n",
              "  <matplotlib.patches.Wedge at 0x7ff04a7d6b90>,\n",
              "  <matplotlib.patches.Wedge at 0x7ff04a7bfc90>,\n",
              "  <matplotlib.patches.Wedge at 0x7ff04a76a710>],\n",
              " [Text(0.8723622171446687, 0.6700628045925532, '192.168.100.148'),\n",
              "  Text(-0.4105293228121579, 1.0205222560588236, '192.168.100.147'),\n",
              "  Text(-1.0994914161546159, 0.033445863754989494, '192.168.100.149'),\n",
              "  Text(-0.6546554873688508, -0.883983140595935, '192.168.100.150'),\n",
              "  Text(0.09124219293333284, -1.0962093149707846, '192.168.1.31'),\n",
              "  Text(0.5845348205949307, -0.9318363823719551, '192.168.1.32'),\n",
              "  Text(0.8983119082306691, -0.6348509396157291, '192.168.1.30'),\n",
              "  Text(1.038180581316866, -0.3635671610260943, '192.168.1.35'),\n",
              "  Text(1.0812704142442073, -0.2021244450336484, '192.168.1.39'),\n",
              "  Text(1.0979661313836486, -0.0668608580144201, '192.168.1.34')])"
            ]
          },
          "metadata": {},
          "execution_count": 156
        },
        {
          "output_type": "display_data",
          "data": {
            "text/plain": [
              "<Figure size 432x288 with 1 Axes>"
            ],
            "image/png": "[encoded data removed]"
          },
          "metadata": {}
        }
      ]
    },
    {
      "cell_type": "code",
      "source": [
        "#visualize PROTOCOL and TCP FLAGS \n",
        "proto = transactions['PROTOCOL'].value_counts()\n",
        "#plt.pie(proto, labels=proto.index, shadow = True)\n",
        "\n",
        "src_port = transactions['L4_SRC_PORT'].value_counts()\n",
        "#plt.pie(src_port, labels=src_port.index, shadow = True)\n",
        "#plt.scatter(x=transactions['L4_SRC_PORT'], y=transactions['PROTOCOL'])\n",
        "tcp_flags = transactions['TCP_FLAGS'].value_counts()\n",
        "\n",
        "#plt.scatter(x=transactions['TCP_FLAGS'], y=transactions['PROTOCOL'])\n",
        "#tcp flag as 0 means not TCP\n",
        "#what this shows is that when TCP flags are 0, the corresponding protocol is not TCP(UDP)\n",
        "\n",
        "protos = transactions.groupby(['PROTOCOL']).size()\n",
        "display(protos)\n",
        "tcp_fls = transactions.groupby(['TCP_FLAGS']).size()\n",
        "display(tcp_fls)\n",
        "\n",
        "plt.bar(proto.index, proto.values, width=0.8)"
      ],
      "metadata": {
        "id": "OqtpgNBa9jRC",
        "outputId": "b0e1269a-c2a1-49e1-aed5-1fba5fc48730",
        "colab": {
          "base_uri": "https://localhost:8080/",
          "height": 810
        }
      },
      "execution_count": 6,
      "outputs": [
        {
          "output_type": "display_data",
          "data": {
            "text/plain": [
              "PROTOCOL\n",
              "1        2\n",
              "2        1\n",
              "6     1230\n",
              "17     767\n",
              "dtype: int64"
            ]
          },
          "metadata": {}
        },
        {
          "output_type": "display_data",
          "data": {
            "text/plain": [
              "TCP_FLAGS\n",
              "0      770\n",
              "2      543\n",
              "16      11\n",
              "17       3\n",
              "18      23\n",
              "19      34\n",
              "20       4\n",
              "22     202\n",
              "23       9\n",
              "24      14\n",
              "25       2\n",
              "26       1\n",
              "27     135\n",
              "28       1\n",
              "30      47\n",
              "31      27\n",
              "211      3\n",
              "214      3\n",
              "219     63\n",
              "222     48\n",
              "223     57\n",
              "dtype: int64"
            ]
          },
          "metadata": {}
        },
        {
          "output_type": "execute_result",
          "data": {
            "text/plain": [
              "<BarContainer object of 4 artists>"
            ]
          },
          "metadata": {},
          "execution_count": 6
        },
        {
          "output_type": "display_data",
          "data": {
            "text/plain": [
              "<Figure size 432x288 with 1 Axes>"
            ],
            "image/png": "[encoded data removed]"
          },
          "metadata": {
            "needs_background": "light"
          }
        }
      ]
    },
    {
      "cell_type": "code",
      "source": [
        "plt.scatter(x=transactions['TCP_FLAGS'], y=transactions['PROTOCOL'])\n",
        "#tcp flag as 0 means not TCP\n",
        "#what this shows is that when TCP flags are 0, the corresponding protocol is not TCP(UDP)\n",
        "#the 6 on the y axis has flags set the vast majority of the time"
      ],
      "metadata": {
        "id": "u5hMpzT4IQIP",
        "outputId": "c0867761-5a63-4ca3-eea4-7e39ceb5d28f",
        "colab": {
          "base_uri": "https://localhost:8080/",
          "height": 283
        }
      },
      "execution_count": null,
      "outputs": [
        {
          "output_type": "execute_result",
          "data": {
            "text/plain": [
              "<matplotlib.collections.PathCollection at 0x7ff04f223e10>"
            ]
          },
          "metadata": {},
          "execution_count": 169
        },
        {
          "output_type": "display_data",
          "data": {
            "text/plain": [
              "<Figure size 432x288 with 1 Axes>"
            ],
            "image/png": "[encoded data removed]"
          },
          "metadata": {
            "needs_background": "light"
          }
        }
      ]
    },
    {
      "cell_type": "code",
      "source": [
        "#visualize "
      ],
      "metadata": {
        "id": "D7RJcklh-ATQ"
      },
      "execution_count": null,
      "outputs": []
    }
  ]
}